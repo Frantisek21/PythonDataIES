{
 "cells": [
  {
   "attachments": {},
   "cell_type": "markdown",
   "metadata": {},
   "source": [
    "# Seminar 1\n",
    "\n",
    "by Martin Hronec\n",
    "\n",
    "(27th of February)"
   ]
  },
  {
   "attachments": {},
   "cell_type": "markdown",
   "metadata": {},
   "source": [
    "### input\n",
    "* prompt the user for their name and age \n",
    "* then calculate the year in which the user will turn 100 years old and print the result.\n",
    "\n",
    "```\n",
    "What is your name? John\n",
    "What is your age? 30\n",
    "John, you will turn 100 years old in the year 2090.\n",
    "```\n",
    "\n",
    "**Hint** use `input()` and `datetime.datetime.now()` methods"
   ]
  },
  {
   "cell_type": "code",
   "execution_count": 1,
   "metadata": {},
   "outputs": [
    {
     "name": "stdout",
     "output_type": "stream",
     "text": [
      "Franta, you will turn 100 years old in the year 2102.\n"
     ]
    }
   ],
   "source": [
    "import datetime\n",
    "\n",
    "# Prompt the user for their name and age\n",
    "name = input(\"What is your name? \")\n",
    "age = int(input(\"What is your age? \"))\n",
    "\n",
    "# Calculate the year in which the user will turn 100 years old\n",
    "current_year = datetime.datetime.now().year\n",
    "year_of_100 = current_year + (100 - age)\n",
    "\n",
    "# Print the result\n",
    "print(f\"{name}, you will turn 100 years old in the year {year_of_100}.\")"
   ]
  },
  {
   "attachments": {},
   "cell_type": "markdown",
   "metadata": {},
   "source": [
    "### For loops\n",
    "* print multiplication table from 1 to 10"
   ]
  },
  {
   "cell_type": "code",
   "execution_count": 2,
   "metadata": {},
   "outputs": [
    {
     "name": "stdout",
     "output_type": "stream",
     "text": [
      "1 × 1 = 1\n",
      "1 × 2 = 2\n",
      "1 × 3 = 3\n",
      "1 × 4 = 4\n",
      "1 × 5 = 5\n",
      "1 × 6 = 6\n",
      "1 × 7 = 7\n",
      "1 × 8 = 8\n",
      "1 × 9 = 9\n",
      "1 × 10 = 10\n",
      "2 × 1 = 2\n",
      "2 × 2 = 4\n",
      "2 × 3 = 6\n",
      "2 × 4 = 8\n",
      "2 × 5 = 10\n",
      "2 × 6 = 12\n",
      "2 × 7 = 14\n",
      "2 × 8 = 16\n",
      "2 × 9 = 18\n",
      "2 × 10 = 20\n",
      "3 × 1 = 3\n",
      "3 × 2 = 6\n",
      "3 × 3 = 9\n",
      "3 × 4 = 12\n",
      "3 × 5 = 15\n",
      "3 × 6 = 18\n",
      "3 × 7 = 21\n",
      "3 × 8 = 24\n",
      "3 × 9 = 27\n",
      "3 × 10 = 30\n",
      "4 × 1 = 4\n",
      "4 × 2 = 8\n",
      "4 × 3 = 12\n",
      "4 × 4 = 16\n",
      "4 × 5 = 20\n",
      "4 × 6 = 24\n",
      "4 × 7 = 28\n",
      "4 × 8 = 32\n",
      "4 × 9 = 36\n",
      "4 × 10 = 40\n",
      "5 × 1 = 5\n",
      "5 × 2 = 10\n",
      "5 × 3 = 15\n",
      "5 × 4 = 20\n",
      "5 × 5 = 25\n",
      "5 × 6 = 30\n",
      "5 × 7 = 35\n",
      "5 × 8 = 40\n",
      "5 × 9 = 45\n",
      "5 × 10 = 50\n",
      "6 × 1 = 6\n",
      "6 × 2 = 12\n",
      "6 × 3 = 18\n",
      "6 × 4 = 24\n",
      "6 × 5 = 30\n",
      "6 × 6 = 36\n",
      "6 × 7 = 42\n",
      "6 × 8 = 48\n",
      "6 × 9 = 54\n",
      "6 × 10 = 60\n",
      "7 × 1 = 7\n",
      "7 × 2 = 14\n",
      "7 × 3 = 21\n",
      "7 × 4 = 28\n",
      "7 × 5 = 35\n",
      "7 × 6 = 42\n",
      "7 × 7 = 49\n",
      "7 × 8 = 56\n",
      "7 × 9 = 63\n",
      "7 × 10 = 70\n",
      "8 × 1 = 8\n",
      "8 × 2 = 16\n",
      "8 × 3 = 24\n",
      "8 × 4 = 32\n",
      "8 × 5 = 40\n",
      "8 × 6 = 48\n",
      "8 × 7 = 56\n",
      "8 × 8 = 64\n",
      "8 × 9 = 72\n",
      "8 × 10 = 80\n",
      "9 × 1 = 9\n",
      "9 × 2 = 18\n",
      "9 × 3 = 27\n",
      "9 × 4 = 36\n",
      "9 × 5 = 45\n",
      "9 × 6 = 54\n",
      "9 × 7 = 63\n",
      "9 × 8 = 72\n",
      "9 × 9 = 81\n",
      "9 × 10 = 90\n",
      "10 × 1 = 10\n",
      "10 × 2 = 20\n",
      "10 × 3 = 30\n",
      "10 × 4 = 40\n",
      "10 × 5 = 50\n",
      "10 × 6 = 60\n",
      "10 × 7 = 70\n",
      "10 × 8 = 80\n",
      "10 × 9 = 90\n",
      "10 × 10 = 100\n"
     ]
    }
   ],
   "source": [
    "for i in range(1,11):\n",
    "    for j in range(1,11):\n",
    "        number = i * j\n",
    "        print(f\"{i} × {j} = {number}\")"
   ]
  },
  {
   "attachments": {},
   "cell_type": "markdown",
   "metadata": {},
   "source": [
    "### Merge dictionaries\n",
    "Create 2 different dictionaries and merge them."
   ]
  },
  {
   "cell_type": "code",
   "execution_count": 3,
   "metadata": {},
   "outputs": [
    {
     "name": "stdout",
     "output_type": "stream",
     "text": [
      "{'a': 1, 'b': 2, 'c': 69}\n"
     ]
    }
   ],
   "source": [
    "dict_a = {'a':1, 'b':2}\n",
    "dict_b = {'c':69}\n",
    "\n",
    "dict_a.update(dict_b)\n",
    "\n",
    "print(dict_a)"
   ]
  },
  {
   "attachments": {},
   "cell_type": "markdown",
   "metadata": {},
   "source": [
    "### Conditionals\n",
    "\n",
    " Calculate income tax for the given income by adhering to the below rules:\n",
    " * first 5k, tax rate 0%\n",
    " * next 10k, tax rate 10%\n",
    " * remainning, tax rate 20%\n",
    "\n"
   ]
  },
  {
   "cell_type": "code",
   "execution_count": 5,
   "metadata": {},
   "outputs": [
    {
     "name": "stdout",
     "output_type": "stream",
     "text": [
      "The income tax for 12000 is 400.0\n"
     ]
    }
   ],
   "source": [
    "income = 12000\n",
    "\n",
    "if income == 5000:\n",
    "    tax = 0\n",
    "elif income == 15000:\n",
    "    tax = (income - 5000)*0.1\n",
    "else:\n",
    "    tax = 10000*0.1 + (income - 15000)*0.2\n",
    "\n",
    "print(f\"The income tax for {income} is {tax}\")"
   ]
  },
  {
   "attachments": {},
   "cell_type": "markdown",
   "metadata": {},
   "source": [
    "### Comprehensions\n",
    "\n",
    "1. Write a Python program that takes a list of numbers and creates a dictionary where the keys are the numbers and the values are their squares.\n",
    "2. Take the dictionary from the part above, and changes keys for values (and vice versa) using list comprehension.\n",
    "3. Create new dictionary by changing values from dictionary above to be strings containning original number followed with letter \"p\". Keys should remain the same."
   ]
  },
  {
   "cell_type": "code",
   "execution_count": 8,
   "metadata": {},
   "outputs": [
    {
     "name": "stdout",
     "output_type": "stream",
     "text": [
      "{1: 1, 2: 4, 3: 9, 4: 16, 5: 25}\n",
      "{1: 1, 4: 2, 9: 3, 16: 4, 25: 5}\n",
      "{1: '1p', 2: '4p', 3: '9p', 4: '16p', 5: '25p'}\n"
     ]
    }
   ],
   "source": [
    "#1\n",
    "numbers = [1, 2, 3, 4, 5]\n",
    "squares_dict = {num: num*num for num in numbers}\n",
    "\n",
    "print(squares_dict)\n",
    "\n",
    "#2\n",
    "swapped_dict = {value: key for key, value in squares_dict.items()}\n",
    "\n",
    "print(swapped_dict)\n",
    "\n",
    "#3\n",
    "p_dict = {key: str(value) + 'p' for key, value in squares_dict.items()}\n",
    "\n",
    "print(p_dict)"
   ]
  },
  {
   "attachments": {},
   "cell_type": "markdown",
   "metadata": {},
   "source": [
    "### Dictionary manipulation\n",
    "\n",
    "1. Create a dictionary of 1000 students. Keys should be random strings of lenght 5 containning random characters  and values should be random grades (from 1 to 5). \n",
    "**Hint**: use module `string` and module `random`\n",
    "2. Modify functionality written in the point above so that keys are random string of lengths from 3 to 10\n",
    "3. Write a program that takes a dictionary of student names and their grades from the 1st part and calculates the average grade for the class\n",
    "4. Also calculate number of times each grade has occurred."
   ]
  },
  {
   "cell_type": "code",
   "execution_count": 17,
   "metadata": {},
   "outputs": [
    {
     "name": "stdout",
     "output_type": "stream",
     "text": [
      "{'lpWxz': 1, 'hdBYY': 3, 'HXOYu': 2, 'qysHk': 4, 'YFNXu': 5, 'PJQut': 2, 'cTlhD': 2, 'DffXy': 4, 'kPyYZ': 2, 'NSPmy': 4, 'BMNFn': 3, 'ZTVvX': 4, 'zOkpn': 3, 'TzfcH': 5, 'cDRmX': 1, 'wRsaC': 2, 'sEjJf': 5, 'JoLPe': 1, 'ryHMg': 5, 'vCtoQ': 4, 'QwEza': 1, 'JwOaQ': 5, 'VYHUF': 5, 'tpZJQ': 4, 'GrCHi': 1, 'AYMHP': 2, 'IwCys': 5, 'tVIja': 5, 'lkHUJ': 4, 'czpxN': 4, 'exDIv': 2, 'JNELi': 4, 'ouhQO': 5, 'KIeXj': 2, 'mTUJq': 1, 'JMOjX': 1, 'BUKec': 3, 'mjnLY': 2, 'WtwRH': 4, 'cBCyJ': 5, 'VFSWt': 2, 'sQzWv': 5, 'gRmcu': 4, 'MQLlh': 1, 'kIDlX': 1, 'ZpLUj': 3, 'zOJXd': 5, 'csQFm': 5, 'EnEEA': 5, 'UzktL': 5, 'iLXVp': 5, 'PkGDR': 4, 'AqNcW': 3, 'CymPS': 4, 'nIfDJ': 5, 'PxpWK': 1, 'TwAfa': 4, 'wzUcV': 3, 'zVfXT': 4, 'EfgPt': 5, 'KokxI': 2, 'nmpTu': 1, 'TDiYB': 2, 'pSgPh': 3, 'cvYhV': 4, 'lwJWR': 2, 'Ugsmw': 2, 'VXkUU': 1, 'MCIWT': 4, 'uzXCY': 2, 'hxkVF': 3, 'CfJON': 5, 'yyplT': 4, 'ulWKG': 4, 'sEFDt': 5, 'TiYMX': 4, 'GabtN': 1, 'XGBXe': 3, 'DYAws': 5, 'NYESd': 4, 'slxUy': 2, 'AmMxN': 4, 'sXoTe': 1, 'dEDzy': 5, 'nhQLS': 4, 'ZLMUJ': 5, 'kjAWk': 5, 'VajcN': 2, 'KEuML': 3, 'xNZiy': 3, 'ttukX': 1, 'HnEDC': 5, 'KShQe': 5, 'GhePo': 4, 'KGnrb': 1, 'LYPvS': 1, 'YYJjw': 3, 'yFAoT': 2, 'mnLop': 3, 'onJLQ': 1, 'lUOGn': 1, 'Zqaeo': 2, 'liZAP': 1, 'gLRBb': 1, 'ctMyW': 1, 'itrtb': 1, 'EJFqW': 3, 'LYCfU': 4, 'plaVA': 3, 'emsdv': 1, 'DJnwS': 4, 'xPWWw': 1, 'tvSXK': 1, 'WQugn': 4, 'eZtNv': 5, 'RoTRl': 3, 'RuFHw': 4, 'VyAhu': 2, 'FWySl': 4, 'vVagb': 1, 'tvjcZ': 5, 'dUhDS': 1, 'KfpLR': 1, 'iDbwj': 5, 'VYRJh': 5, 'iVgnO': 1, 'FlYNi': 3, 'hCqbN': 3, 'Bjdrn': 2, 'qmsyo': 2, 'ZgWyV': 4, 'DacTj': 4, 'HXpnE': 4, 'nChOt': 4, 'kwvnw': 5, 'tZuzc': 1, 'EceDe': 3, 'gfJZP': 4, 'IqolB': 3, 'dAyfk': 5, 'cyFHJ': 5, 'wGOkR': 1, 'dSnSI': 3, 'iIPnC': 2, 'oTGkk': 2, 'Tmugh': 4, 'rJRlJ': 1, 'DPgcm': 2, 'wxskp': 5, 'hqLUt': 3, 'ompNC': 3, 'GkYNP': 1, 'DCnuZ': 3, 'klRHp': 4, 'xYBdc': 5, 'bwaQh': 3, 'NNbtc': 1, 'feebQ': 3, 'yBVGS': 5, 'aVEee': 1, 'mOxjG': 2, 'UvBZH': 1, 'cXaZO': 2, 'lfpjs': 2, 'lnaPh': 1, 'OyIQk': 2, 'BKQbA': 2, 'jbRHQ': 4, 'biLBV': 2, 'SeYll': 5, 'eqWDT': 4, 'glKtj': 5, 'fbCQM': 4, 'VZIro': 1, 'FIYAi': 3, 'PkIfB': 2, 'BzsbV': 5, 'RTaTt': 4, 'qBKkM': 5, 'xakDs': 3, 'BDIbf': 4, 'NWWiZ': 2, 'MHwKA': 3, 'AaYCd': 4, 'GRDIx': 3, 'VhoJa': 1, 'eeRGT': 4, 'PTfMj': 3, 'vqwja': 2, 'oQwnz': 5, 'jqaJn': 1, 'FCeCZ': 3, 'qBnKF': 2, 'NGuPS': 3, 'rOeZp': 5, 'AJfuM': 1, 'Ycoqk': 1, 'aQdTg': 4, 'BchOX': 3, 'UjUuM': 3, 'ckmnT': 3, 'tPwck': 4, 'lWyWO': 1, 'OvSwv': 1, 'EDNIU': 5, 'VmmnF': 2, 'xwNKD': 2, 'iZHdf': 4, 'Cmmol': 3, 'HThHV': 5, 'tdqNb': 4, 'mzKWJ': 4, 'BjCog': 4, 'tWsRg': 3, 'Ngsit': 1, 'bskGn': 5, 'ZTFIY': 4, 'HnRQi': 2, 'vShuM': 2, 'MUtfM': 3, 'EqFDR': 2, 'UFdav': 3, 'KXIBG': 1, 'nwNtQ': 4, 'myfHb': 5, 'uICbx': 3, 'NUJhN': 4, 'DugYr': 4, 'OqWPO': 3, 'KOQZp': 2, 'drcRV': 3, 'TRqLY': 4, 'lcSaL': 1, 'Fxvds': 2, 'bZMTN': 5, 'qQAme': 1, 'pZwCQ': 2, 'yiPRT': 4, 'FUwfD': 2, 'npQsN': 1, 'PIjRy': 5, 'kvYIC': 1, 'lVCZu': 4, 'rPVgT': 5, 'FRJEk': 5, 'ZsAFJ': 5, 'YpsNE': 4, 'NUWLw': 4, 'IzdmE': 3, 'xyLMC': 2, 'didAl': 1, 'vAMMh': 1, 'iCdpW': 4, 'RPGJe': 4, 'gXFdr': 1, 'vFmZG': 2, 'vEHmU': 1, 'USFin': 1, 'hWtkF': 3, 'WxYbu': 5, 'PCCuI': 2, 'HWjwi': 4, 'txKQz': 5, 'tOjRK': 5, 'DGNqr': 2, 'rcoWY': 5, 'eMzEx': 1, 'cgMDu': 4, 'oCCkB': 2, 'MRQFh': 4, 'XZahb': 1, 'pAkbq': 5, 'ZBdBB': 4, 'nfmfi': 4, 'npmoP': 2, 'BCSCt': 1, 'VbpSM': 5, 'Tszip': 4, 'KsqlX': 4, 'wHSJk': 1, 'Bzuzq': 2, 'zNPaM': 1, 'vwnHt': 2, 'fcFEP': 5, 'FCGAT': 2, 'AhNqR': 2, 'oEZRU': 4, 'qgFQw': 1, 'UkWwQ': 5, 'mRulw': 3, 'mZbke': 2, 'yAxSA': 2, 'iROlr': 3, 'AFNsv': 4, 'iEGHy': 4, 'wNdan': 4, 'smPWb': 3, 'QlWzr': 1, 'pkniK': 2, 'SUebY': 4, 'iUzZx': 4, 'ZYzTs': 2, 'QoDyV': 1, 'HNmCV': 5, 'ceLEf': 1, 'yeQuZ': 5, 'mtkuo': 2, 'kgnJw': 5, 'ojWvc': 4, 'CDEcQ': 4, 'lLGfs': 2, 'wqWpx': 4, 'nxXVS': 3, 'nvcvN': 2, 'kmayz': 4, 'GDWlZ': 3, 'mfvXQ': 5, 'GsCGy': 3, 'dcWPz': 5, 'bxjaE': 3, 'dsSel': 5, 'bYAFH': 1, 'mxorI': 2, 'XJcOg': 1, 'nZXxr': 3, 'TQczt': 5, 'EqXOV': 2, 'IFeFu': 2, 'Fhrjx': 2, 'sIbZr': 5, 'pNNet': 3, 'FDNqu': 2, 'wXvfA': 1, 'fMZXo': 5, 'KDcZV': 2, 'PGfhm': 1, 'UglRl': 3, 'bcYnj': 3, 'AQNij': 3, 'pfHEo': 4, 'wNCqu': 4, 'UcPCW': 5, 'jnHMT': 5, 'LtsCi': 5, 'hVXaZ': 2, 'bKDHl': 3, 'HsGvR': 2, 'DlKEc': 3, 'YaiAx': 2, 'slWwX': 2, 'DFYmb': 1, 'Yzsyg': 4, 'tRzmc': 2, 'blvNp': 1, 'YRAcf': 2, 'RRlVK': 4, 'hLugq': 1, 'WlpqV': 1, 'Kqskt': 2, 'olKXK': 2, 'ZfnLs': 2, 'gkNVn': 5, 'kEpuY': 1, 'htMPQ': 2, 'idrVR': 3, 'mZFzd': 3, 'YDLcL': 1, 'eYJTP': 3, 'uFZpv': 3, 'gFeEf': 4, 'Opmzz': 3, 'ItaPX': 5, 'FOznH': 5, 'SYzAW': 5, 'pbbMf': 4, 'XxaDM': 5, 'AwqYg': 5, 'CSBJq': 5, 'RVfpA': 5, 'oMmuB': 3, 'yzbwL': 1, 'MnyDW': 3, 'wxfTC': 1, 'EXsWU': 2, 'uDPIS': 5, 'MywOh': 4, 'QjrEE': 5, 'syDqJ': 4, 'jmGYD': 3, 'tAMyu': 3, 'KKRKq': 3, 'OpQEa': 5, 'xBmmB': 2, 'owRzX': 4, 'xDWGF': 1, 'ZZNwE': 3, 'uvbmI': 2, 'EKQPr': 4, 'sZHmI': 5, 'KUvWQ': 1, 'bLUDu': 4, 'klFTZ': 2, 'kJcbX': 2, 'DgQei': 4, 'PWdAr': 5, 'UgqyO': 2, 'EqpTz': 1, 'cRAkJ': 2, 'BCBrH': 2, 'vnAEf': 4, 'ccgdA': 5, 'OemxY': 5, 'MjviI': 1, 'RxiMV': 1, 'CITWm': 4, 'sVoCo': 4, 'xdMrg': 5, 'GGEuM': 1, 'mYHvP': 4, 'JlZNX': 4, 'cPQNY': 2, 'zIKoF': 2, 'yAlwK': 1, 'MdrPg': 2, 'QJDJc': 2, 'QftKh': 5, 'DQHfn': 5, 'PJGrT': 3, 'gQJGr': 1, 'Bjfpe': 4, 'GJepn': 3, 'MVkGM': 2, 'DcbcE': 3, 'SBvqL': 1, 'pGYam': 3, 'EdpPC': 3, 'utWZk': 1, 'qfraY': 5, 'grtLH': 4, 'cSyCH': 4, 'TyEDg': 1, 'WReDN': 3, 'GYoJR': 3, 'bvKOr': 2, 'WfjYe': 4, 'dOoww': 3, 'JESTD': 5, 'nUQmx': 3, 'kFHFz': 5, 'jywBx': 3, 'tlJTt': 5, 'IxTko': 5, 'OdavR': 5, 'yGaEu': 3, 'BKshQ': 5, 'aJXsb': 2, 'SOcDQ': 3, 'hkXOx': 5, 'TIUxI': 2, 'blZgh': 1, 'ziMpg': 4, 'hnfCw': 4, 'XpISM': 5, 'WceAx': 1, 'iUSEZ': 2, 'xeqHu': 3, 'vLnVJ': 3, 'fronv': 5, 'XLFvl': 1, 'SHgbK': 3, 'tlYAm': 2, 'yssgi': 4, 'FctOy': 4, 'WXjVf': 5, 'Bcdas': 5, 'YEqze': 2, 'EvyrW': 3, 'Wrtme': 4, 'FDZRD': 2, 'tOZJZ': 2, 'IUkVJ': 2, 'nWkHe': 5, 'MGqIt': 3, 'VzgmL': 5, 'BWApj': 2, 'kOoJT': 3, 'KEdDu': 2, 'lCKDK': 2, 'sOqJF': 2, 'aZiyS': 2, 'oTDRz': 5, 'mVFmN': 3, 'ulNkE': 1, 'EvhbA': 4, 'Fybjm': 1, 'FdNPF': 1, 'xCIoD': 1, 'pLDDF': 3, 'nQQPz': 5, 'BGbUG': 2, 'fwWey': 3, 'BjUyR': 2, 'kptIM': 2, 'kVFWV': 4, 'IkRMJ': 1, 'hxUAo': 2, 'jysfi': 3, 'vemPv': 4, 'YQoZe': 2, 'qesHw': 2, 'kKdFE': 1, 'ohOjm': 1, 'ElWGH': 5, 'XeLYG': 4, 'txneT': 2, 'LQCXF': 1, 'brLro': 5, 'fzuUB': 4, 'GnvSR': 5, 'JMaQX': 5, 'JyljD': 5, 'URWtv': 1, 'jmJfX': 4, 'dBMHC': 4, 'dWWof': 1, 'iVvIf': 4, 'igNvi': 1, 'XxcZk': 1, 'rTuUc': 2, 'KZNkZ': 2, 'eDAJG': 3, 'BTryN': 4, 'wfeop': 4, 'mUrPr': 2, 'lSYIp': 2, 'ennPM': 2, 'tNgqK': 1, 'vjOoe': 3, 'wBYhd': 5, 'YhYSs': 4, 'FvxrY': 2, 'LafDJ': 1, 'CReFC': 3, 'FdJOg': 4, 'NTwHu': 1, 'OWyzg': 2, 'QvCRr': 4, 'EWPeA': 4, 'iaQDk': 4, 'JPiHT': 4, 'fBDIv': 3, 'Dtszz': 5, 'lsuds': 4, 'Izbtk': 3, 'NYUeo': 4, 'ifcKB': 2, 'jjjoZ': 1, 'BZUoA': 1, 'apKqO': 1, 'gKEme': 2, 'RKXRi': 5, 'whlge': 4, 'NHzkJ': 3, 'vSmHK': 1, 'szPJq': 5, 'TWyOS': 1, 'rZpzO': 3, 'ymhdQ': 4, 'RDOlv': 4, 'KVUdF': 3, 'veATw': 2, 'olYAN': 1, 'qtAWn': 4, 'mjbHJ': 2, 'FIjdH': 3, 'VrDLB': 3, 'IrwDR': 3, 'EDlhN': 3, 'XOQMs': 3, 'NQgwk': 5, 'Iaqaf': 5, 'TTGEr': 1, 'SBvEA': 3, 'JYKzw': 1, 'BTacg': 2, 'msDKz': 3, 'ICWYg': 3, 'HgPMN': 5, 'oWkKW': 5, 'ZKJvq': 1, 'WKZOK': 2, 'kWnAV': 3, 'JFNmE': 3, 'YkKhR': 2, 'GTqbb': 5, 'HObZN': 5, 'hiPCs': 2, 'mNvPt': 5, 'BIXFr': 1, 'NUjRy': 3, 'fSDqg': 3, 'KBKMT': 2, 'RaZJC': 3, 'HIgrT': 2, 'XufYn': 3, 'dAnOW': 2, 'NBsEW': 3, 'UdSfj': 2, 'UZdOi': 4, 'jCmQe': 1, 'TNyNt': 1, 'vCGgR': 5, 'WCnLX': 4, 'WvJsM': 1, 'ZlsmR': 1, 'iYFDR': 3, 'TzBbw': 2, 'jSnos': 2, 'QrJee': 5, 'kbGSH': 2, 'HZbBJ': 1, 'IKUjz': 1, 'VOfoZ': 5, 'wkcTn': 5, 'FumhF': 2, 'kpvGy': 3, 'cBfpm': 3, 'uMaEp': 2, 'jNkDM': 3, 'dufqX': 2, 'zdBVS': 1, 'nDbDC': 2, 'JyUzW': 4, 'OUFiP': 5, 'DZHKd': 3, 'RxiTy': 2, 'SpkDH': 4, 'LTHKT': 2, 'rHnVq': 4, 'nYmRY': 5, 'iGmFS': 4, 'DbxSf': 2, 'hLAvg': 4, 'KfwXy': 3, 'HmlRq': 5, 'gkAPg': 2, 'Isxqs': 5, 'ySHhJ': 3, 'ZsJBt': 1, 'cnWif': 2, 'FTdSg': 5, 'ZKOTF': 3, 'vJsqF': 1, 'SzmYJ': 5, 'scAsQ': 1, 'Pgosz': 3, 'FPyBN': 4, 'IsTib': 4, 'IVwnV': 3, 'ZLWqF': 4, 'shMOg': 2, 'SYMNL': 2, 'agxjS': 5, 'oscaq': 5, 'ziUPJ': 1, 'QyVSq': 3, 'wmwtt': 2, 'HJBZe': 4, 'hJJHf': 3, 'ozqJK': 2, 'DmaxT': 5, 'XZkOP': 2, 'ldBAk': 5, 'ufYCd': 1, 'EaYUt': 2, 'xznlh': 3, 'deZww': 2, 'iUbSv': 2, 'wSfTe': 2, 'DVsgl': 1, 'nDFuY': 3, 'YPCXy': 4, 'FjEjN': 2, 'xdEzy': 2, 'izjvw': 2, 'oHzVi': 5, 'lDNiz': 4, 'svlPy': 4, 'zHtnP': 5, 'gbzLC': 3, 'ZEecV': 5, 'sShHS': 3, 'xOKNL': 3, 'nOmhI': 3, 'kiXYf': 5, 'vijIS': 2, 'JGFal': 2, 'bQVGl': 4, 'OqwEu': 4, 'YXwJX': 2, 'wdYYk': 2, 'GYsEq': 1, 'qITtw': 1, 'YZaMo': 5, 'rTQCT': 4, 'YCjlR': 4, 'thqEa': 1, 'ffVsi': 1, 'VacwE': 3, 'OhaWI': 3, 'sodmQ': 3, 'QJsVk': 2, 'eIFwc': 5, 'iYqLu': 4, 'UesqR': 2, 'SkYpT': 1, 'hXyyZ': 1, 'BeDAV': 5, 'aOTEv': 3, 'mDKap': 5, 'JxCCn': 3, 'DYark': 4, 'elyZB': 5, 'nqnDx': 1, 'BDxTf': 1, 'IVcix': 5, 'Hmeou': 2, 'xUPyb': 2, 'UFVId': 5, 'dKWDl': 2, 'hcLyW': 5, 'bmhfx': 3, 'kSLnF': 2, 'OiVxs': 2, 'KSHck': 4, 'JhMru': 2, 'MDyxG': 4, 'BCGKs': 3, 'VGvHU': 5, 'ySUnt': 3, 'GFzuR': 4, 'seAjc': 2, 'iphwj': 3, 'ROMYn': 3, 'lonPj': 3, 'JTUEB': 3, 'nSjTz': 1, 'rYudm': 5, 'DGiWR': 1, 'tWsti': 4, 'TlayX': 5, 'AhArI': 4, 'FwUCP': 1, 'dgLed': 4, 'zaNdu': 1, 'pOLYC': 3, 'ceMky': 4, 'uSoCI': 4, 'bsufl': 4, 'ZyoOF': 2, 'vgBBS': 3, 'dVOGg': 3, 'wxSzE': 2, 'sNogX': 2, 'wzEGd': 2, 'wPUIV': 1, 'gpEdH': 1, 'DENNQ': 5, 'OqqTa': 1, 'YlaAk': 2, 'bwDEY': 2, 'fRWlW': 4, 'ZXyeB': 1, 'zlUeZ': 2, 'aXoxm': 5, 'gzGNb': 5, 'beKDY': 2, 'yASth': 3, 'YTyQa': 4, 'KIjaa': 1, 'TLzEe': 5, 'YGUHA': 2, 'OGKIF': 4, 'wgLfT': 5, 'zwtxt': 3, 'AEvux': 3, 'oGhde': 5, 'qWIzv': 1, 'cFADd': 1, 'yUlrW': 2, 'Vsflm': 4, 'dAyIh': 3, 'gworS': 4, 'FZEMs': 4, 'ODuNS': 4, 'PyqGN': 5, 'jyXoq': 4, 'oupAV': 4, 'dgORw': 1, 'SOFPZ': 1, 'dLxSn': 1, 'FlacE': 3, 'gFXvU': 1, 'LKjst': 3, 'DYnDV': 3, 'JcRkq': 2, 'pdXoH': 2, 'RlIeG': 3, 'djvyC': 4, 'hYDda': 5, 'sHfpK': 2, 'ACesE': 2, 'fHDNi': 3, 'ORSAO': 4, 'QxjVc': 2, 'ZUWmr': 3, 'iHczh': 3, 'LXGgz': 5, 'txFAs': 5, 'XGPLa': 5, 'jXUIb': 5, 'QijKp': 3, 'WElCI': 2, 'BLssi': 3, 'nhduF': 5, 'qpCtQ': 5, 'FRiXJ': 4, 'yfTVE': 4, 'NIobs': 1, 'dfFwu': 4, 'jcgKo': 4, 'ruzhO': 1, 'VCiLs': 1, 'eFdcQ': 1, 'aPfmF': 1, 'UuRUQ': 1, 'bhHSs': 2, 'gWMPD': 3, 'CLOaW': 5, 'Wccuy': 1, 'fAsEE': 1, 'QLeMZ': 4, 'OEIMD': 4, 'JITPS': 2, 'gsHmb': 1, 'WgQMX': 3, 'ejtso': 4, 'HCRTY': 1, 'KBUpl': 5, 'Hpooy': 4, 'nMzLo': 1, 'tocEr': 4, 'XQwym': 3, 'loaWy': 2, 'mTuwu': 5, 'Jsciq': 3, 'JPPls': 4, 'kbReL': 1, 'qekBI': 3, 'LCeGE': 2, 'wMeKr': 1, 'eSJKG': 1, 'SAGXi': 3, 'OVCFt': 5, 'WgYzp': 1, 'taqZh': 4, 'vOdGz': 1, 'GQaXD': 5, 'qomOw': 4, 'nPtlO': 5, 'NmXih': 4, 'VSFbY': 5, 'hBMrb': 4, 'lnbmv': 4, 'TjfjZ': 2, 'XEIAM': 5, 'VbmbL': 5, 'CtmtQ': 4, 'KSqtI': 3, 'tzIDp': 2, 'TOeIp': 5, 'dxIPe': 4, 'WpmJu': 1, 'sWzvw': 5, 'uhmRI': 2, 'Haaap': 3, 'SOLqj': 3, 'Rimfu': 3, 'xnTiI': 1, 'MTkJC': 3, 'lqnOE': 1, 'yRUld': 2, 'AGesC': 4, 'nlJFP': 2, 'PCaLK': 3, 'oXkBp': 2, 'QFXry': 1, 'FmJjU': 2, 'XYUlK': 1, 'VeHFj': 3, 'DrROp': 1, 'YWboW': 3, 'fHMzL': 5, 'iEgNL': 1, 'WyOOD': 1, 'mAiwx': 1, 'IEVSy': 3, 'jIrlh': 1, 'GmfYX': 3, 'NqtXw': 5, 'nHSAo': 3, 'quPvM': 5, 'XmwUJ': 2, 'LyOOg': 1, 'yslxR': 3, 'rsDiO': 4, 'kDzIG': 1, 'kJIXq': 1, 'SHwKq': 4, 'bSCWA': 3, 'cGHmk': 2, 'xsArz': 2, 'FglYG': 4, 'QRIcT': 2, 'vPEqJ': 1, 'YHukn': 4, 'zbglF': 3, 'bdLfK': 5, 'cCRgl': 4, 'YXrkc': 5, 'GpfXz': 4, 'AfULJ': 5, 'jpUSM': 5, 'XdkXL': 1, 'JorEl': 1, 'iDxWc': 5, 'ZeXql': 3, 'KiGwe': 3, 'cQaML': 1, 'recmp': 5, 'TNldq': 1, 'rjqYO': 3, 'CnJCM': 2, 'BmYan': 3, 'LKmkA': 4, 'slOGi': 1, 'gVCfN': 1, 'WGNoU': 2, 'NygPd': 4, 'iFofJ': 5, 'YgbHd': 5, 'bqhyz': 4, 'vRTny': 1, 'ubSrE': 1, 'ZxThk': 3, 'RxXAo': 1, 'FKoRi': 1, 'YcoxN': 2, 'qsvig': 3, 'TBXCw': 1, 'PwNbB': 5, 'vrItL': 1, 'vIATP': 2, 'UTkVl': 5, 'mmhYw': 5, 'CeYFS': 2, 'WWLxS': 2, 'dfEGp': 2, 'kIMEc': 5, 'XXWcD': 5, 'VUOpy': 5, 'djXFE': 2, 'tdrox': 3, 'OgBmc': 4, 'EIsAE': 2, 'wotPw': 3, 'hOxgK': 3, 'Zhgzv': 5, 'bqVmt': 5, 'xkmiD': 1, 'jDRmk': 1, 'BSrzl': 3, 'hzTKS': 5, 'CRrCI': 3, 'LBBuh': 2, 'ihFeX': 2, 'SIxqg': 5, 'WKkfY': 1, 'KirGU': 2, 'kGuiN': 3, 'JEWti': 4, 'lWZJd': 3, 'EuQlh': 5, 'WEimo': 5, 'pGkly': 5, 'WWHPF': 5, 'vhhUQ': 1, 'ymDEP': 5, 'WpMjp': 3, 'BewJw': 3}\n",
      "{'VqcDAd': 5, 'FJVbViSwI': 2, 'ZHJVPw': 2, 'OhIRCZsPsr': 1, 'QODRHbpc': 1, 'MDMZlhCY': 5, 'MbPIOLIh': 1, 'pLwe': 2, 'JgVee': 1, 'MPtn': 5, 'YebHARMy': 2, 'OVaFTCWTPZ': 1, 'JONSs': 2, 'rvOwqzIfbg': 4, 'dKYMfhJB': 2, 'qOeZu': 1, 'hEDMyRYL': 2, 'hDvmDAFMJ': 2, 'SHTpWOb': 5, 'GHizlhE': 2, 'iHh': 3, 'GfVWisTBGW': 1, 'ckTrReeOY': 4, 'NWv': 1, 'FJoXy': 5, 'TFj': 5, 'ZEQP': 5, 'fBJ': 1, 'kuWfvwXa': 3, 'jhMvioI': 5, 'qkhnLjl': 1, 'SEIMoyW': 5, 'wxAYpHma': 1, 'xPsBp': 2, 'AxAoelLNPo': 2, 'eQuwBHbJL': 4, 'yTRNs': 3, 'huzCfRq': 4, 'SuYDX': 1, 'vMSIy': 2, 'yndM': 2, 'MtRYzBbri': 3, 'DPIIYgzUXt': 5, 'ynCrZNpe': 4, 'bGckPne': 1, 'leBkWUgQht': 3, 'REKGncrgQI': 1, 'kGcxjQ': 1, 'iaGPJaULN': 2, 'BamxRO': 4, 'FCJHkB': 1, 'wbUoaIhcjM': 4, 'NrNaUBceZ': 5, 'cfdGJoOm': 3, 'hqlCBUh': 4, 'aiQwTF': 1, 'lbAwLqb': 1, 'gWGMG': 4, 'YtZjzVPd': 1, 'pOnInQkUa': 2, 'GosUOPHs': 3, 'GNlOgbXIY': 4, 'mGVaeV': 5, 'mkJhQZf': 4, 'bJNz': 1, 'mtPh': 3, 'ckchIkxGx': 4, 'nGfl': 4, 'qgrXdoBe': 4, 'yitVJTU': 1, 'zAJkcY': 2, 'XofbQ': 4, 'Lrj': 2, 'nuAhCgDa': 3, 'gdLldOmzT': 3, 'aYly': 5, 'IgG': 1, 'rwurRZO': 1, 'LkVsKmw': 4, 'PWy': 5, 'TEGuh': 3, 'FYApxwQ': 1, 'NTqktDA': 4, 'byROQGw': 1, 'geP': 4, 'YSnYliebf': 3, 'vkEwfRS': 5, 'gmstPJq': 5, 'jIjWgXwi': 5, 'jxg': 3, 'gmvLqQOLg': 1, 'CqldxUhXOC': 4, 'ljRF': 3, 'JYuk': 4, 'WZsKuPLvj': 1, 'KlrLYo': 4, 'Zzzw': 1, 'ViWa': 4, 'EWIMTOSzJO': 5, 'fiMisu': 4, 'WXh': 3, 'npcAx': 5, 'NwTBP': 4, 'hQjIGjooq': 5, 'yzEEsLnfw': 4, 'jKTwKOe': 1, 'RRolU': 4, 'XCoNoWJrD': 5, 'xjQD': 5, 'rbrEj': 3, 'vbdnDQ': 5, 'Qhv': 3, 'jMcUQIZXGi': 5, 'mQlwKlPoO': 2, 'WDXi': 4, 'mvU': 2, 'kmwtaZadd': 1, 'bAg': 3, 'comtPC': 1, 'jBQm': 3, 'QyIMsTUCsZ': 5, 'JotHsEwrh': 2, 'OJmQT': 1, 'tPDjECH': 4, 'ZNryquEW': 1, 'OdQLdH': 2, 'nwyJ': 1, 'opOdyTTo': 3, 'fQDSB': 5, 'gououHkpQ': 2, 'NKxJiZt': 2, 'wkZqzaSaa': 5, 'jfWlQBcQ': 4, 'IesJHV': 5, 'jYm': 1, 'AAFpBZxCu': 3, 'LZncMrp': 1, 'YPxUdhBKZ': 5, 'iwwUIUTrC': 2, 'qtBwvrtJZP': 5, 'xUpzXkos': 1, 'avPWsJWG': 3, 'TDVDdKmf': 4, 'TeRxC': 4, 'ShIlYVcAPE': 4, 'VSGxRO': 1, 'pLBLiqAPo': 2, 'efiro': 2, 'iEQUzfNk': 5, 'ypn': 3, 'DEudca': 2, 'DILi': 1, 'tcjYpopM': 4, 'phwz': 5, 'lZW': 2, 'YNYkGEvu': 3, 'LeTMftAGAE': 4, 'gtpv': 4, 'viCUaeDje': 1, 'rvYgVhlbOT': 4, 'eweMKGY': 2, 'FLO': 4, 'WtMwZOpX': 1, 'orfFk': 5, 'BkDmjdCYjn': 4, 'DShu': 3, 'nEoKwciBK': 1, 'PRd': 1, 'WtwU': 5, 'KasWeS': 3, 'DRVcDjHouJ': 5, 'SwVMi': 2, 'kSPaf': 3, 'Lgpjoor': 2, 'RpzxLtxHGu': 1, 'fSk': 5, 'ZJXVF': 4, 'OCrWJ': 1, 'qfsvHUV': 4, 'hFGZ': 2, 'IjKgRcqP': 2, 'QFTsdEa': 2, 'chAD': 1, 'jRtWBAp': 5, 'qzQtSNHQ': 1, 'SdCuzoqlsT': 2, 'TlxAhqG': 4, 'vdvHuWg': 2, 'gXejOTFwiX': 5, 'ezKqINXJKc': 3, 'SSuuPiv': 1, 'bqExSMv': 3, 'xDusbo': 1, 'sxHtk': 4, 'cYNQBP': 5, 'ZVjXsyeNH': 3, 'WZEAGDkqO': 5, 'GRV': 2, 'CQJFGaYaAv': 2, 'Lpvn': 2, 'cAvLcCPk': 5, 'UCkQk': 4, 'gTgOPdYDe': 3, 'dBN': 3, 'qRzD': 3, 'PesNT': 5, 'GAoUg': 2, 'wnGMYx': 2, 'rQchcBVH': 1, 'alZ': 4, 'jPuJcS': 1, 'FbV': 4, 'eqnpI': 1, 'QVKr': 5, 'vnVdnbEcMh': 1, 'floyunvS': 5, 'PAnzgistZQ': 2, 'QoF': 5, 'lAIgQF': 4, 'qTwiayjx': 1, 'bevpNhy': 1, 'sMru': 4, 'ZdtazSMEd': 3, 'hnm': 3, 'XtkajOfQ': 3, 'NkoemYwF': 1, 'odju': 2, 'IVwhT': 5, 'oraQQPdnku': 3, 'mDPviBQG': 2, 'dmUiO': 2, 'icHP': 1, 'TjVvNOicxU': 1, 'WFmGquV': 2, 'jUyMsqcFh': 5, 'dRapxkOHOi': 4, 'lUefElFv': 3, 'RXRUfX': 3, 'bzGO': 5, 'cti': 2, 'KXJnncH': 3, 'rFlWTGMou': 3, 'XVJyxIobIA': 1, 'jRViTX': 1, 'PLBoL': 4, 'RbCWd': 3, 'kmsFiy': 4, 'lPeObacD': 1, 'Rom': 1, 'jwr': 4, 'TrQ': 1, 'NVPiQx': 1, 'qBCuViwT': 5, 'fjukJDy': 4, 'kYimWkY': 1, 'yZRWRxT': 2, 'AXlPw': 1, 'Qzkndm': 5, 'dSDeCiEq': 1, 'qArvYPVI': 1, 'dsOIWJmoY': 1, 'KJoRqoaOs': 4, 'WcL': 2, 'qtZYEhTPiH': 4, 'WzUiOT': 5, 'JlwGtkedbb': 1, 'tzVtwbRBre': 2, 'RCqT': 5, 'ClYqqKv': 3, 'koixs': 4, 'lnAMT': 5, 'IpCgcgzX': 4, 'fTEBddm': 5, 'mtkQzjrI': 3, 'IgEuXslNh': 5, 'vpVaedCgL': 1, 'XNBOqPO': 3, 'zwRDK': 2, 'bFvTS': 2, 'bqxyGnudc': 3, 'bSFD': 1, 'vfUDmuMnvv': 3, 'rOfJVlMXvn': 4, 'UaVeYfA': 5, 'ojgYAh': 3, 'LGOpLu': 2, 'qRyHmuVIhc': 4, 'JCsIDk': 5, 'ewlxzq': 3, 'WJKW': 2, 'SlcoUN': 5, 'HSOsMtzc': 3, 'crl': 5, 'ATmsxBkU': 4, 'esnHXCqyHx': 1, 'LTHPHEAD': 2, 'mawQiZ': 2, 'AOlPBAnK': 3, 'ooytmVqnY': 5, 'tfeuAvRLQ': 5, 'uUo': 1, 'puBlncVyP': 4, 'iNfwqTOE': 2, 'DPQrAD': 1, 'SebhSvw': 1, 'ynvn': 5, 'zVdK': 4, 'ezBztW': 1, 'oLrsiB': 3, 'MPkvZeF': 5, 'IJFCzuk': 3, 'btsb': 1, 'zqAqCsS': 2, 'ZWLO': 2, 'CNUB': 3, 'KiNGy': 2, 'XdIEN': 3, 'MILdKxenwF': 3, 'SnMeOWf': 2, 'rNrYby': 5, 'mNR': 4, 'mqOmrri': 3, 'GrvYppFKVD': 1, 'bjbyPLE': 3, 'ARkBaXMOcA': 1, 'VzzDmyzM': 3, 'rQwN': 4, 'tAXNUIyrh': 5, 'frgOttWF': 1, 'TCDjgNjxfV': 5, 'XqybImqOB': 4, 'jltvUrn': 3, 'gLOzW': 2, 'MIDRv': 1, 'JTwWSmVoLp': 5, 'nOeCcLko': 1, 'rTJZKQsz': 2, 'uvcKtE': 4, 'SEZooTw': 2, 'Pea': 3, 'JIkoIXMqO': 1, 'YPpEzAqaUN': 1, 'ImGO': 5, 'ARUXDYFI': 2, 'pcUBrocjaf': 1, 'BTcXOU': 3, 'YDWbMjsrQn': 1, 'fJoNfPAv': 3, 'MYmIX': 4, 'Qxx': 2, 'KxlGNF': 4, 'HSEIJOnrW': 2, 'EYyTwDSA': 1, 'wgFcDbrZ': 2, 'zlxadCcr': 5, 'dzcn': 3, 'pGkKekiXT': 1, 'zKTcduTkW': 3, 'mbtGuzWHPz': 4, 'tXyaEE': 2, 'PlMaxg': 1, 'YfleBjlvN': 1, 'vyE': 2, 'KhdqjAroH': 4, 'VIwLfol': 5, 'PUge': 3, 'zptk': 2, 'meHEX': 2, 'LXo': 5, 'VhWrZpS': 2, 'YAUYorzV': 3, 'wUeh': 1, 'CBvKBTj': 1, 'hdTQertb': 4, 'YkyHXHD': 1, 'ORrTFYZ': 3, 'LPiD': 1, 'exWBy': 4, 'pddJslGD': 1, 'GQp': 4, 'huobDOA': 2, 'zxhhdQ': 3, 'WXcuaNBnZM': 3, 'baxtX': 2, 'ZFYdsD': 5, 'rofFgNcYm': 4, 'yoEXpBvNN': 4, 'kiaJGP': 1, 'dlnlBSmv': 3, 'sTZGrJLEND': 3, 'DnQDNJvYR': 3, 'MrCbH': 3, 'NtYCsBwi': 1, 'LVQbVxE': 5, 'AXlHwOm': 1, 'Olrlh': 3, 'AtQxqTCKC': 3, 'zkQySI': 1, 'CxYpxnZ': 4, 'uoJsuJ': 3, 'nRVbpJ': 2, 'AgkQtRNlX': 2, 'hgCrVHW': 4, 'jwjqSaS': 4, 'yboRc': 2, 'xQIhV': 2, 'FHGrfcP': 2, 'ZXamMi': 4, 'yogzTKs': 5, 'mier': 4, 'ujRVn': 5, 'tPSqEPtZGL': 1, 'kFSYlB': 2, 'nyUX': 5, 'MOwXiopG': 5, 'VlZcz': 4, 'zEftqcJFDx': 4, 'hLkCYHFe': 3, 'FimM': 4, 'DdBcN': 3, 'TbvEzyNgF': 5, 'FOf': 3, 'MamujXEWL': 1, 'CLYwbfKL': 3, 'CJv': 5, 'sJsBO': 4, 'nGEapbNb': 3, 'sLHex': 5, 'zOoNjIFFaR': 3, 'jQlAhaBF': 3, 'gJvQs': 4, 'uIN': 4, 'VKdrQ': 5, 'bqX': 1, 'pQwZEn': 2, 'bGUDo': 3, 'gxaGWTkGS': 5, 'VtLmFIH': 5, 'tlMkI': 1, 'tqlYaVHu': 3, 'PQUnHFW': 1, 'QGEzVwOD': 4, 'gdSSeCnaUg': 4, 'Zzx': 4, 'sraY': 3, 'vRv': 5, 'YqajdJ': 2, 'YGHup': 3, 'nMQXcC': 1, 'ogEYmOo': 5, 'Pqe': 4, 'ZYwKtaRh': 2, 'YuIts': 5, 'tLWcM': 2, 'IzRbAhMh': 2, 'NaDplBIXh': 1, 'rNdsHysEA': 5, 'BjhdhQC': 1, 'IjHkA': 1, 'NbtgtQyu': 3, 'oqVIy': 1, 'senUfOb': 3, 'oPwegWCLJP': 2, 'CbQD': 4, 'WPsjir': 1, 'XiWHoT': 1, 'qHKBSGGnK': 2, 'wzPfYmsf': 2, 'EdiipL': 3, 'XJjPvjThO': 4, 'asz': 4, 'DLs': 2, 'VZYyIMCL': 3, 'TuOuGfGaRm': 1, 'FgtOWEkph': 3, 'uPg': 2, 'qknR': 3, 'JqesKPsfWu': 5, 'DCqzLET': 4, 'KxTBcE': 1, 'TkUcreQ': 5, 'ssPCysaUxn': 5, 'puqwrNuy': 3, 'HcjhbVQCed': 3, 'bHNO': 3, 'IGOSJw': 3, 'vvDCvFZbd': 2, 'KEpMTb': 3, 'yRLuLxwJpi': 1, 'Tkd': 1, 'IVgUCfX': 1, 'jdEUOGmXT': 3, 'Iww': 2, 'IbWpd': 5, 'sKUXMlhsC': 4, 'KPYPACtKiK': 3, 'JadOUEApq': 5, 'XuUPeHJhUk': 2, 'ktnqKbyg': 3, 'kGKkP': 3, 'xWsx': 3, 'oVrNyrc': 3, 'qOy': 3, 'RhWCKPdGbt': 2, 'qoDIrU': 5, 'DnRaJUnE': 3, 'wcL': 1, 'AHoJqyPi': 4, 'vCfHM': 4, 'joFtDRDFn': 2, 'PWsCo': 1, 'nSHCwqQZ': 2, 'bVYoBkFuhr': 3, 'rEbl': 1, 'Osr': 3, 'FINEOJK': 2, 'FteLknI': 3, 'jKmdK': 5, 'mXVLNxNn': 3, 'rBbY': 3, 'UGANE': 1, 'qFi': 2, 'FTAeZweWs': 2, 'rwJWB': 1, 'ejgxE': 4, 'RhtppUajA': 4, 'ESZ': 1, 'AvpfZ': 4, 'pvGhVd': 1, 'DWxpnr': 2, 'KmI': 5, 'xZkmSLGL': 1, 'QYDHx': 1, 'yxlgn': 3, 'RZsShyxBPa': 2, 'mpfDieaFea': 1, 'zcszFLf': 1, 'oiAsbNcQuk': 2, 'pqJMm': 5, 'HlIYEztRC': 5, 'hbsQQLU': 1, 'GvLW': 3, 'ntn': 3, 'poe': 2, 'jRre': 1, 'pRpt': 4, 'NWdoA': 5, 'XfRyNB': 2, 'PMaDtJFRCf': 5, 'wCNlvgtRtr': 5, 'GOnOwPVce': 5, 'mDBwScHdY': 2, 'HTUhyRON': 1, 'VZRm': 2, 'xWbkZ': 3, 'EZMMPQup': 3, 'PGRIh': 1, 'LqakaFva': 3, 'RjfAtZYC': 5, 'WJmwWqJB': 3, 'ZfdyKPA': 3, 'kTpUnbMpmB': 2, 'pWmQnHHyfN': 5, 'MPGQXAZu': 1, 'bFBdnLPo': 4, 'mIMu': 2, 'llaZf': 3, 'tSUVkt': 4, 'eCyMx': 2, 'MsHngEOZ': 2, 'kLLO': 3, 'iFA': 3, 'mZLOa': 1, 'XnMbKBKyRz': 4, 'paEfTbc': 2, 'zVEIwF': 1, 'gepBH': 1, 'PHHwsxR': 4, 'bHng': 5, 'vyj': 1, 'VaNt': 4, 'knv': 1, 'UXrudriNY': 4, 'pHIjN': 4, 'Bbt': 2, 'CdBxdhfXHF': 3, 'LhIEdHgm': 5, 'bxPR': 4, 'UKEGPP': 5, 'tTHbcP': 5, 'HSEgGABZf': 5, 'Pxpo': 5, 'EidzlDc': 5, 'yqP': 1, 'WWFwqsr': 1, 'RANiX': 3, 'uoet': 4, 'doWLpSHd': 1, 'EaGEkhQp': 4, 'RfIx': 1, 'vKbd': 3, 'mPFcxZ': 2, 'sKWy': 1, 'HjiqayP': 1, 'bFJnmfkgo': 4, 'dnOb': 3, 'fkzOP': 3, 'ZBKJaF': 2, 'lRiSp': 4, 'paUcD': 2, 'akxmo': 5, 'SBZV': 4, 'xqysWQF': 3, 'mImOZ': 4, 'mYJDkGua': 5, 'WBRLYyHi': 2, 'tpbMPi': 1, 'kcBejzI': 5, 'fLJgDDqn': 5, 'YUyvvRhp': 3, 'TTC': 3, 'HaRCq': 4, 'nMxVIH': 2, 'xXeacAFDj': 1, 'YSTzsFRd': 2, 'gwtFmGpCh': 4, 'SaL': 5, 'Qzw': 2, 'zRCHhMy': 1, 'jMaEGR': 5, 'vDNU': 1, 'mjIWLR': 2, 'GRdT': 5, 'lCfV': 5, 'kNnuHtoIC': 2, 'ZCuoLFRso': 3, 'bZMFxCryZ': 5, 'bhNW': 1, 'GhxHDXWnQ': 3, 'aVnjgeXf': 2, 'AIL': 3, 'QBXGdux': 2, 'CdDXkJfyT': 2, 'sIMo': 3, 'Cusd': 2, 'raKhIymz': 2, 'vGlCDGJ': 2, 'vBUEE': 2, 'yPVG': 3, 'UWuv': 4, 'QGRqNOOa': 3, 'JsZZNkU': 3, 'tZF': 4, 'ZdJAMqhxRj': 5, 'sUVBymrhC': 1, 'JMS': 4, 'NSR': 2, 'OKKSgDmG': 5, 'fUGDQ': 3, 'wJaq': 5, 'LtXah': 2, 'ItFxyP': 5, 'jpTKfV': 5, 'ULF': 2, 'ANxU': 5, 'zyBiDip': 2, 'vlkW': 5, 'Wyt': 4, 'LbipCCnL': 2, 'EGlzSYole': 3, 'tQkk': 5, 'SOtH': 2, 'HufKjUzIws': 2, 'EeFe': 5, 'CNVaZznJeV': 2, 'bkgAvc': 4, 'ObXiojz': 3, 'UHb': 2, 'ZmemjuEMW': 4, 'sfCgyCyMb': 3, 'dZrGFN': 4, 'lUqtnz': 5, 'XkA': 5, 'AdWXqQBcYW': 4, 'QmwiZaGoc': 4, 'FMg': 4, 'NjZbjO': 2, 'ebMKjSKF': 1, 'pwRLmr': 5, 'DGhoWfcmD': 3, 'kGZdnw': 4, 'WMUYksrikO': 2, 'MGyUeIl': 4, 'oIUIEoEWaP': 5, 'IBeSROLs': 2, 'drhPbzfeh': 2, 'nzhPW': 2, 'bojRFCTnLN': 3, 'qZzvdWf': 3, 'elpTzZm': 2, 'gzhgVM': 5, 'ZWnW': 5, 'JUizO': 5, 'Tqzy': 2, 'kUeGNL': 1, 'ZWUCJwO': 4, 'Shg': 4, 'kfasWItwTV': 3, 'rRAJ': 4, 'kWgarr': 3, 'idoLHijSA': 1, 'fTuKHwO': 5, 'DZO': 3, 'tuZLTpwtd': 3, 'fnfgVKSJV': 1, 'kZEXOpc': 2, 'aNofXw': 3, 'PrpLfQcWfa': 1, 'jPMJAWiJaI': 5, 'zYnBltuBtq': 2, 'fzXIRYKK': 3, 'bDPt': 2, 'kEKlOC': 4, 'mTkdyujM': 3, 'RvxCZJEuI': 2, 'VwBZeHqS': 3, 'SYEmqA': 4, 'dfw': 3, 'lMitZRL': 4, 'SpKgI': 3, 'UacwkEH': 3, 'WHQSw': 4, 'InpAXZz': 4, 'HYNBayiXN': 5, 'kbjyk': 5, 'cUaiQ': 4, 'BeohgRV': 1, 'vNXqMfL': 1, 'aAZDokuDr': 4, 'eOrvUMAc': 1, 'JWGEApShqE': 2, 'PcZ': 5, 'ydrlVHst': 4, 'GpDWgbYxE': 1, 'cbWx': 5, 'IVCnEhOevS': 4, 'xxzfp': 5, 'jWxWj': 1, 'JVhpfxEFei': 1, 'GFfJPwrzO': 5, 'PxZnXinZ': 3, 'KKNw': 1, 'VkOJBdVTU': 2, 'SwVDxN': 5, 'zZvuIhSrd': 3, 'xdlNd': 2, 'YEKprNHol': 4, 'sndxAQd': 1, 'adkcG': 5, 'pnrRhvHYB': 2, 'mmOAc': 5, 'oER': 2, 'BzWKtc': 4, 'krpVmh': 5, 'qLANXMBEk': 2, 'HgcpqECPW': 1, 'sBONIcB': 4, 'nmmp': 2, 'lbx': 1, 'gdk': 4, 'LYMVvYET': 4, 'GScsJHyMb': 1, 'wAsLPF': 4, 'KkWQduSt': 4, 'rKIB': 1, 'owd': 5, 'rroQaF': 1, 'axnhVjZnts': 3, 'QBP': 4, 'VqZc': 3, 'YbaryEvB': 4, 'bCkKAag': 4, 'itueP': 4, 'uIFHtfZS': 2, 'ouRRcquQju': 2, 'tvT': 1, 'hMgyHYX': 1, 'yHdIDzrgJl': 1, 'Ota': 1, 'ljwby': 3, 'ssdzobLF': 4, 'RmugwZupR': 5, 'nWCZB': 1, 'ghGxTBb': 4, 'KINV': 1, 'ObRPZZw': 5, 'BGBIrYsk': 3, 'tnf': 5, 'WjIw': 5, 'ZQkWKI': 4, 'dGxKi': 4, 'aqLEEPmT': 4, 'LOYKsBzhx': 4, 'RTvXY': 2, 'qXszV': 4, 'iebHuPOk': 3, 'OEZvEyWK': 1, 'xJMzrXLo': 1, 'lgNZKFiDNc': 2, 'OHkPSK': 4, 'BkbuzQdtFc': 3, 'ChPom': 3, 'PYjtW': 4, 'axmO': 2, 'UsRn': 4, 'pfV': 4, 'jBx': 3, 'bDC': 3, 'JaaKFJWyW': 2, 'ZvPR': 1, 'qTZ': 2, 'roixwFEd': 3, 'DknejvSu': 5, 'FwKbi': 5, 'yFEin': 2, 'FnESjIHdLY': 3, 'ebkAw': 4, 'tMeJN': 5, 'ZBvRkncQ': 2, 'xFmmQ': 4, 'UkPn': 5, 'MWBtkaiiT': 2, 'vQkXvsC': 4, 'WuFnucpXqf': 3, 'xFaRCDyaJ': 2, 'aaMW': 3, 'cKfVYeFJI': 2, 'eSd': 2, 'mLyyBxZ': 4, 'Rbh': 2, 'kZNCZ': 1, 'jmUsR': 4, 'cOxaYU': 5, 'fUbyAqfJSE': 4, 'wAtAjmfWO': 2, 'UPrlQiWk': 5, 'QYkAgvD': 4, 'CvebG': 2, 'ATpyPPejj': 2, 'bhpwB': 5, 'XRNEm': 5, 'yDKOpnHoTn': 5, 'nKYzonWk': 5, 'SjYkWi': 5, 'rbvaOlfAx': 4, 'GviOq': 5, 'qTyIMM': 1, 'bWkh': 5, 'cJxTaa': 2, 'rMAP': 1, 'GMIRccJ': 5, 'dwy': 4, 'AtgKedvr': 1, 'UWZyjI': 3, 'VazlSyZZC': 1, 'rUSdirA': 5, 'kMljOmS': 3, 'kZIxJ': 1, 'JZd': 2, 'ZbWy': 4, 'EqdiU': 4, 'Afe': 5, 'QfReJCcQn': 3, 'UBkUMhiKCs': 4, 'eNFoZJvKYe': 3, 'UPfsVEdF': 2, 'IbHmVsiQ': 3, 'YwBGNIdQyZ': 5, 'bNgxpho': 1, 'iseR': 5, 'qujPVC': 2, 'BJh': 4, 'tXWGlQAX': 2, 'KTvYsoDXdh': 5, 'RHiuUpO': 5, 'bTMHZwiyO': 1, 'iJSABaYzC': 2, 'jiZ': 2, 'AjdjvCAC': 3, 'DtZVUf': 5, 'XkUunkpSX': 1, 'DhhbvTEW': 5, 'jyTcwqQ': 4, 'NPOZXeFKpr': 1, 'qSDoXJ': 3, 'bpbTIXh': 1, 'TFBhvCaN': 4, 'OsZRwJz': 4, 'cseYU': 2, 'cDK': 4, 'gZQYtPs': 5, 'JmjofQQKgF': 4, 'tCgqVzAg': 5, 'inMtNG': 4, 'yjueC': 1, 'TthKMzZeRY': 2, 'fOwgRsNbuW': 1, 'HvB': 4, 'RgFGajobxL': 5, 'oDiENifc': 1, 'VRAlaJ': 1, 'qnENWCrM': 2, 'LZk': 2, 'ewy': 2, 'kXZwlLfhH': 2, 'RQalZ': 1, 'Pizqc': 2, 'vrXZl': 3, 'yGNkmA': 3, 'xlzXP': 4, 'HVvSH': 4, 'AYnk': 1, 'RUGeahad': 2, 'XHAyVyVd': 3, 'uPxcTl': 5, 'ALBzaReX': 3, 'eRsfDJxRL': 2, 'Alcx': 3, 'HFLnl': 4, 'zPF': 1, 'QgyrFd': 1, 'UrlcosqURX': 3, 'eLcmB': 4, 'ycpl': 5, 'WujESbeJO': 5, 'LqIcLCcGjf': 2, 'fkH': 5, 'WVGqEr': 4, 'Ius': 2, 'xhz': 4, 'kiahQYFft': 1, 'pwNSODECd': 5, 'pYFuvjL': 1, 'VwxwUJMBO': 3, 'JJAbd': 1, 'PHaEhTGo': 5, 'WtYWkvG': 5, 'DmTpl': 1, 'XJywBJcb': 1, 'bmDqvNr': 4, 'xjdL': 5, 'XiqobJGaz': 1, 'uyrFVeC': 5, 'kBdngFCyw': 3, 'kcNT': 2, 'GGs': 2, 'irXJlJ': 1, 'LRHc': 3, 'kvogWHKrVJ': 2, 'kZdWcmPkm': 4, 'lhGKGoqZ': 5, 'Fwyp': 2, 'mlRABgFDYt': 2, 'aGicbD': 5, 'delB': 5, 'beXJi': 2, 'DNac': 5, 'HLycJIyd': 3, 'sBExE': 2, 'kDTxIVkG': 2, 'xDqa': 2, 'jOLhChs': 4, 'zdwZmcJlsX': 5, 'ukR': 5, 'moR': 4, 'QLhMKhcKc': 1, 'FbqUg': 1, 'mLYQ': 3, 'saNR': 4, 'fmHjJT': 5, 'ycS': 4, 'YwG': 2, 'JiEKCVprN': 4, 'YMxbHQ': 1, 'aiNoQwP': 3, 'OYA': 1, 'bWQkzzlLH': 3, 'CuRoJkvjve': 4, 'DDtThjgxwQ': 1, 'Lqkpme': 5, 'RffWM': 4, 'YGODWSClVp': 1, 'YKXUHX': 1, 'YDm': 2, 'YnNN': 1, 'jJzFTDRDN': 4, 'FiHBN': 3, 'aseh': 5, 'dKtVX': 2, 'BREShhNjo': 5}\n",
      "The average grade for the class is 2.96\n",
      "{1: 211, 2: 203, 3: 192, 4: 198, 5: 196}\n"
     ]
    }
   ],
   "source": [
    "import string\n",
    "import random\n",
    "#Create a dictionary of 1000 students with random strings of length 5 as keys and random grades:\n",
    "students = {}\n",
    "\n",
    "for i in range(1000):\n",
    "    key = ''.join(random.choice(string.ascii_letters) for _ in range(5))\n",
    "    value = random.randint(1, 5)\n",
    "    students[key] = value\n",
    "\n",
    "print(students)\n",
    "\n",
    "#Create a dictionary of 1000 students with random strings of lengths from 3 to 10 as keys and random grades:\n",
    "students = {}\n",
    "\n",
    "for i in range(1000):\n",
    "    key_len = random.randint(3, 10)\n",
    "    key = ''.join(random.choice(string.ascii_letters) for _ in range(key_len))\n",
    "    value = random.randint(1, 5)\n",
    "    students[key] = value\n",
    "\n",
    "print(students)\n",
    "\n",
    "#Calculate the average grade for the class:\n",
    "total_grade = 0\n",
    "num_students = len(students)\n",
    "\n",
    "for key, value in students.items():\n",
    "    total_grade += value\n",
    "\n",
    "average_grade = total_grade / num_students\n",
    "\n",
    "print(f\"The average grade for the class is {average_grade:.2f}\")\n",
    "\n",
    "#Calculate the number of times each grade has occurred:\n",
    "grade_counts = {1: 0, 2: 0, 3: 0, 4: 0, 5: 0}\n",
    "\n",
    "for value in students.values():\n",
    "    grade_counts[value] += 1\n",
    "\n",
    "print(grade_counts)"
   ]
  },
  {
   "attachments": {},
   "cell_type": "markdown",
   "metadata": {},
   "source": [
    "### Functions\n",
    "\n",
    "Turn what you've done in the previous exercise into functions. Don't write one monotholic function, split it logically."
   ]
  },
  {
   "cell_type": "code",
   "execution_count": 19,
   "metadata": {},
   "outputs": [
    {
     "name": "stdout",
     "output_type": "stream",
     "text": [
      "{'vOAes': 3, 'wkZBo': 5, 'bPxwa': 5, 'TMkWE': 3, 'VOhxA': 2, 'xMdyK': 3, 'xlsFk': 1, 'UEakd': 3, 'vOqig': 5, 'AQzII': 4, 'QuUeB': 3, 'YzJTX': 3, 'mmZwY': 3, 'cwnTg': 2, 'wnNPO': 1, 'RZWLv': 4, 'cAYcc': 1, 'cQLEn': 1, 'dJrZF': 2, 'NINor': 1, 'ENiCq': 5, 'uUtyk': 1, 'FEwsj': 4, 'lFHtT': 5, 'pKfXQ': 2, 'sszWm': 3, 'NjoXl': 2, 'xInjx': 2, 'fawXI': 1, 'VxtsA': 4, 'vRanQ': 1, 'qfmTE': 1, 'wupQj': 5, 'LSGfo': 3, 'RuOJP': 2, 'lajst': 4, 'oSSFW': 5, 'FoFyz': 2, 'oqAhI': 5, 'Jmvag': 1, 'roWDW': 4, 'bygul': 4, 'NzrfC': 2, 'tYqsh': 2, 'CHRWN': 3, 'TaEMf': 5, 'tzVhw': 3, 'VHOyJ': 2, 'CKGsP': 4, 'pvcAQ': 2, 'aimer': 5, 'mFZWu': 4, 'NEqiY': 3, 'Tiptr': 5, 'Uflli': 3, 'dYzlf': 3, 'JeXbD': 4, 'uuvSw': 4, 'SzKRl': 3, 'edinN': 2, 'GzrIU': 3, 'vQhDi': 3, 'rAmUL': 4, 'cEMyK': 3, 'mhEUX': 4, 'zTqYS': 3, 'EdICF': 4, 'tyGNY': 4, 'eRUsK': 5, 'APTJn': 4, 'LUuMj': 5, 'eXwYW': 1, 'boVbb': 4, 'YgMJB': 5, 'yFwFv': 4, 'jXhWC': 4, 'fKCTZ': 2, 'ryMZb': 3, 'LTzGW': 5, 'aCBjZ': 2, 'DUxul': 1, 'NlRWX': 2, 'fPGjt': 3, 'XDafB': 5, 'UVUsx': 2, 'quWgE': 2, 'oOKUy': 2, 'AKMjW': 2, 'COcTw': 4, 'jeKoM': 2, 'ywzrB': 4, 'HWJiS': 2, 'YtpVk': 2, 'UHxnQ': 2, 'hfLnV': 3, 'bCBuI': 4, 'zYjEv': 2, 'FOtSM': 2, 'jODPW': 5, 'KGltZ': 2, 'UwUYb': 5, 'qAIDv': 2, 'ExKBp': 3, 'XMJuN': 2, 'jRrdn': 3, 'BJkJz': 1, 'hHHgZ': 4, 'rTVJZ': 4, 'HuJDL': 3, 'QIopQ': 1, 'LhoUc': 5, 'WMFpq': 3, 'ihyRp': 3, 'uwGav': 2, 'djCLS': 5, 'SvRGH': 3, 'AlLfM': 3, 'IxXJg': 2, 'Kjboi': 1, 'pFcsy': 5, 'UrwKN': 2, 'nuflo': 1, 'WdEga': 3, 'eQgHz': 4, 'eWhuv': 5, 'uQmJF': 3, 'gSIkV': 3, 'oPHtc': 2, 'FvnHr': 4, 'kWbdv': 1, 'qGkGc': 2, 'cSXiM': 3, 'dEFFM': 5, 'BXFwD': 1, 'RnOSE': 5, 'suXBQ': 1, 'HpbKb': 5, 'FUvaL': 5, 'qUcmK': 5, 'eukKI': 1, 'MxjpR': 5, 'Wkkwb': 5, 'aBIgT': 1, 'dItmp': 4, 'EnIbM': 1, 'gHRLl': 1, 'DVOgU': 5, 'AwaqO': 3, 'wGcaw': 1, 'OumoI': 2, 'kMkhT': 4, 'CfcxP': 1, 'ToEhY': 5, 'DIhDV': 3, 'zVfVo': 5, 'MgTZI': 2, 'lmjyk': 4, 'PKkWa': 3, 'AkrfT': 2, 'uIFSV': 2, 'rKWmZ': 2, 'jVFqx': 5, 'IwWBc': 4, 'YqMvj': 1, 'GeZUF': 3, 'ZUnKY': 1, 'hscXj': 1, 'GcOBg': 1, 'aDvyp': 1, 'Ahdvs': 3, 'ACuCd': 2, 'zFnNt': 5, 'dHhfW': 5, 'rgqCF': 5, 'rpvLD': 4, 'YOdFL': 1, 'VpuML': 3, 'UYwIZ': 3, 'yYfnN': 5, 'LsRwO': 4, 'UJUCp': 4, 'eCPbP': 3, 'Zpbmb': 3, 'MliHv': 2, 'DNxSE': 3, 'AlDFv': 2, 'WRxIj': 2, 'PUhkR': 3, 'sWdiy': 4, 'sTTEu': 1, 'kYYOQ': 1, 'eqipI': 4, 'ENNZO': 3, 'GdxkQ': 2, 'zWaQB': 1, 'hYSGf': 3, 'muWWG': 5, 'ZaBtH': 4, 'qyRPa': 5, 'BLDpQ': 4, 'fOzta': 3, 'wEjbY': 1, 'eCBws': 5, 'lIHpk': 1, 'rJIxk': 5, 'MDwys': 5, 'ErZBp': 4, 'gIOfJ': 1, 'CWWjk': 4, 'DWXfB': 5, 'pvzZm': 4, 'qxJle': 5, 'YpELk': 4, 'HZIiO': 5, 'UEOtg': 3, 'NJwHZ': 3, 'vquPp': 3, 'lWkpQ': 5, 'oAWhB': 2, 'rCbau': 2, 'eewhr': 1, 'mYdFr': 5, 'RsGuo': 2, 'NVxpT': 5, 'KWpsv': 1, 'yluou': 3, 'HyATX': 5, 'MOqCK': 3, 'xnfVp': 1, 'gaLQJ': 4, 'eSDxI': 5, 'ZDCMC': 5, 'UwagO': 4, 'gtGvc': 4, 'TRYik': 3, 'cGQXr': 2, 'bIYJH': 4, 'AjHEX': 4, 'DTneH': 1, 'ZCHoM': 4, 'QfLnk': 4, 'XfUMd': 3, 'wnori': 5, 'BEuJJ': 2, 'LzNWW': 2, 'ijkej': 4, 'ATpmC': 5, 'MkpKf': 5, 'UNPsb': 1, 'eAXfe': 5, 'wvpkG': 1, 'PCgMG': 3, 'Rovdj': 3, 'LaAlE': 1, 'WnVCX': 1, 'xzSDS': 3, 'JsHwv': 2, 'WkUKV': 2, 'bwcfR': 5, 'TgiRM': 3, 'MjUZf': 3, 'BMszK': 4, 'tcUyG': 5, 'mrRkq': 4, 'cdEHJ': 1, 'cpNpx': 3, 'wWowg': 2, 'VHlQe': 2, 'tiMXe': 5, 'NXnWV': 5, 'HqdFP': 3, 'ziXtA': 5, 'ToKub': 1, 'VtyrN': 1, 'XVIMw': 2, 'pgEzL': 2, 'ttIKT': 5, 'tEcDU': 5, 'BFdgc': 4, 'BGzfR': 1, 'stsqj': 5, 'VppkR': 2, 'uBWOQ': 2, 'lyJEy': 5, 'nlEGn': 5, 'BGsxg': 3, 'aBUUY': 1, 'PSVfO': 3, 'HlHeS': 4, 'fltNd': 3, 'tpGUR': 2, 'emYCe': 2, 'ZmBPh': 3, 'HBkbu': 1, 'bNZqs': 3, 'pGSjF': 4, 'JnOWB': 5, 'ENPVb': 3, 'BGGgv': 3, 'IZxPu': 5, 'QgGsB': 5, 'syuHL': 3, 'lTQKa': 2, 'iwzeL': 3, 'kCyNG': 5, 'HUIuN': 1, 'DIyWj': 2, 'rbNKS': 1, 'lffYs': 2, 'KoZsL': 2, 'ThiiV': 1, 'JfvJN': 2, 'jhwDJ': 1, 'QHrch': 3, 'DehmW': 3, 'uqljn': 1, 'fTjEF': 2, 'szMub': 3, 'pDdTK': 4, 'Inaoh': 4, 'jUSNt': 2, 'WANHL': 2, 'VxyrS': 3, 'rYzWQ': 2, 'QDOgH': 3, 'tlMxq': 3, 'WTnDc': 4, 'ALqDk': 5, 'tBKKo': 1, 'roPZB': 5, 'xchNN': 5, 'LoQmI': 3, 'rzrTU': 3, 'KcnsJ': 2, 'UTuVw': 1, 'WzUoI': 2, 'szucU': 5, 'xBWRw': 1, 'PQRvh': 2, 'nPbvP': 2, 'crAZi': 3, 'oOUlL': 2, 'pArFF': 3, 'oZVXB': 5, 'RKmFE': 2, 'mDGmJ': 4, 'YshpW': 3, 'yniCF': 4, 'byVqm': 3, 'KyPtv': 4, 'owJRS': 1, 'okmzg': 5, 'pvInI': 3, 'tcvUQ': 4, 'BBUss': 1, 'lrznj': 3, 'gTRhx': 4, 'gbYmI': 1, 'ekVjl': 2, 'hMNAQ': 2, 'RokKm': 3, 'YhlQy': 2, 'FRHbu': 5, 'cOUwW': 1, 'sxkHm': 2, 'yeSFe': 1, 'LfdmG': 3, 'CZMiQ': 4, 'RTvJi': 2, 'yVXaQ': 4, 'kHVGG': 4, 'Wbpao': 5, 'HGxZv': 3, 'wWQjI': 5, 'VGliE': 4, 'unroa': 1, 'rKIpM': 1, 'nfDgz': 5, 'MlamH': 2, 'ITrxR': 5, 'VSjsN': 4, 'SdHZu': 2, 'ksXUA': 3, 'OhhDd': 3, 'OIoHI': 5, 'FZafW': 3, 'aCKBi': 1, 'fIODc': 5, 'FeYhX': 2, 'oVgMU': 5, 'Ilcmw': 2, 'iWDoI': 2, 'pHuFk': 5, 'BxcSK': 3, 'TYIdD': 3, 'wnOXP': 4, 'tlTsw': 5, 'MWQTJ': 3, 'jNULV': 5, 'ZHAKq': 1, 'OxUag': 2, 'HKxKU': 5, 'cRxVX': 3, 'aqrkH': 2, 'dccDY': 5, 'QjvIf': 3, 'QYagn': 1, 'HEiry': 5, 'eWrZZ': 5, 'oyRBk': 3, 'thiLM': 3, 'zrEFW': 1, 'zpKgh': 2, 'TRqhX': 2, 'joDip': 3, 'ceJKa': 3, 'SBeRK': 3, 'kozRd': 1, 'jhMOJ': 5, 'aTNtn': 4, 'SLmOM': 4, 'pvpvK': 3, 'iBuvD': 4, 'JfWSn': 1, 'ciUen': 3, 'KlYDU': 5, 'PwzOm': 1, 'DUzbT': 4, 'MGZzg': 2, 'UBJQu': 3, 'bKLqQ': 2, 'PEnzi': 5, 'AGWxI': 1, 'FWVUr': 3, 'KKLGY': 5, 'oknJM': 5, 'OFVgZ': 1, 'xNZvQ': 1, 'dMpMr': 4, 'yDqxf': 1, 'lclas': 5, 'BJkJx': 4, 'jbbUy': 5, 'qVVXo': 2, 'PsbAI': 4, 'AKbaP': 5, 'EsxtP': 4, 'ODZpq': 5, 'gHdZz': 4, 'DIMWc': 1, 'bTxfO': 1, 'qfCvd': 4, 'FKQpB': 4, 'bDKDi': 4, 'lpClW': 4, 'CfUWP': 4, 'eYNCH': 2, 'ZNrHA': 5, 'PWHtC': 3, 'yiUpR': 3, 'hcrMK': 3, 'cmdhm': 1, 'tvslD': 3, 'rhGgF': 1, 'siJZM': 4, 'lcvhK': 2, 'zkysE': 3, 'jvrpF': 4, 'WVAqv': 4, 'mvBFt': 4, 'nSnnY': 3, 'Zkncn': 2, 'cCEpE': 5, 'KnmaL': 5, 'HSItO': 3, 'VzseD': 1, 'oMMxS': 3, 'rvuWh': 1, 'LaUmd': 2, 'JnukT': 4, 'UmVxj': 5, 'uBfYe': 5, 'pANjY': 1, 'zCbXG': 5, 'JMngW': 4, 'IluFS': 4, 'ehzJY': 2, 'fSgqN': 1, 'vBTYq': 2, 'hXRCm': 2, 'deAbW': 3, 'bEAPN': 3, 'fLqVs': 3, 'Xgqas': 2, 'vYvUc': 4, 'huzgC': 4, 'XqQCS': 1, 'niZMT': 5, 'Vgrcg': 2, 'Egmxh': 3, 'hxMEY': 1, 'udSva': 2, 'Ietzd': 1, 'MNPMp': 2, 'MdPDE': 3, 'TkVZJ': 2, 'udASW': 1, 'ZkOTa': 2, 'vOINQ': 3, 'LsDeC': 5, 'NLaAH': 2, 'DfFnk': 1, 'NULvz': 3, 'ZGqKq': 2, 'fPYCI': 1, 'AutEL': 2, 'cbAkP': 5, 'fpCCy': 4, 'gIZJD': 1, 'KlDNA': 4, 'ghrLa': 1, 'gyAXq': 1, 'axrPH': 5, 'DynJO': 2, 'WyyZz': 3, 'lAlvV': 5, 'mLDFP': 2, 'KUymO': 5, 'AvmoL': 1, 'kChxY': 2, 'QuTQl': 5, 'XleFW': 2, 'uNJQX': 5, 'nZxca': 2, 'KsviV': 5, 'nZLhV': 2, 'EuImy': 3, 'uFoag': 1, 'Xmokl': 2, 'lPaGc': 3, 'TFXIt': 5, 'cmjNy': 2, 'mrqMm': 5, 'TtUxb': 5, 'vyNoD': 1, 'Cgmwo': 1, 'QfcxJ': 3, 'PowFo': 3, 'msGjh': 5, 'JfXHM': 3, 'ybfXf': 5, 'kiHWU': 4, 'vTMmE': 4, 'JVpbV': 2, 'ghMDV': 2, 'AxGqg': 5, 'zZzab': 2, 'QSskq': 2, 'JdiFL': 4, 'QMRwx': 2, 'bwKHk': 3, 'PgQgr': 5, 'UVasw': 2, 'YpFUn': 1, 'fLLAq': 3, 'dicHa': 2, 'JmZRf': 3, 'NNXak': 2, 'hgYdP': 4, 'KZfOz': 3, 'PdXqO': 3, 'kfKDJ': 5, 'iseVQ': 4, 'BiQzu': 1, 'NjfOx': 4, 'scaGR': 3, 'TLELp': 5, 'GWulu': 1, 'fDcMC': 4, 'RStYg': 1, 'nYGUk': 4, 'FLVcV': 2, 'EdEIP': 2, 'QDRRr': 1, 'qWAcJ': 1, 'aHvNP': 1, 'ULYBt': 1, 'vjUoJ': 3, 'VeaZw': 4, 'zaivX': 1, 'RQqiD': 4, 'vDsIU': 5, 'UJnVc': 3, 'GhOLk': 4, 'oysoL': 5, 'lrxFJ': 3, 'YNZwB': 2, 'DPQJQ': 2, 'yARru': 3, 'fsUsK': 4, 'vXQaQ': 4, 'GwZef': 4, 'HQoSn': 3, 'rVwZv': 3, 'ONdQT': 1, 'jhJCn': 5, 'KHtgi': 3, 'vFohU': 3, 'nmXMk': 1, 'HzZst': 1, 'WAbmH': 3, 'zsKEV': 4, 'OVsTk': 4, 'JZZmw': 2, 'joBeP': 1, 'cCQUU': 4, 'CDXLU': 4, 'yweGf': 2, 'rBJtH': 3, 'qyKNw': 5, 'cSxKH': 1, 'TrHGV': 1, 'IRtYo': 4, 'FhbLp': 5, 'kStri': 1, 'rzQke': 4, 'qDkIK': 3, 'keRGr': 5, 'vfgnD': 4, 'wlAKZ': 5, 'EvjgE': 1, 'JRVuJ': 1, 'tesfn': 4, 'IQsPZ': 5, 'GEVXq': 2, 'vOFzI': 4, 'vLwsH': 4, 'avoOG': 2, 'bLakt': 4, 'laOBe': 2, 'qONPK': 3, 'fmeGQ': 5, 'gcrCC': 3, 'PEnox': 5, 'uuUMZ': 5, 'wmKFY': 1, 'DcOMN': 4, 'aVDPy': 1, 'CtWaY': 4, 'tEmsl': 3, 'pzHDW': 3, 'ZIBel': 4, 'sKIvo': 1, 'AvWzA': 3, 'ZsPhf': 2, 'muZdv': 2, 'jjHFf': 3, 'lFczp': 1, 'aYUPe': 2, 'jHUCv': 4, 'wBpWL': 2, 'fvMCX': 1, 'tTBFi': 2, 'NrNBH': 4, 'DSowU': 2, 'RDPBw': 4, 'LMQbX': 5, 'KQHID': 3, 'hNcsa': 1, 'XnARz': 4, 'xgTmk': 5, 'eGdxX': 3, 'zQXCo': 1, 'ggzrP': 1, 'bQQUZ': 4, 'MbnZf': 3, 'DNcUE': 5, 'wvTpu': 4, 'cMYIo': 4, 'IpVrX': 2, 'iElQI': 5, 'cqpgV': 2, 'ucRdg': 4, 'kqamw': 1, 'NQbwM': 3, 'OZghe': 3, 'LfZhY': 5, 'cPAoz': 2, 'mCTXx': 4, 'HKzmy': 2, 'yEuXP': 2, 'DXpFd': 3, 'ogCYu': 3, 'GKLiZ': 2, 'VGYEg': 3, 'XrNfh': 4, 'rTigM': 3, 'SbLYa': 1, 'JGBeT': 1, 'cPerM': 5, 'QCFxN': 4, 'GBZSY': 4, 'xWqLe': 5, 'dafcz': 3, 'wlrDr': 4, 'UHGqZ': 5, 'QZvTy': 1, 'mtuOa': 2, 'HNCrL': 3, 'zltYM': 4, 'QLoNG': 5, 'LdfmP': 2, 'VkHLN': 3, 'ykcam': 5, 'xKKqx': 1, 'xBNoI': 1, 'zgtcZ': 1, 'HiEVj': 5, 'kKSPI': 5, 'bUNjP': 1, 'cPnJo': 2, 'TkYxc': 2, 'Uuifh': 3, 'mCUAo': 4, 'JIrYo': 2, 'eNNeJ': 1, 'vKxeS': 3, 'dkJYa': 1, 'dGUCJ': 4, 'uDyId': 2, 'jRLYn': 3, 'wcMlW': 4, 'MSkaA': 4, 'rCLbg': 4, 'NjVwx': 4, 'nHUHG': 2, 'IdRfC': 2, 'rlAfg': 3, 'sgSiD': 4, 'IjpBD': 2, 'hiJLL': 2, 'WPveH': 5, 'avZXr': 5, 'XbFaG': 3, 'FjWye': 4, 'IXzlt': 3, 'qgusa': 5, 'GTDuJ': 2, 'oLkBl': 1, 'sBKtZ': 1, 'lsFhS': 4, 'Aijqz': 2, 'KNFzu': 5, 'leeuc': 1, 'NMGWg': 4, 'qjbbi': 1, 'IBtim': 5, 'iDSLP': 2, 'UXTUR': 5, 'LupbZ': 1, 'Fophc': 1, 'iWDHz': 2, 'bPoQS': 1, 'uMTDO': 4, 'MTFUU': 4, 'sFDZH': 4, 'mOaPK': 5, 'IawAL': 3, 'zioCt': 3, 'LEolD': 4, 'YUWBH': 3, 'uHvtU': 3, 'HdWBN': 2, 'rDbyz': 2, 'Vntuf': 4, 'aWPRf': 5, 'RMEBJ': 3, 'zWNgv': 1, 'CVArB': 1, 'zCHVG': 4, 'kNtbC': 2, 'eGcYY': 2, 'gEnbH': 2, 'QJiFy': 3, 'BwWcj': 2, 'uuZdC': 2, 'JSYQP': 4, 'jZudR': 1, 'chyVW': 4, 'RIozF': 5, 'oNpzs': 5, 'fKioR': 2, 'KEXiN': 2, 'DZsiD': 5, 'spOdO': 2, 'aLQog': 2, 'fpnOg': 2, 'UsWFb': 4, 'dvhUU': 4, 'JCBuA': 3, 'kWEZl': 5, 'Ohfru': 1, 'EPzSp': 5, 'nCfgV': 3, 'NGcWd': 4, 'sSgjc': 5, 'qZMpc': 3, 'zGshT': 2, 'fLrCx': 5, 'JMijk': 3, 'LiLBU': 5, 'IYzYz': 2, 'wszlB': 5, 'ylpvt': 4, 'AScKR': 1, 'SNCjQ': 4, 'AadeQ': 4, 'ttsel': 5, 'urkdR': 2, 'LkHId': 4, 'cNMYJ': 4, 'RuxPs': 1, 'GYqjE': 4, 'hjtmn': 1, 'VGeJR': 3, 'YdlAO': 5, 'hIZFO': 3, 'UrEwI': 2, 'alnlA': 2, 'hfNGd': 3, 'GzpmL': 1, 'IGcDx': 4, 'ocWty': 1, 'WhdbO': 5, 'zpOjX': 5, 'EKwTj': 2, 'UmtYs': 3, 'KOXJL': 1, 'bPXGA': 4, 'DgTVQ': 2, 'eagXs': 2, 'kZpdX': 4, 'FLYcp': 4, 'OgLDY': 2, 'hOfMv': 2, 'HFwdP': 2, 'WFZLb': 5, 'Aglmf': 4, 'HNfBA': 3, 'jqIOm': 2, 'YdMgY': 4, 'FchFO': 3, 'MvFGX': 5, 'wfzMl': 2, 'UOuzS': 1, 'cjrwE': 5, 'NBPfh': 1, 'srLdn': 5, 'blfFg': 5, 'fDgtw': 3, 'YLtDs': 1, 'ijKqe': 2, 'OrIDT': 4, 'rMYUm': 5, 'RQotP': 3, 'fUaAv': 1, 'ZNfRB': 1, 'qrCbA': 1, 'LpYzv': 5, 'WjwYr': 1, 'ITuik': 5, 'dPHvq': 1, 'VTmzc': 1, 'kudQu': 5, 'WRTRM': 1, 'lHVlO': 4, 'incNv': 4, 'qFAtu': 5, 'TsTwK': 4, 'WHEcN': 1, 'kfNrm': 4, 'VXIdG': 5, 'jiuQo': 4, 'CqFqt': 2, 'tzaOG': 4, 'XIcbA': 2, 'hvVGO': 4, 'jrfSx': 2, 'BggKk': 3, 'satjC': 1, 'NTOnh': 4, 'sRUzP': 3, 'eUzFR': 4, 'Sgukd': 4, 'SLbrC': 5, 'bUysn': 2, 'vPzIG': 3, 'kCKNA': 3, 'EXcHG': 4, 'QJiIl': 5, 'YPHWP': 4, 'KoUxK': 2, 'apZZc': 2, 'hIBJL': 4, 'lPzGK': 2, 'tRfKk': 3, 'xyWGr': 1, 'JzDCK': 1, 'FvxCK': 2, 'eXyRQ': 3, 'sJhtK': 1, 'KOQOE': 3, 'ZtqCb': 4, 'mvCZL': 2, 'XtcoV': 3, 'MHOxV': 2, 'ICHZa': 5, 'RHdxj': 1, 'HaBlD': 1, 'HfZlr': 2, 'hYBSj': 2, 'ReKMr': 2, 'LwRtZ': 1, 'tcqqF': 2, 'sEYPF': 1, 'mysRK': 3, 'SZUWF': 2, 'EHHtM': 5, 'rXucA': 2, 'OtSkt': 4, 'EjjGA': 2, 'geDtL': 4, 'OyOJY': 4, 'BorhV': 4, 'Adjsa': 3, 'dNWdd': 5, 'XkYsy': 2, 'vTagf': 3, 'jiOJP': 1, 'VAoCz': 3, 'XTvPI': 1, 'ezWMG': 3, 'ZmVWQ': 3, 'FXfIh': 4, 'MHeYg': 1, 'zTZcF': 2, 'ntxUW': 2, 'KHQqZ': 1, 'nrdZQ': 3, 'dbfrt': 2, 'BvlIe': 4, 'gKjno': 3, 'pmqzj': 4, 'yAJRS': 5, 'wVPAq': 5, 'MDkiM': 3, 'fRdVP': 3, 'ttncY': 2, 'WkcEn': 5, 'ieiAo': 2, 'mQLpJ': 4, 'aLamP': 5, 'oRZnV': 1, 'VnxjS': 1, 'qhDRz': 4, 'JxYgm': 1, 'OgPlW': 4, 'YeyYh': 3, 'GAMYK': 5, 'VqiAp': 5, 'muzMl': 4, 'VqFJW': 1, 'IyndA': 2, 'SdTZx': 4, 'orukK': 3, 'qNeTi': 3, 'ejdPE': 5, 'fIxXm': 1, 'YEVYK': 3, 'FPuze': 5, 'cpxqS': 5, 'OYxJS': 3, 'SIPJL': 5, 'gjmio': 4, 'lKKDs': 2, 'MNoVB': 2, 'FSaBi': 5, 'jIkXP': 4, 'eQVWU': 5, 'GvymF': 2, 'XGwSI': 3, 'exhyU': 1, 'xGZxf': 1, 'zInlp': 4, 'LNBeY': 5, 'ubYcj': 4, 'DXgRX': 1, 'kemJE': 5, 'VaQrO': 5, 'yTmPW': 2}\n",
      "The average grade for the class is 3.02\n",
      "{1: 182, 2: 213, 3: 208, 4: 199, 5: 198}\n",
      "{'VmQY': 5, 'AfdmdhM': 3, 'NXz': 3, 'xeEZ': 1, 'JkTEUhX': 4, 'bBA': 2, 'PFwRNgrJTr': 2, 'uqXFDNBHmm': 1, 'lil': 3, 'MhXLp': 1, 'lljxy': 2, 'brxnNT': 5, 'RSzgEleyl': 5, 'AJE': 5, 'rOXZI': 2, 'KiLFKoFM': 2, 'kzqhivT': 4, 'FMycWe': 4, 'giiOIlxx': 5, 'edbm': 3, 'ofDeLpFRmg': 2, 'VIKHKVu': 5, 'tcRtsgSaq': 4, 'QmSdeeIyo': 5, 'GffnjEH': 3, 'hPlqXOtjRJ': 4, 'apN': 1, 'pmWlvg': 4, 'RmAyBt': 4, 'CjOYoyX': 5, 'wcOlubB': 2, 'KKK': 2, 'PiYnnmBVbh': 5, 'vVboA': 3, 'NXiIRpYO': 5, 'NckwdeXxi': 2, 'qRVlMR': 4, 'hLiE': 5, 'bUf': 2, 'NcOTFzidq': 3, 'ybamfy': 2, 'GOAW': 1, 'wuF': 4, 'kbf': 5, 'VHpXzf': 2, 'omi': 3, 'lSsxC': 3, 'dkd': 4, 'DBIzeMOiE': 4, 'YuD': 4, 'jMSBBFzo': 5, 'YylSkHb': 3, 'zgXGSMW': 3, 'gcxCoOO': 5, 'oGYJWI': 1, 'WLByTZ': 5, 'mbdY': 4, 'weBBnIwJ': 5, 'LVMwJft': 1, 'qEbWsvXUXi': 4, 'pSM': 3, 'lTxIdmpP': 4, 'TSoIJybiU': 2, 'iCVYHTT': 5, 'UUe': 1, 'LQAHiqV': 1, 'dMRTSPkN': 1, 'MctKh': 5, 'isxJDYGpLX': 1, 'CCuYV': 2, 'jNff': 4, 'iOfKbrFmHx': 3, 'zjGDct': 4, 'PCUYQgJCd': 4, 'bMGcmixNMP': 5, 'YBloliqyBJ': 3, 'eGSwA': 5, 'LIBOYtYPv': 2, 'kTb': 5, 'Wtf': 3, 'ZaaH': 1, 'dWZP': 1, 'wZmmfTjAU': 4, 'tkgKHu': 5, 'NoxORwo': 5, 'irPpMTz': 1, 'KHAeWNcDT': 4, 'UpbeUDsdDC': 4, 'kfa': 5, 'AazMMybJ': 2, 'zqdTUXEyjt': 1, 'kzr': 1, 'MJHwoMRLm': 2, 'kQH': 1, 'fRiRod': 3, 'iSZs': 2, 'BREISMk': 2, 'AAKxvlTINp': 2, 'qIRCRYlgT': 1, 'PFZmdL': 3, 'hbMwspQ': 4, 'fRcj': 2, 'UOxDRQ': 2, 'QonjSQQWUD': 2, 'DRXRU': 5, 'ZErFt': 2, 'wpLQrw': 1, 'smvqdj': 3, 'ibzEFHnJQ': 3, 'kOiJlqjRPl': 5, 'SzrLppEKSC': 1, 'pzSVKgf': 4, 'svJgMAMu': 3, 'hlfPYvaz': 5, 'wFg': 4, 'Sac': 4, 'wquAiHAbr': 2, 'xSnRG': 2, 'mWwdN': 4, 'SrsUafh': 3, 'yPNSBNNJfm': 1, 'xKUNRzP': 1, 'XBxb': 4, 'FBXj': 2, 'SkHuojZCTw': 2, 'ZcH': 4, 'gXcAUVArzg': 5, 'vvRlzeom': 4, 'CUt': 2, 'jcRtTCXQ': 3, 'msANNk': 2, 'wHiFecxAS': 4, 'IpW': 1, 'KPVWA': 3, 'pZsGtmrcu': 3, 'qifAflN': 3, 'gYtDcnmhk': 1, 'vHAUCzyq': 1, 'JReMSl': 5, 'zTZLNZRT': 1, 'SHQ': 2, 'qPuzLYlOsM': 1, 'BkCw': 4, 'wpWzDwsvvn': 4, 'YjYtxwEpxd': 3, 'olFQKDHl': 3, 'UzkEd': 5, 'hOtlZdx': 5, 'epEUW': 4, 'PeLrzHmHe': 4, 'fWlTFoo': 4, 'TxJJmdr': 1, 'fuhAfVqFhJ': 1, 'jewv': 5, 'izqWKvslxB': 1, 'rbWQBGmf': 4, 'hZqFgDreb': 4, 'nDJZiOYqU': 5, 'AIJqgmUxzq': 4, 'NoQRiWNq': 4, 'JMAdDc': 2, 'gnpfkJbnt': 5, 'KbyIa': 1, 'XwnDwBtKq': 3, 'DeHJOXmd': 4, 'WhMMqd': 2, 'Vtin': 3, 'xcUR': 5, 'UzduYUsJZ': 1, 'SUrorXe': 5, 'IEr': 3, 'jatoA': 3, 'vHkxojxD': 2, 'cKckAOSjX': 1, 'UKcSN': 2, 'dqhUlBk': 4, 'PNDSe': 1, 'mNGy': 2, 'FWNOJhRa': 5, 'DzhrwGVT': 2, 'AWF': 5, 'TKSZyg': 4, 'ymlZjqbB': 2, 'AoMrpzy': 2, 'EapAUAfO': 3, 'OrzIwW': 5, 'YahYXyFTJh': 5, 'LVFJXyqaLf': 5, 'Slsi': 3, 'utCnh': 3, 'dPTomG': 4, 'OIZcEHpWZ': 1, 'FZKaJ': 1, 'jcbxPeakpT': 3, 'MbxvpjInXe': 3, 'TcHJqqW': 4, 'MNbPGrIYVa': 1, 'fwDYeHEYUd': 2, 'ljFsK': 2, 'jeqz': 5, 'QFczNfUCsz': 4, 'Xnudd': 5, 'xZPgxLSMcU': 5, 'OtQNrjoCHy': 2, 'yaegVzy': 4, 'EHH': 4, 'Bvarl': 5, 'XypdllpU': 4, 'gyVLv': 5, 'ZFx': 4, 'jKskf': 1, 'slczhbbZ': 5, 'IEwfJq': 3, 'AxHzh': 5, 'zNO': 3, 'hfFYvLy': 3, 'Dlpi': 5, 'OHcqPWCL': 1, 'XWnCo': 5, 'wnYpmOcR': 4, 'eEpsqMzp': 5, 'VJvFwvZu': 3, 'xAUf': 1, 'GUYMKrDg': 2, 'MmrG': 1, 'BFUV': 5, 'ucVms': 2, 'KZjL': 2, 'Chl': 1, 'nNjjDp': 5, 'PQELONOYP': 4, 'tiSb': 5, 'cDWtmUmVn': 2, 'piW': 3, 'fwCJ': 2, 'ZZVbXor': 3, 'OqfkHPHsb': 1, 'sKCRWXb': 4, 'UTG': 1, 'Xloov': 2, 'zwsQVCTzJE': 5, 'hVaSoIbX': 5, 'Uzu': 3, 'iNlHAywDZS': 1, 'kpvxd': 2, 'hFF': 5, 'NLCjlWxE': 4, 'niVF': 4, 'QrDq': 1, 'WEKczxh': 4, 'XPNsKEy': 3, 'AVMQfAq': 3, 'umOD': 3, 'GzKshAZ': 3, 'cfqnsFqfJ': 5, 'PWW': 4, 'yJWW': 3, 'GkKZeY': 1, 'OFsZbnfQ': 1, 'sKsWXRkg': 3, 'JpMtQ': 1, 'wKKAzFBB': 3, 'MuzKnbyhu': 3, 'MgZyi': 3, 'djlgkKyyx': 3, 'YyBHCL': 3, 'FWcL': 3, 'hldBbkjRut': 5, 'mdgrEG': 4, 'RIPWfUcYPL': 2, 'QcDb': 2, 'kQc': 1, 'ROWiGfESM': 5, 'KSlTh': 1, 'xpcb': 3, 'dyVTxxQAG': 1, 'MokHjNdzlp': 2, 'GWcWK': 1, 'HvGGv': 3, 'gNjvAR': 3, 'udPaMajIB': 1, 'kcydz': 2, 'HUhKXCNx': 2, 'CjZeyrS': 5, 'wILnMiksj': 4, 'bjBuUmy': 1, 'rHODNnI': 5, 'VjcXVCpbkJ': 5, 'AOrxUoHb': 4, 'DKfd': 4, 'FHjdx': 4, 'oQThBnlasv': 1, 'eGLUfeo': 4, 'DANTOpB': 3, 'GaXPOmju': 1, 'wVFYtZa': 5, 'MSH': 4, 'CoRpmZdFQ': 3, 'TNhoXh': 2, 'GIbPp': 5, 'RROlcMEy': 1, 'kMbWyy': 5, 'xlZSxYWn': 2, 'WsJ': 5, 'gkWYtsQ': 5, 'kzcBb': 1, 'FwSmm': 2, 'FKMDo': 1, 'RHWoPsfx': 3, 'xmWrSv': 4, 'CUsQ': 3, 'qChDmizVwX': 2, 'HlCjr': 4, 'aNkR': 3, 'HpHpgQ': 5, 'ELlJUf': 3, 'mKcjCpa': 3, 'KWxbcCSCQq': 5, 'SsE': 2, 'TMZIL': 5, 'dqbrmDWS': 2, 'DtmjegLqXD': 3, 'CZU': 3, 'IRGvxWlad': 4, 'tsYVuWp': 3, 'eBbQ': 4, 'UxwoBvU': 4, 'UZk': 2, 'uUBUBYAkI': 5, 'CCtuFbeB': 2, 'LlUT': 1, 'tjV': 5, 'IOr': 3, 'WUfiNi': 3, 'NLOF': 4, 'OfbFIDYCK': 1, 'lAlsdMxxZK': 3, 'KOvq': 1, 'kwplGDQq': 5, 'JnwkYQqIuM': 3, 'WJMCjT': 4, 'uQyIeFRJpc': 4, 'hVWx': 2, 'DcCkoOatAi': 1, 'NEADpCgn': 2, 'EIW': 5, 'xAyRrTgVwl': 5, 'MVr': 4, 'OFqqFNC': 5, 'TmKdW': 1, 'UZi': 1, 'DUl': 5, 'TLhePO': 3, 'DeZaETJ': 1, 'YROuJhvgWl': 2, 'ZDrbnFEO': 5, 'Qua': 4, 'CEBDAVZ': 3, 'maeBhdetQ': 5, 'CVsj': 1, 'jNOJf': 5, 'TdhPLW': 3, 'lCz': 5, 'DtD': 3, 'sQJ': 4, 'qbH': 1, 'zxmgGM': 4, 'ptUbMoPany': 5, 'PqWxVBbn': 2, 'GlyNIyqAeQ': 3, 'pLcLtHty': 3, 'tBW': 1, 'rxrw': 2, 'GdrVsHc': 4, 'puDFYOvtV': 3, 'IVlN': 5, 'WqssJO': 1, 'WhfLPOh': 2, 'eBXLWiZs': 1, 'HEwRPCj': 1, 'gaNZKowqDY': 5, 'wGFTvQU': 1, 'wyU': 3, 'ubChE': 1, 'XWHwuNktF': 3, 'HAjLm': 4, 'ewN': 4, 'ThlxQEEFVh': 4, 'neR': 2, 'WyRldt': 4, 'WejeK': 1, 'dbFwhM': 1, 'JAXUq': 5, 'IypSFcdKV': 4, 'kcPfjYxeF': 3, 'YpW': 3, 'nnjgh': 5, 'bTODn': 4, 'rBUGNynrJ': 3, 'MXYfmHD': 3, 'CBA': 2, 'RjZavjQoM': 4, 'IapqgcjRT': 4, 'LjI': 5, 'htyKxKPSn': 4, 'ilVJKZ': 1, 'Znqnvy': 4, 'EpVcC': 4, 'AhVuiLIQp': 1, 'kbZuBdzD': 2, 'ZxzvyqgV': 1, 'YOlg': 4, 'YnC': 1, 'YMPKpBPca': 3, 'SuHPCWLu': 5, 'mqIwKdwwAD': 3, 'PWZQLqlcw': 4, 'gkRzXgx': 5, 'vkmfF': 5, 'ESmx': 5, 'hpinwdome': 1, 'QGVKLebM': 1, 'HFuwtug': 5, 'fHUpl': 5, 'RMnNny': 2, 'hJfodr': 3, 'sBs': 2, 'MYToaCu': 3, 'gmCbb': 4, 'AvX': 5, 'oVkeLmS': 2, 'kBxrSoA': 2, 'WTm': 1, 'GOUJhBel': 5, 'uOYfIjQ': 3, 'SYI': 4, 'vKLZgGgwVY': 4, 'rXPUk': 4, 'rgRtnTy': 5, 'SKEH': 3, 'UYF': 4, 'YWCseP': 5, 'FKv': 3, 'juJekIb': 1, 'AQy': 4, 'YWfVYY': 4, 'RkG': 4, 'NTTnLZB': 2, 'QdfDFXLmt': 3, 'lMQHs': 5, 'XEVWz': 3, 'qBBX': 5, 'lQiMOK': 5, 'TssbdMPbcx': 5, 'qAEy': 2, 'pfQ': 1, 'jYTNIllXh': 1, 'bfk': 2, 'TPgbQH': 3, 'ovMJyktvK': 3, 'OSyIRAp': 2, 'wsm': 4, 'JKmfu': 5, 'ZNV': 1, 'jHQe': 4, 'jIjxqO': 3, 'VHWMcWxOjR': 5, 'ZzXcqVlO': 5, 'LBYs': 5, 'GqatuiPd': 1, 'DEBwISTI': 3, 'KlBRJr': 3, 'YzEpYdVIL': 2, 'BFQ': 4, 'jmIKYysNF': 4, 'zSEuBWVwOT': 3, 'zRoXRAaN': 1, 'FjyR': 3, 'HQEiTAsYd': 3, 'GIGlp': 5, 'cxNh': 4, 'oDpCaUdow': 3, 'XzbWLpes': 2, 'OnhmRr': 2, 'EISsMNyOOe': 4, 'drc': 5, 'ijAYSMvC': 5, 'DHmphWQ': 5, 'NnUgdXmM': 2, 'DRXowZYrGh': 4, 'JDE': 3, 'wtVAsWn': 3, 'aEffHFsU': 4, 'BHif': 1, 'sZfVegVgSF': 2, 'Jzy': 3, 'AasJlm': 4, 'Nlw': 4, 'qOiQWoUEN': 4, 'MafBArkp': 2, 'mMnFR': 3, 'yGavWJ': 4, 'LxprsQP': 5, 'laEo': 2, 'rRO': 4, 'wuR': 2, 'OPJznw': 1, 'pbBE': 2, 'jFlaKFR': 2, 'DJSzJ': 5, 'qWAJLP': 1, 'TOI': 1, 'iSBKTM': 2, 'ZtYN': 4, 'vywpz': 2, 'qertFk': 3, 'iAQnabK': 1, 'MBVKJcXEKs': 2, 'lUtQMB': 3, 'jMK': 5, 'vOYhOylX': 5, 'TtWW': 3, 'ZCKGpp': 3, 'ZYxFCCYJa': 4, 'KvjFda': 1, 'eXzgTiK': 4, 'jEkyJV': 2, 'pzMUUhsyXj': 4, 'WAeUYf': 2, 'UrnANZwIq': 4, 'QHwlGQV': 5, 'ZFfHOJBMIN': 3, 'WaPG': 1, 'PedCTws': 4, 'xHdb': 3, 'vTV': 2, 'tosn': 4, 'WIeokghhAl': 3, 'bHmD': 2, 'clrcnKVak': 2, 'vtnZvKnL': 5, 'VURqT': 2, 'KEei': 4, 'xnOUzv': 2, 'Esa': 4, 'rncqyDyW': 5, 'prdmlUkr': 3, 'zKKBaRBP': 2, 'GUToLkjI': 4, 'SVVtQTusdD': 1, 'MmVHd': 4, 'NxyCeEMlQ': 2, 'tbDYQONl': 3, 'fpHJilkKyn': 2, 'qcCzRPsDny': 4, 'PyylxBSkAK': 3, 'irP': 3, 'JyKcE': 5, 'YLrQuKOmcR': 2, 'rKco': 2, 'mpkWvVBTxN': 3, 'EjA': 3, 'KQV': 3, 'uLuJ': 2, 'cXFdwqyPXW': 3, 'VDQ': 3, 'yRvl': 3, 'GwBM': 3, 'cWJXuYk': 4, 'eLjUXqcGz': 5, 'eDym': 3, 'oqRFkGlX': 3, 'uePNElk': 5, 'gUiSBzhs': 3, 'cBvDPD': 1, 'ElQjX': 1, 'tjxa': 3, 'swUIOfABy': 2, 'LKCKWiJ': 5, 'GKunaASri': 1, 'wUeYpeKCF': 1, 'btoMnCuS': 5, 'cYZPUWy': 4, 'QpQwpEcfYQ': 2, 'zXDgBJqcT': 5, 'AbdgbVrkka': 3, 'LfbqvF': 4, 'YCLxbA': 1, 'ocpyvRlGTe': 5, 'IYEu': 3, 'IYpYywFBA': 3, 'pPDzPZaRbn': 3, 'GYNi': 5, 'BrVjtPpsZK': 2, 'rsgQ': 4, 'BRhSp': 2, 'WWyh': 1, 'VPPvJ': 1, 'OZYeKonLh': 1, 'yWPDFv': 3, 'vWx': 4, 'LfjzxWAh': 5, 'XdbbbadrZ': 4, 'aFNh': 4, 'ENnitdohj': 5, 'YAaldkdAmB': 1, 'GAtLrln': 4, 'CuG': 2, 'xvDUI': 3, 'IdiLAbARnM': 1, 'lmF': 1, 'DTUhgYV': 5, 'nPxVL': 3, 'nyEhssJbqJ': 2, 'tOjjpbRzo': 2, 'AwbsXK': 3, 'vOSfCTuL': 2, 'bVqIKMjo': 1, 'Vkv': 2, 'tHpuWCY': 4, 'HpIeDxvNP': 4, 'jKRlJc': 1, 'LOWfTADfr': 1, 'XRAlC': 3, 'KFOOVxTR': 2, 'Qvik': 1, 'mGr': 4, 'GitRdKVXgt': 4, 'PXyJNzeM': 1, 'dUyIf': 1, 'ozd': 3, 'HvvKPmXJSx': 2, 'EWQqx': 3, 'dQKKx': 1, 'CxXTHX': 1, 'latA': 3, 'OJT': 2, 'QjuSGL': 5, 'TIpZVjj': 2, 'VqFyeRc': 1, 'ZbBV': 3, 'PSDBo': 3, 'ftuXAkXh': 4, 'jmDgijo': 1, 'miOv': 1, 'CeKBY': 2, 'uYo': 3, 'HquV': 5, 'TJpDkXg': 3, 'XdccFO': 2, 'WGcLqMUzK': 2, 'fdnLRHBiVr': 1, 'fJoPDhoCDQ': 2, 'TzdFiIdQZ': 4, 'WpJLFC': 4, 'bNFI': 1, 'KKnkGcJw': 3, 'atn': 4, 'QkRaTFOW': 4, 'GzNQ': 2, 'FIsuLfafYz': 5, 'KUwc': 5, 'RERQq': 1, 'bkAmorrFA': 2, 'bvIIa': 5, 'mNT': 2, 'sqTyB': 4, 'QpqeSiI': 5, 'CXAepIYYSz': 5, 'QHCCbsjGHd': 1, 'frVmGApv': 5, 'zcgytETVxo': 1, 'NzjWbvN': 3, 'riyspCF': 5, 'GxhZcisVxA': 4, 'TYO': 1, 'cyGt': 3, 'XKLaqDp': 1, 'ugcFN': 1, 'ihk': 1, 'UztqK': 5, 'XNE': 1, 'iWtfLjV': 4, 'Yykq': 2, 'xkxpvze': 5, 'tNeeTl': 3, 'kcAPSmX': 4, 'HnwtDIqYy': 4, 'XfzNrv': 5, 'HelroNKeBA': 2, 'WBnAGyWE': 4, 'wIeCSrLIUQ': 3, 'OGjiEr': 2, 'MlyjRuH': 4, 'JYJGhtZkWg': 2, 'oCRgVrSE': 2, 'QdiFTB': 3, 'qfulNoGJJL': 5, 'FXUxxxf': 5, 'OVFb': 2, 'eTzuOpz': 5, 'Zfjdo': 5, 'eIYoh': 1, 'ZKG': 2, 'IotThZ': 3, 'RvEdWwU': 2, 'KhWbLj': 3, 'XYq': 3, 'bRsyLyutTe': 4, 'tviIWqph': 2, 'DqMOk': 4, 'auwKaAMXF': 2, 'XCCJBJ': 1, 'budroXN': 2, 'nCanIYmhn': 2, 'wOKN': 3, 'KPTW': 2, 'ZzCNDuDrt': 2, 'OnrilcfHUI': 5, 'RFXnM': 3, 'pscltPTT': 3, 'TyQnXvx': 3, 'gRyjGT': 3, 'Qpz': 2, 'vNxyhO': 5, 'OUxhPz': 2, 'NpFRtgqPaK': 4, 'ksQKXpwu': 2, 'kouaFgDqHj': 2, 'nSBGSuN': 5, 'wZJoLGDSW': 2, 'kkUPoJlj': 4, 'GlpPkmHxF': 4, 'BJQWalAKy': 3, 'kHaJYDHsT': 5, 'zlyRGcCgAo': 3, 'hxXmmeGir': 3, 'XzXf': 1, 'Srg': 4, 'IGNT': 1, 'mjgvk': 4, 'HeJGWF': 3, 'NMiKksjx': 3, 'eUMPjZhel': 5, 'eXoS': 3, 'RFMpY': 1, 'ZoGINrE': 5, 'oEEBxsEa': 4, 'bqdLCx': 4, 'obhHxR': 4, 'HbBiX': 2, 'DMo': 4, 'rRQWxZSL': 3, 'NecDX': 2, 'RsHwLcxRlM': 1, 'TEKfF': 1, 'ttNGlu': 4, 'MRhwEJi': 3, 'KlgVjxhj': 1, 'hcHfxv': 3, 'MpUR': 1, 'MwotYsCsoZ': 3, 'HhwGWrMOb': 5, 'EyvjkBCxC': 3, 'AYvWa': 3, 'vTXX': 5, 'vgUQ': 5, 'czn': 1, 'ikEwnxwCE': 4, 'ShuOXkRIo': 3, 'otUF': 2, 'LGGToTg': 3, 'XdYeSCmrlU': 4, 'SLTffqTR': 5, 'moGtWrl': 1, 'gfkdbl': 4, 'wHGwquH': 3, 'pauQnX': 1, 'DcMMKelkW': 1, 'nqznSSjY': 5, 'Sjc': 3, 'GiqMoIGZ': 1, 'ldjEoZH': 5, 'CYc': 5, 'ODecS': 3, 'nPvqKUsV': 5, 'RFzofWdrBK': 3, 'iKZutR': 2, 'KPMNNhlvDm': 5, 'sig': 2, 'aQPOQcj': 4, 'jiiXGc': 1, 'meJiy': 5, 'XAfq': 5, 'CdyaMqNp': 4, 'AmmWpzh': 2, 'Lhkrqi': 1, 'qgBdEQRV': 3, 'XcekDkcNZG': 2, 'ArtcYv': 2, 'JBMfBmEVB': 5, 'cDB': 3, 'fKwwYQPON': 3, 'ltdF': 1, 'SUlgb': 4, 'egS': 4, 'XcMrgXyGYS': 1, 'FgG': 5, 'BJRB': 2, 'eLAAdbMa': 4, 'czaxzUS': 4, 'tGISZlyCA': 2, 'uAG': 2, 'oexEcaAtmZ': 2, 'ZeHhwdCe': 5, 'GqspV': 5, 'lQl': 3, 'ufdfsyP': 2, 'sMAuBZUrju': 5, 'mTCs': 2, 'ixlEipAsgA': 1, 'vsMjFpNl': 3, 'UYDluWaq': 3, 'QGJ': 4, 'ccjvZw': 3, 'rAkagcNQYG': 3, 'KhRa': 1, 'qlg': 2, 'dAvEkGtL': 3, 'CrkEHs': 3, 'DPCyjjNjYq': 2, 'wWgj': 2, 'JiVPejBrJ': 3, 'fghPX': 4, 'iBB': 5, 'dywlknpqA': 2, 'eTPIbBvYD': 4, 'mJDQFLj': 4, 'svPzCN': 1, 'flAiFswP': 2, 'EPWBaUvkbm': 5, 'lQdsN': 2, 'hrvDjyUEd': 2, 'ibNvXuWwRo': 5, 'TQIKTDt': 5, 'lyCFGIv': 1, 'ESQWxKAC': 1, 'iSiy': 4, 'bUnc': 4, 'jsXsbHQ': 3, 'ORc': 4, 'tPSWg': 2, 'Gfz': 4, 'PGtCuc': 1, 'TTVaNpb': 2, 'PZQsaNINSs': 4, 'vGFBuNJ': 3, 'fhDWTggwd': 5, 'xAh': 1, 'csjgKX': 2, 'tTWCMfgW': 2, 'anRxIARs': 3, 'ccQOnjH': 5, 'GOJjbPVhkD': 1, 'KNpOsKcnI': 5, 'HDZj': 2, 'WyIC': 1, 'LkYeDJmCSv': 5, 'RonIHeHeaE': 4, 'MbZ': 4, 'FdX': 5, 'fgOhKm': 3, 'XcXzDvkR': 4, 'phvI': 2, 'ZmVtDuMo': 5, 'xgqyCsuR': 1, 'bLxBAuddV': 3, 'naxUbZK': 4, 'cODCgoVAv': 4, 'ljnz': 3, 'jkqo': 1, 'BHHEKD': 2, 'AfJvH': 5, 'OhMsUrlCQf': 3, 'KCAAwfFM': 2, 'BXI': 3, 'PwyNfWqeDL': 4, 'QLIaTAps': 1, 'zLaOIWYz': 5, 'cvZB': 2, 'pbPUKQtTAE': 2, 'amDiQA': 1, 'FhWyEe': 2, 'UkKjRiiMvR': 4, 'VIEs': 2, 'lhUPY': 2, 'KqR': 4, 'avyKrj': 5, 'qme': 1, 'KbAIzFuBV': 2, 'OeQ': 2, 'dVIjNRF': 5, 'YjYkYw': 4, 'fvnGWQOg': 5, 'vGHU': 3, 'vthK': 1, 'ViwcLyOQ': 1, 'FbuXWXo': 4, 'zaZF': 5, 'YsIkDjBfg': 1, 'TmY': 4, 'DRrp': 1, 'qyRyrvjU': 2, 'hjspcWS': 1, 'XxvJk': 1, 'dTFlnw': 3, 'VAF': 2, 'isSmSBOYWQ': 3, 'uhrzCgPv': 5, 'HSHKiDR': 3, 'dhjEMZWmUO': 3, 'aAZXrI': 4, 'yDsDdU': 5, 'ojLJ': 5, 'YuR': 3, 'tLmvFMbm': 2, 'sfseA': 5, 'lKhIXG': 4, 'VkmUGHmT': 2, 'RnlcTP': 4, 'tGN': 5, 'vOW': 2, 'IkcqNVaPA': 3, 'MUgQm': 5, 'JnQYzxdPF': 2, 'hDJcXfeS': 2, 'JoRD': 3, 'AMWmOX': 1, 'WkpqdL': 3, 'HeqwoL': 5, 'MYVtuH': 1, 'EkbRfoXG': 4, 'NOdQTI': 3, 'aAzhsm': 5, 'FYINwNzbw': 4, 'ArkoYT': 4, 'vlnKc': 4, 'PnPAnCEHV': 3, 'XvjjR': 3, 'RWRxwzu': 4, 'iMty': 4, 'hdxXWBIwy': 2, 'XFQUVa': 2, 'NhMUajxJoQ': 5, 'wQGWRoUk': 2, 'RhyHSXQjWd': 2, 'BBlTPQ': 5, 'xhJgrgqGjq': 1, 'hzxxRYfOg': 2, 'mEpWwiD': 5, 'AMY': 2, 'nRzVkJp': 2, 'CMhRw': 4, 'TIwfK': 4, 'XGGl': 5, 'nLB': 1, 'hQmHejowN': 3, 'txuGRw': 5, 'BKh': 2, 'IECZoOO': 4, 'zGGsGUhf': 1, 'cKZqijx': 2, 'rkyAyJpn': 4, 'tMJTEc': 4, 'cemkKk': 5, 'DLGtsAv': 5, 'ejVtDIOVLw': 4, 'KlDNOCV': 2, 'UiBkzIAD': 3, 'tJkomMMZ': 5, 'Asqt': 4, 'cWi': 2, 'jOvKlleT': 5, 'btIUHmVMH': 4, 'OhQAnnIPY': 5, 'nYWuzqk': 1, 'VjQX': 2, 'JolmBrN': 1, 'muQqKqobJF': 2, 'IXPOWFYdO': 5, 'GUSc': 5, 'wuyhubTA': 2, 'ccQmChngpG': 1, 'lhzPf': 1, 'XOZzBhA': 5, 'kYAvpHImy': 3, 'jMBIPtl': 1, 'oVLtc': 2, 'VNVOBI': 5, 'biXEHPgFu': 4}\n",
      "The average grade for the class is 3.06\n",
      "{1: 178, 2: 202, 3: 211, 4: 205, 5: 204}\n"
     ]
    }
   ],
   "source": [
    "import string\n",
    "import random\n",
    "\n",
    "def generate_students_dict(num_students, key_length):\n",
    "    \"\"\"\n",
    "    Generates a dictionary of random students.\n",
    "\n",
    "    Parameters:\n",
    "    - num_students (int): The number of students to generate.\n",
    "    - key_length (tuple): A tuple of two integers representing the minimum and maximum length of the student keys.\n",
    "\n",
    "    Returns:\n",
    "    - A dictionary where the keys are random strings and the values are random grades.\n",
    "    \"\"\"\n",
    "    students_dict = {}\n",
    "\n",
    "    for i in range(num_students):\n",
    "        key_len = random.randint(key_length[0], key_length[1])\n",
    "        key = ''.join(random.choice(string.ascii_letters) for _ in range(key_len))\n",
    "        value = random.randint(1, 5)\n",
    "        students_dict[key] = value\n",
    "\n",
    "    return students_dict\n",
    "\n",
    "\n",
    "def calculate_average_grade(students_dict):\n",
    "    \"\"\"\n",
    "    Calculates the average grade for the given dictionary of students.\n",
    "\n",
    "    Parameters:\n",
    "    - students_dict (dict): A dictionary where the keys are student names and the values are their grades.\n",
    "\n",
    "    Returns:\n",
    "    - A float representing the average grade for the class.\n",
    "    \"\"\"\n",
    "    total_grade = sum(students_dict.values())\n",
    "    num_students = len(students_dict)\n",
    "    average_grade = total_grade / num_students\n",
    "\n",
    "    return average_grade\n",
    "\n",
    "\n",
    "def count_grades(students_dict):\n",
    "    \"\"\"\n",
    "    Counts the number of occurrences of each grade in the given dictionary of students.\n",
    "\n",
    "    Parameters:\n",
    "    - students_dict (dict): A dictionary where the keys are student names and the values are their grades.\n",
    "\n",
    "    Returns:\n",
    "    - A dictionary where the keys are grades and the values are the number of occurrences of that grade.\n",
    "    \"\"\"\n",
    "    grade_counts = {1: 0, 2: 0, 3: 0, 4: 0, 5: 0}\n",
    "\n",
    "    for value in students_dict.values():\n",
    "        grade_counts[value] += 1\n",
    "\n",
    "    return grade_counts\n",
    "\n",
    "\n",
    "# Example usage:\n",
    "students_dict_1 = generate_students_dict(1000, (5, 5))\n",
    "print(students_dict_1)\n",
    "average_grade_1 = calculate_average_grade(students_dict_1)\n",
    "print(f\"The average grade for the class is {average_grade_1:.2f}\")\n",
    "grade_counts_1 = count_grades(students_dict_1)\n",
    "print(grade_counts_1)\n",
    "\n",
    "students_dict_2 = generate_students_dict(1000, (3, 10))\n",
    "print(students_dict_2)\n",
    "average_grade_2 = calculate_average_grade(students_dict_2)\n",
    "print(f\"The average grade for the class is {average_grade_2:.2f}\")\n",
    "grade_counts_2 = count_grades(students_dict_2)\n",
    "print(grade_counts_2)"
   ]
  },
  {
   "attachments": {},
   "cell_type": "markdown",
   "metadata": {},
   "source": [
    "### Thinking stretching\n",
    "\n",
    "* Given an array of integers nums and an integer target, return indices of the two numbers such that they add up to target.\n",
    "* You may assume that each input would have exactly one solution, and you may not use the same element twice.\n",
    "* You can return the answer in any order."
   ]
  },
  {
   "cell_type": "markdown",
   "metadata": {},
   "source": []
  },
  {
   "cell_type": "code",
   "execution_count": 20,
   "metadata": {},
   "outputs": [],
   "source": [
    "def two_sum(nums, target):\n",
    "    \"\"\"\n",
    "    Given an array of integers nums and an integer target, return indices of the two numbers such that they add up to target.\n",
    "    \"\"\"\n",
    "    # create a dictionary to store the complement of each number and its index\n",
    "    complement_dict = {}\n",
    "    for i, num in enumerate(nums):\n",
    "        complement = target - num\n",
    "        if complement in complement_dict:\n",
    "            # return the indices if complement is found\n",
    "            return [complement_dict[complement], i]\n",
    "        # store the complement and its index in the dictionary\n",
    "        complement_dict[num] = i\n",
    "    \n",
    "    # no match found\n",
    "    return []"
   ]
  }
 ],
 "metadata": {
  "kernelspec": {
   "display_name": "Python 3.10.7 64-bit",
   "language": "python",
   "name": "python3"
  },
  "language_info": {
   "codemirror_mode": {
    "name": "ipython",
    "version": 3
   },
   "file_extension": ".py",
   "mimetype": "text/x-python",
   "name": "python",
   "nbconvert_exporter": "python",
   "pygments_lexer": "ipython3",
   "version": "3.9.13"
  },
  "orig_nbformat": 4,
  "vscode": {
   "interpreter": {
    "hash": "1f0e6d99f3103fd78365fe1cf7b2d51239fa0878786db9cbdfe89bc88a3151d3"
   }
  }
 },
 "nbformat": 4,
 "nbformat_minor": 2
}
