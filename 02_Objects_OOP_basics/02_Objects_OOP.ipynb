{
 "cells": [
  {
   "cell_type": "markdown",
   "metadata": {},
   "source": [
    "# Lecture 02\n",
    "\n",
    "### Table of contents\n",
    "\n",
    "* [Object-oriented programming](#OOP)"
   ]
  },
  {
   "cell_type": "code",
   "execution_count": 1,
   "metadata": {},
   "outputs": [],
   "source": [
    "a= '12'"
   ]
  },
  {
   "cell_type": "code",
   "execution_count": 8,
   "metadata": {},
   "outputs": [
    {
     "name": "stdout",
     "output_type": "stream",
     "text": [
      "did something stupid\n",
      "thats it, go recap!\n"
     ]
    }
   ],
   "source": [
    "#quick practice:\n",
    "#recall the initial example\n",
    "\n",
    "try:\n",
    "    a = [12,3]\n",
    "    # a[3]\n",
    "    # 1/0\n",
    "\n",
    "    '100' + 347\n",
    "except TypeError:\n",
    "    print('did something stupid')\n",
    "except ZeroDivisionError:\n",
    "    print('do not divide by zero')\n",
    "except Exception as e:\n",
    "    print(f'other error {e}')\n",
    "finally:\n",
    "    #always run at the end of try-except block\n",
    "    print('thats it, go recap!')"
   ]
  },
  {
   "cell_type": "markdown",
   "metadata": {},
   "source": [
    "* here we are mixing types, and it’s unclear to Python whether the user wants to\n",
    "  * convert '100' to an integer and then add it to 400, or\n",
    "  * convert 347 to string and then concatenate it with '300'\n",
    "* to avoid the error, you need to clarify by changing the relevant type"
   ]
  },
  {
   "cell_type": "markdown",
   "metadata": {},
   "source": [
    "# OOP and the role of objects\n",
    "\n",
    "Wikipedia definition\n",
    "\n",
    "> is a programming paradigm based on the concept of **objects**, which can contain data and code: data in the form of fields (often known as attributes or properties), and code, in the form of procedures (often known as methods).\n",
    "\n",
    "> A feature of objects is that an object's own procedures can access and often modify the data fields of itself (**objects have a notion of this or self**). In OOP, computer programs are designed by making them out of objects that interact with one another. OOP languages are diverse, but the most popular ones are class-based, meaning that objects are instances of classes, which also determine their types.\n",
    "\n",
    "\n",
    "> In general, OOP tends to be more clear than procedural script. Objects have clearly defined, properties and methods -> what they are, what data they hold, what can they do with them \n",
    "\n",
    "\n",
    ">  If done right, you save lots of typing, less or no copypasting of code ->  DRY principle - Do not repeat yourself (easier debugging and devel potentially)\n",
    "\n",
    "* the traditional (at least for us) programming paradigm is called **procedural** (Fortran, C, MATLAB, etc.)\n",
    "    * Your program goes line by line, variables are changing\n",
    "    * we have data (variables) in different states\n",
    "    \n",
    "    * we call functions on these data\n",
    "    \n",
    "    \n",
    "* in OOP *data* and *functions* (methods) are “bundled together” into **objects**\n",
    "* OOP supported in many languages:\n",
    "    * R is more procedural with some (rather atypical) OOP blend\n",
    "    * JAVA and Ruby are pure OOP\n",
    "    * Fortran and MATLAB are mainly procedural (recently OOP tacked on)\n",
    "    * C is procedural, C++ is C with OOP added on to\n",
    "<br />\n",
    "<br />\n",
    "* Python is a blends object oriented and procedural styles, rather than OOP only\n",
    "    * most of the times (especially for small programs) you can use procedural programming\n",
    "    \n",
    "   <br />\n",
    "   \n",
    "   \n",
    "* Remember `array.sum()`?\n",
    "        \n",
    "<br />\n",
    " \n",
    "* Useful when working on problems where there is some common structure in it\n",
    "    * a statistical model consists of coefficients, data, derived metrics, etc.\n",
    "    * a game consists of a list of players, lists of actions available to each player, player payoffs as functions of all players’ actions, and a timing protocol\n",
    "    * a market consists of buyers, sellers and intermediaries - they run transactions,those can have same properties (log buy-side, log sell-side is likely same code. Why copy-paste it)\n",
    "    \n",
    "* abstractions that collect together “objects” of the same “type”\n",
    "    * recognizing common structure allows us to employ common tools\n",
    "    * For instance class Model can have method Fit. It can be OLS, GLS, .. each would have the same signature,they would only have different insides (fitting algorithm) \n",
    "\n",
    "\n",
    "\n",
    "* OOP paradigm should be implemented using these steps\n",
    "    * OOA (analysis), OOD (design) and OOP\n",
    "        * ideally separated, in reality overlapping and repeating \n",
    "        \n",
    "* to represent OOP structure, use [Unified Modeling Language (UML)](https://www.uml-diagrams.org/index-examples.html)\n",
    "    * easy-to-draw and easy-to-read\n",
    "    * most of the things are optional (only specify as much information in a diagram as makes sense for the current situation\n",
    "    * con: UML diagrams are going to be redundant before they're implemented \n",
    "        * the most important person you will ever have to communicate with is yourself (why did I do design decision?)\n",
    "\n",
    "\n",
    "## Objects\n",
    "* an object is a collection of data and instructions held in computer memory that consists of:\n",
    "    * a type\n",
    "    * an unique identity\n",
    "    * data (content)\n",
    "    * methods\n",
    "    \n",
    "    * in Python, everything is an object - in the sense that it can be assigned to a variable or passed as an argument to a function\n",
    "        * All functions and classes have a built-in attribute __doc__, which returns the doc string defined in the function's source code. The `sys module` is an object which has (among other things) an attribute called path. And so forth.\n",
    "        \n",
    "        \n",
    "<img src=\"https://qph.fs.quoracdn.net/main-qimg-fabec043cb6f94bd90a3d1bd3ebccdc5.webp\" >    \n",
    "    \n",
    "### Type\n",
    "* different types of objects, to accommodate different categories of data"
   ]
  },
  {
   "cell_type": "code",
   "execution_count": 9,
   "metadata": {},
   "outputs": [
    {
     "data": {
      "text/plain": [
       "str"
      ]
     },
     "execution_count": 9,
     "metadata": {},
     "output_type": "execute_result"
    }
   ],
   "source": [
    "s = 'A string'\n",
    "type(s)"
   ]
  },
  {
   "cell_type": "markdown",
   "metadata": {},
   "source": [
    "### Data and Attributes\n",
    "* if we set `x = 42` then we create an object of type int that contains the data 42\n",
    "    * however, in effect it contains much more:\n",
    "   "
   ]
  },
  {
   "cell_type": "code",
   "execution_count": 10,
   "metadata": {},
   "outputs": [
    {
     "name": "stdout",
     "output_type": "stream",
     "text": [
      "42\n",
      "<class 'int'>\n"
     ]
    },
    {
     "data": {
      "text/plain": [
       "['__abs__',\n",
       " '__add__',\n",
       " '__and__',\n",
       " '__bool__',\n",
       " '__ceil__',\n",
       " '__class__',\n",
       " '__delattr__',\n",
       " '__dir__',\n",
       " '__divmod__',\n",
       " '__doc__',\n",
       " '__eq__',\n",
       " '__float__',\n",
       " '__floor__',\n",
       " '__floordiv__',\n",
       " '__format__',\n",
       " '__ge__',\n",
       " '__getattribute__',\n",
       " '__getnewargs__',\n",
       " '__gt__',\n",
       " '__hash__',\n",
       " '__index__',\n",
       " '__init__',\n",
       " '__init_subclass__',\n",
       " '__int__',\n",
       " '__invert__',\n",
       " '__le__',\n",
       " '__lshift__',\n",
       " '__lt__',\n",
       " '__mod__',\n",
       " '__mul__',\n",
       " '__ne__',\n",
       " '__neg__',\n",
       " '__new__',\n",
       " '__or__',\n",
       " '__pos__',\n",
       " '__pow__',\n",
       " '__radd__',\n",
       " '__rand__',\n",
       " '__rdivmod__',\n",
       " '__reduce__',\n",
       " '__reduce_ex__',\n",
       " '__repr__',\n",
       " '__rfloordiv__',\n",
       " '__rlshift__',\n",
       " '__rmod__',\n",
       " '__rmul__',\n",
       " '__ror__',\n",
       " '__round__',\n",
       " '__rpow__',\n",
       " '__rrshift__',\n",
       " '__rshift__',\n",
       " '__rsub__',\n",
       " '__rtruediv__',\n",
       " '__rxor__',\n",
       " '__setattr__',\n",
       " '__sizeof__',\n",
       " '__str__',\n",
       " '__sub__',\n",
       " '__subclasshook__',\n",
       " '__truediv__',\n",
       " '__trunc__',\n",
       " '__xor__',\n",
       " 'as_integer_ratio',\n",
       " 'bit_length',\n",
       " 'conjugate',\n",
       " 'denominator',\n",
       " 'from_bytes',\n",
       " 'imag',\n",
       " 'numerator',\n",
       " 'real',\n",
       " 'to_bytes']"
      ]
     },
     "execution_count": 10,
     "metadata": {},
     "output_type": "execute_result"
    }
   ],
   "source": [
    "\n",
    "x = 42\n",
    "print(x)\n",
    "print(type(x))\n",
    "dir(x)"
   ]
  },
  {
   "cell_type": "code",
   "execution_count": 11,
   "metadata": {},
   "outputs": [
    {
     "data": {
      "text/plain": [
       "module"
      ]
     },
     "execution_count": 11,
     "metadata": {},
     "output_type": "execute_result"
    }
   ],
   "source": [
    "import numpy as np\n",
    "type(np)"
   ]
  },
  {
   "cell_type": "markdown",
   "metadata": {},
   "source": [
    "* the type of an object matters for many expressions, e.g.\n",
    "    * the addition operator between two strings = concatenation\n",
    "    * vs. the addition between two integers or floats"
   ]
  },
  {
   "cell_type": "code",
   "execution_count": 12,
   "metadata": {},
   "outputs": [
    {
     "data": {
      "text/plain": [
       "'100cc'"
      ]
     },
     "execution_count": 12,
     "metadata": {},
     "output_type": "execute_result"
    }
   ],
   "source": [
    "'100' + 'cc'"
   ]
  },
  {
   "cell_type": "code",
   "execution_count": 13,
   "metadata": {},
   "outputs": [
    {
     "data": {
      "text/plain": [
       "447"
      ]
     },
     "execution_count": 13,
     "metadata": {},
     "output_type": "execute_result"
    }
   ],
   "source": [
    "100 + 347\n",
    "\n",
    "# clearly we running the same operation on different objects\n",
    "# is it something you would expect?"
   ]
  },
  {
   "cell_type": "code",
   "execution_count": 14,
   "metadata": {},
   "outputs": [
    {
     "ename": "TypeError",
     "evalue": "can only concatenate str (not \"int\") to str",
     "output_type": "error",
     "traceback": [
      "\u001b[1;31m---------------------------------------------------------------------------\u001b[0m",
      "\u001b[1;31mTypeError\u001b[0m                                 Traceback (most recent call last)",
      "\u001b[1;32m~\\AppData\\Local\\Temp\\ipykernel_10544\\1231739055.py\u001b[0m in \u001b[0;36m<module>\u001b[1;34m\u001b[0m\n\u001b[0;32m      1\u001b[0m \u001b[1;31m# mixing types, not clear what to do\u001b[0m\u001b[1;33m\u001b[0m\u001b[1;33m\u001b[0m\u001b[0m\n\u001b[1;32m----> 2\u001b[1;33m \u001b[1;34m'100'\u001b[0m \u001b[1;33m+\u001b[0m \u001b[1;36m347\u001b[0m\u001b[1;33m\u001b[0m\u001b[1;33m\u001b[0m\u001b[0m\n\u001b[0m",
      "\u001b[1;31mTypeError\u001b[0m: can only concatenate str (not \"int\") to str"
     ]
    }
   ],
   "source": [
    "# mixing types, not clear what to do\n",
    "'100' + 347"
   ]
  },
  {
   "cell_type": "code",
   "execution_count": 15,
   "metadata": {},
   "outputs": [],
   "source": [
    "a = 1\n",
    "b = 2"
   ]
  },
  {
   "cell_type": "markdown",
   "metadata": {},
   "source": [
    "### Identity\n",
    "* each object has a unique identifier, which helps Python (and us) keep track of the object\n",
    "* the identity of an object can be obtained via the `id()` function"
   ]
  },
  {
   "cell_type": "code",
   "execution_count": 20,
   "metadata": {},
   "outputs": [
    {
     "name": "stdout",
     "output_type": "stream",
     "text": [
      "1896131483600\n"
     ]
    },
    {
     "data": {
      "text/plain": [
       "1896131484592"
      ]
     },
     "execution_count": 20,
     "metadata": {},
     "output_type": "execute_result"
    }
   ],
   "source": [
    "y = 2.5\n",
    "z = 2.5\n",
    "print(id(y))\n",
    "id(z) #those can be quite different on Windows - it is a reference to memory \n",
    "#they are not the same object"
   ]
  },
  {
   "cell_type": "code",
   "execution_count": 19,
   "metadata": {},
   "outputs": [
    {
     "data": {
      "text/plain": [
       "True"
      ]
     },
     "execution_count": 19,
     "metadata": {},
     "output_type": "execute_result"
    }
   ],
   "source": [
    "callable(np.array)"
   ]
  },
  {
   "cell_type": "markdown",
   "metadata": {},
   "source": [
    "* y and z happen to have the same value, but they are not the same object\n",
    "    * the identity of an object is just the **address of the object in memory**"
   ]
  },
  {
   "cell_type": "markdown",
   "metadata": {},
   "source": [
    "* when Python creates this integer object, it stores with it various auxiliary information, such as the imaginary part, and the type\n",
    "    * any name following a dot is called an attribute of the object to the left of the dot\n",
    "    * objects have attributes that contain auxillary information\n",
    "        * some attributes act like functions, these are called **methods**"
   ]
  },
  {
   "cell_type": "markdown",
   "metadata": {},
   "source": [
    "### Methods\n",
    "* functions that are bundled with objects\n",
    "* methods are attributes of objects that are callable (i.e., can be called as functions)\n",
    "* class methods differ from ordinary functions by the necessity to have an extra first name `self` (at the beginning of the parameter list)"
   ]
  },
  {
   "cell_type": "code",
   "execution_count": 21,
   "metadata": {},
   "outputs": [
    {
     "name": "stdout",
     "output_type": "stream",
     "text": [
      "\u001b[1;31mSignature:\u001b[0m \u001b[0mcallable\u001b[0m\u001b[1;33m(\u001b[0m\u001b[0mobj\u001b[0m\u001b[1;33m,\u001b[0m \u001b[1;33m/\u001b[0m\u001b[1;33m)\u001b[0m\u001b[1;33m\u001b[0m\u001b[1;33m\u001b[0m\u001b[0m\n",
      "\u001b[1;31mDocstring:\u001b[0m\n",
      "Return whether the object is callable (i.e., some kind of function).\n",
      "\n",
      "Note that classes are callable, as are instances of classes with a\n",
      "__call__() method.\n",
      "\u001b[1;31mType:\u001b[0m      builtin_function_or_method\n"
     ]
    }
   ],
   "source": [
    "?callable"
   ]
  },
  {
   "cell_type": "markdown",
   "metadata": {},
   "source": [
    "* e.g. Python list not only stroes data, but also knows how to append value to itself or sort itself\n",
    "    * `sort` and `append` are functions that are “part of” the list object — and hence called methods"
   ]
  },
  {
   "cell_type": "code",
   "execution_count": 22,
   "metadata": {},
   "outputs": [
    {
     "data": {
      "text/plain": [
       "True"
      ]
     },
     "execution_count": 22,
     "metadata": {},
     "output_type": "execute_result"
    }
   ],
   "source": [
    "x = ['foo', 'bar']\n",
    "callable(x.sort) #it is a function x.sort()"
   ]
  },
  {
   "cell_type": "code",
   "execution_count": 25,
   "metadata": {},
   "outputs": [
    {
     "data": {
      "text/plain": [
       "True"
      ]
     },
     "execution_count": 25,
     "metadata": {},
     "output_type": "execute_result"
    }
   ],
   "source": [
    "callable(x.append)"
   ]
  },
  {
   "cell_type": "code",
   "execution_count": 26,
   "metadata": {},
   "outputs": [
    {
     "data": {
      "text/plain": [
       "False"
      ]
     },
     "execution_count": 26,
     "metadata": {},
     "output_type": "execute_result"
    }
   ],
   "source": [
    "callable(x.append.__doc__) #doc is an attribute"
   ]
  },
  {
   "cell_type": "code",
   "execution_count": 27,
   "metadata": {},
   "outputs": [
    {
     "name": "stdout",
     "output_type": "stream",
     "text": [
      "Help on built-in function append:\n",
      "\n",
      "append(object, /) method of builtins.list instance\n",
      "    Append object to the end of the list.\n",
      "\n"
     ]
    }
   ],
   "source": [
    "help(x.append)"
   ]
  },
  {
   "cell_type": "markdown",
   "metadata": {},
   "source": [
    "### Methods typically act on the data contained in the object they belong to, or combine that data with other data\n"
   ]
  },
  {
   "cell_type": "code",
   "execution_count": 29,
   "metadata": {},
   "outputs": [
    {
     "name": "stdout",
     "output_type": "stream",
     "text": [
      "['a', 'b', 'c']\n"
     ]
    },
    {
     "data": {
      "text/plain": [
       "'A STRING'"
      ]
     },
     "execution_count": 29,
     "metadata": {},
     "output_type": "execute_result"
    }
   ],
   "source": [
    "x = ['a', 'b']\n",
    "x.append('c')\n",
    "print(x)\n",
    "s = 'A string'\n",
    "s.upper()"
   ]
  },
  {
   "cell_type": "code",
   "execution_count": 30,
   "metadata": {},
   "outputs": [
    {
     "data": {
      "text/plain": [
       "'a string'"
      ]
     },
     "execution_count": 30,
     "metadata": {},
     "output_type": "execute_result"
    }
   ],
   "source": [
    "s.lower()"
   ]
  },
  {
   "cell_type": "markdown",
   "metadata": {},
   "source": [
    "### what about a function?"
   ]
  },
  {
   "cell_type": "code",
   "execution_count": 31,
   "metadata": {},
   "outputs": [],
   "source": [
    "import numpy as np\n"
   ]
  },
  {
   "cell_type": "code",
   "execution_count": 37,
   "metadata": {},
   "outputs": [],
   "source": [
    "\n",
    "def foo(x):\n",
    "    \"\"\"I tell you what foo does\"\"\" #docstring\n",
    "    return x**2\n"
   ]
  },
  {
   "cell_type": "code",
   "execution_count": 38,
   "metadata": {},
   "outputs": [
    {
     "name": "stdout",
     "output_type": "stream",
     "text": [
      "[<class 'function'>, 1896098051120, 'foo', 'I tell you what foo does', 9]\n"
     ]
    }
   ],
   "source": [
    "print([type(foo),\n",
    "      id(foo),\n",
    "      foo.__name__,\n",
    "      foo.__doc__,\n",
    "      foo.__call__(3)]) #foo(3)"
   ]
  },
  {
   "cell_type": "code",
   "execution_count": 41,
   "metadata": {},
   "outputs": [],
   "source": [
    "np.array=foo"
   ]
  },
  {
   "cell_type": "code",
   "execution_count": 42,
   "metadata": {},
   "outputs": [
    {
     "data": {
      "text/plain": [
       "9"
      ]
     },
     "execution_count": 42,
     "metadata": {},
     "output_type": "execute_result"
    }
   ],
   "source": [
    "np.array(3)"
   ]
  },
  {
   "cell_type": "code",
   "execution_count": null,
   "metadata": {},
   "outputs": [],
   "source": [
    "#restart kernel to reimport numpy"
   ]
  },
  {
   "cell_type": "code",
   "execution_count": 44,
   "metadata": {},
   "outputs": [],
   "source": []
  },
  {
   "cell_type": "code",
   "execution_count": 43,
   "metadata": {},
   "outputs": [
    {
     "name": "stdout",
     "output_type": "stream",
     "text": [
      "crazy world\n",
      "4\n"
     ]
    }
   ],
   "source": [
    "#demonstration of 'everything is an object'\n",
    "\n",
    "a = foo #save function to variable\n",
    "a.tmp = 'crazy world' #assign attribute to a function\n",
    "\n",
    "\n",
    "print(a.tmp)\n",
    "print(a(2)) #call this variable, which is in fact a reference to a class/function and pass it attribute? "
   ]
  },
  {
   "cell_type": "markdown",
   "metadata": {},
   "source": [
    "<img src=\"https://media.makeameme.org/created/say-what-5c473a.jpg\" height=\"100px\">"
   ]
  },
  {
   "cell_type": "markdown",
   "metadata": {},
   "source": [
    "## Classes\n",
    "\n",
    "* **class**: a blueprint for building objects\n",
    "    * own types of objects $\\approx$ usage of class definitions\n",
    "* class describes:\n",
    "    * what kind of data the class stores\n",
    "    * what methods it has for acting on these data \n",
    "* takes a little while to get used to the syntax\n",
    "* Often you can outline what will be done with **abstract** classes\n",
    "* the simplest class"
   ]
  },
  {
   "cell_type": "code",
   "execution_count": 1,
   "metadata": {},
   "outputs": [
    {
     "name": "stdout",
     "output_type": "stream",
     "text": [
      "<__main__.Simplicity object at 0x000001E5DFFCE400>\n"
     ]
    }
   ],
   "source": [
    "class Simplicity:\n",
    "    pass  # No code means no bad code\n",
    "\n",
    "s = Simplicity() #instantiation \n",
    "print(s)"
   ]
  },
  {
   "cell_type": "markdown",
   "metadata": {},
   "source": [
    "* an **object** or **instance** is a realization of the class, created from the blueprint\n",
    "    * each instance has its own unique data\n",
    "    * methods set out in the class definition act on this (and other) data\n",
    "\n",
    "* Attributes are accessed via “dotted attribute notation”\n",
    "    * `object_name.data`\n",
    "    * `object_name.method_name()"
   ]
  },
  {
   "cell_type": "code",
   "execution_count": 9,
   "metadata": {},
   "outputs": [
    {
     "name": "stdout",
     "output_type": "stream",
     "text": [
      "None\n"
     ]
    }
   ],
   "source": [
    "# object\n",
    "x = [1, 5, 4]\n",
    "# method (attribute)\n",
    "print(x.sort())\n",
    "# another attribute \n",
    "x.__class__;"
   ]
  },
  {
   "cell_type": "markdown",
   "metadata": {},
   "source": [
    "* `x` is an object or instance, created from the definition for Python lists, but with its own particular data\n",
    "* `x.sort()` and `x.__class__` are two attributes of `x`\n",
    "* `dir(x)` can be used to view all the attributes of `x`"
   ]
  },
  {
   "cell_type": "code",
   "execution_count": 11,
   "metadata": {},
   "outputs": [],
   "source": [
    "dir(x);"
   ]
  },
  {
   "cell_type": "code",
   "execution_count": null,
   "metadata": {},
   "outputs": [],
   "source": []
  },
  {
   "cell_type": "code",
   "execution_count": 12,
   "metadata": {},
   "outputs": [],
   "source": [
    "class Student: \n",
    "    \n",
    "    # we call this the constructor\n",
    "    def __init__(self): #see the self keyword\n",
    "        self.status = None # placeholder\n",
    "        self.did_well = None\n",
    "        \n",
    "    def study(self):\n",
    "        self.status = 'Wise'\n",
    "        self.did_well = True\n",
    "     \n",
    "    def procrastinate(self):\n",
    "        self.status = 'Dumb'\n",
    "        self.did_well = False   \n",
    "\n",
    "    def show_status(self):\n",
    "        print(f\"I have become {self.status}.\")\n"
   ]
  },
  {
   "cell_type": "markdown",
   "metadata": {},
   "source": [
    "* convention: capitalize class names (to differentiate them from functions, which are lowercase by convention)\n",
    "\n",
    "* `__init__` is a *constructor method* \n",
    "    * provides a recipe for how to build an instance of a class\n",
    "    * whenewer we create an instance of the class, this method will be called automatically\n",
    "    * calling `__init__` sets up a \"namespace\" to hold the instance data\n",
    "* methods `study` and `procrastinate` act on the instance data `status`"
   ]
  },
  {
   "cell_type": "code",
   "execution_count": 13,
   "metadata": {},
   "outputs": [
    {
     "name": "stdout",
     "output_type": "stream",
     "text": [
      "<class '__main__.Student'>\n"
     ]
    }
   ],
   "source": [
    "s = Student()\n",
    "print(type(s))"
   ]
  },
  {
   "cell_type": "code",
   "execution_count": 14,
   "metadata": {},
   "outputs": [
    {
     "name": "stdout",
     "output_type": "stream",
     "text": [
      "I have become None.\n",
      "None\n"
     ]
    }
   ],
   "source": [
    "#plain class - what are the values?\n",
    "s.show_status()\n",
    "print(s.did_well)"
   ]
  },
  {
   "cell_type": "code",
   "execution_count": 15,
   "metadata": {},
   "outputs": [],
   "source": [
    "s.procrastinate()"
   ]
  },
  {
   "cell_type": "code",
   "execution_count": 16,
   "metadata": {},
   "outputs": [
    {
     "name": "stdout",
     "output_type": "stream",
     "text": [
      "I have become Dumb.\n"
     ]
    }
   ],
   "source": [
    "s.show_status()"
   ]
  },
  {
   "cell_type": "code",
   "execution_count": 17,
   "metadata": {},
   "outputs": [
    {
     "name": "stdout",
     "output_type": "stream",
     "text": [
      "I have become I do not know.\n"
     ]
    }
   ],
   "source": [
    "s.status = 'I do not know' # again,we can set the attribute to anything\n",
    "s.show_status()"
   ]
  },
  {
   "cell_type": "code",
   "execution_count": 18,
   "metadata": {},
   "outputs": [],
   "source": [
    "s.study()"
   ]
  },
  {
   "cell_type": "code",
   "execution_count": 19,
   "metadata": {},
   "outputs": [
    {
     "name": "stdout",
     "output_type": "stream",
     "text": [
      "I have become Wise.\n"
     ]
    }
   ],
   "source": [
    "s.show_status()"
   ]
  },
  {
   "cell_type": "markdown",
   "metadata": {},
   "source": [
    "* `s` is just a one instance\n",
    "* we can create multiple students ofc"
   ]
  },
  {
   "cell_type": "code",
   "execution_count": 20,
   "metadata": {},
   "outputs": [
    {
     "name": "stdout",
     "output_type": "stream",
     "text": [
      "I have become Wise.\n",
      "I have become Dumb.\n"
     ]
    }
   ],
   "source": [
    "Vitek = Student()\n",
    "Vincent = Student()\n",
    "\n",
    "Vitek.study()\n",
    "Vincent.procrastinate()\n",
    "\n",
    "# Vitek.status = 'UFO' #breaking encapsulation\n",
    "\n",
    "Vitek.show_status()\n",
    "Vincent.show_status()"
   ]
  },
  {
   "cell_type": "markdown",
   "metadata": {},
   "source": [
    "* an instance of a class can take on any name a we choose\n",
    "* link between the instance name and the class: `self`\n",
    "    * `self` as a variable whose sole job is to learn the name of a particular instance\n",
    "* any instance data should be prepended with `self`\n",
    "* any method defined within the class should have self as its first argument\n",
    "* any method referenced within the class should be called as self.method_name\n",
    "\n",
    "* each instance stores its data in a separate namespace dictionary"
   ]
  },
  {
   "cell_type": "code",
   "execution_count": 21,
   "metadata": {},
   "outputs": [
    {
     "data": {
      "text/plain": [
       "{'status': 'Wise', 'did_well': True}"
      ]
     },
     "execution_count": 21,
     "metadata": {},
     "output_type": "execute_result"
    }
   ],
   "source": [
    "#show the properties\n",
    "# __dict__ is A dictionary or other mapping object used to store an object's (writable) attributes\n",
    "Vitek.__dict__"
   ]
  },
  {
   "cell_type": "markdown",
   "metadata": {},
   "source": [
    "* following are equivalent"
   ]
  },
  {
   "cell_type": "code",
   "execution_count": 22,
   "metadata": {},
   "outputs": [
    {
     "name": "stdout",
     "output_type": "stream",
     "text": [
      "I have become Dumb.\n"
     ]
    }
   ],
   "source": [
    "s.procrastinate()\n",
    "s.show_status()"
   ]
  },
  {
   "cell_type": "code",
   "execution_count": 23,
   "metadata": {},
   "outputs": [
    {
     "name": "stdout",
     "output_type": "stream",
     "text": [
      "I have become Wise.\n"
     ]
    }
   ],
   "source": [
    "#slightly advanced\n",
    "# each instance has class methods - we are overwriting the self attribute basically\n",
    "\n",
    "Student.study(Vitek)\n",
    "Student.show_status(Vitek)"
   ]
  },
  {
   "cell_type": "code",
   "execution_count": 25,
   "metadata": {},
   "outputs": [],
   "source": [
    "#very OOP like inheritance\n",
    "\n",
    "#PythonStudent as a child of Student\n",
    "# parent -> child (parent) -> child\n",
    "\n",
    "class PythonStudent(Student): \n",
    "    # we call this the constructor\n",
    "    \n",
    "    def __init__(self, name): #see no we can pass attribute\n",
    "        self.name = name\n",
    "        self.subject = 'Python'\n",
    "    def enroll_in_class(self, class_name):\n",
    "        raise NotImplementedError\n",
    "    #Overriding a method\n",
    "    def show_status(self):\n",
    "        print(f\"I have become {self.status} in {self.subject}\")\n",
    "    def greet_me(self):\n",
    "        print(f'hello I am {self.name}')"
   ]
  },
  {
   "cell_type": "code",
   "execution_count": 27,
   "metadata": {},
   "outputs": [
    {
     "name": "stdout",
     "output_type": "stream",
     "text": [
      "I have become Wise in Python\n"
     ]
    }
   ],
   "source": [
    "MH = PythonStudent(\"Martin\")\n",
    "MH.study() #did not declare any study method in PythonStudent - where did it come from?\n",
    "\n",
    "MH.show_status() # A different print"
   ]
  },
  {
   "cell_type": "code",
   "execution_count": 28,
   "metadata": {},
   "outputs": [
    {
     "name": "stdout",
     "output_type": "stream",
     "text": [
      "hello I am Martin\n"
     ]
    }
   ],
   "source": [
    "MH.greet_me()"
   ]
  },
  {
   "cell_type": "code",
   "execution_count": 36,
   "metadata": {},
   "outputs": [],
   "source": [
    "\n",
    "class IESStudent(PythonStudent):\n",
    "    \"\"\"I am a student of IES and can enroll to courses and tell you what I do\"\"\"\n",
    "    def __init__(self, name):\n",
    "        self.subjects = []\n",
    "        super().__init__(name) #call super class the one I inherit from\n",
    "\n",
    "    # setters\n",
    "    # def enroll_in_class(self, class_name):\n",
    "    #     # check against DB that class exists\n",
    "    #     # log\n",
    "    #     self.subjects.append(class_name)\n",
    "\n",
    "    def what_do_I_study(self):\n",
    "        if len(self.subjects) > 1:\n",
    "            print(f\"I study {','.join(self.subjects[:-1])} and {self.subjects[-1]}\")\n",
    "        elif len(self.subjects) == 1:\n",
    "            print(f\"I study {self.subjects[0]}\")\n",
    "        else:\n",
    "            print('I do nothing.')\n",
    "    #getters\n",
    "    def get_subjects(self):\n",
    "        return self.subjects"
   ]
  },
  {
   "cell_type": "code",
   "execution_count": 45,
   "metadata": {},
   "outputs": [
    {
     "name": "stdout",
     "output_type": "stream",
     "text": [
      "I have become Dumb in Python\n"
     ]
    }
   ],
   "source": [
    "stud = IESStudent('Eva')\n",
    "#stud.what_do_I_study()\n",
    "\n",
    "#stud.enroll_in_class('Python')\n",
    "#stud.what_do_I_study()\n",
    "\n",
    "#stud.enroll_in_class('AdvEcox')\n",
    "\n",
    "\n",
    "#stud.enroll_in_class('DS in R')\n",
    "# stud.what_do_I_study()\n",
    "\n",
    "stud.procrastinate()\n",
    "stud.show_status()\n"
   ]
  },
  {
   "cell_type": "code",
   "execution_count": null,
   "metadata": {},
   "outputs": [],
   "source": []
  },
  {
   "cell_type": "markdown",
   "metadata": {},
   "source": [
    "### Example of moving from procedural to OOP\n",
    "* usually we start with simple built-in data structures\n",
    "    * storing data in a few variables\n",
    "* with expanding program size we see that we are **passing the same set of related variables to different functions**\n",
    "    * time to think about grouping variables and functions into a class\n",
    "    \n",
    "**Example**\n",
    "* let's think about modelling polygons in 2D space\n",
    "* each polygon represented as a list of points\n",
    "* each point represented as a tuple (x,y), where x and y are coordinates"
   ]
  },
  {
   "cell_type": "code",
   "execution_count": 47,
   "metadata": {},
   "outputs": [
    {
     "name": "stdout",
     "output_type": "stream",
     "text": [
      "[(1, 1), (1, 2), (2, 2), (2, 1)]\n"
     ]
    }
   ],
   "source": [
    "square = [(1,1), (1,2), (2,2), (2,1)]"
   ]
  },
  {
   "cell_type": "markdown",
   "metadata": {},
   "source": [
    "* to calculate the perimeter, we need to calculate the [distance](https://en.wikipedia.org/wiki/Euclidean_distance) between two points"
   ]
  },
  {
   "cell_type": "code",
   "execution_count": 48,
   "metadata": {},
   "outputs": [],
   "source": [
    "import math\n",
    "\n",
    "def distance(p1, p2):\n",
    "    dist = math.sqrt(\n",
    "        (p1[0]-p2[0])**2 + (p1[1]-p2[1])**2\n",
    "        )\n",
    "    return dist\n",
    "\n",
    "def perimeter(polygon):\n",
    "    perimeter = 0\n",
    "    points = polygon + [polygon[0]]   \n",
    "    for i in range(len(polygon)):\n",
    "        perimeter += distance(points[i], points[i+1])\n",
    "    return perimeter"
   ]
  },
  {
   "cell_type": "code",
   "execution_count": 49,
   "metadata": {},
   "outputs": [
    {
     "data": {
      "text/plain": [
       "4.0"
      ]
     },
     "execution_count": 49,
     "metadata": {},
     "output_type": "execute_result"
    }
   ],
   "source": [
    "distance((1,1), (1,5))"
   ]
  },
  {
   "cell_type": "code",
   "execution_count": 50,
   "metadata": {},
   "outputs": [
    {
     "data": {
      "text/plain": [
       "4.0"
      ]
     },
     "execution_count": 50,
     "metadata": {},
     "output_type": "execute_result"
    }
   ],
   "source": [
    "perimeter(square)"
   ]
  },
  {
   "cell_type": "markdown",
   "metadata": {},
   "source": [
    "* thinking in an object-oriented way, we see that\n",
    "    * polygon class could encapsulate the list of points (data) and the perimeter function (behaviour)\n",
    "        * polygon is built of points. Polygon does not need to know the perimeter function. IT needs to know its points, as long as they can handle their arithmetic\n",
    "    * point class could encapsulate the coordinates (x,y) and the distance method\n",
    "    "
   ]
  },
  {
   "cell_type": "code",
   "execution_count": 69,
   "metadata": {},
   "outputs": [],
   "source": [
    "class Point:\n",
    "    \n",
    "    def __init__(self, x, y, z):\n",
    "        self.x = x\n",
    "        self.y = y\n",
    "        self.z = z\n",
    "\n",
    "    def distance(self, p2):\n",
    "        return math.sqrt((self.x-p2.x)**2 + (self.y-p2.y)**2)\n",
    "\n",
    "class Polygon:\n",
    "    \n",
    "    def __init__(self):\n",
    "        self.vertices = [] \n",
    "        \n",
    "    def add_point(self, point):\n",
    "        assert isinstance(point, Point), \"You need to add object of class Point\"\n",
    "        self.vertices.append(point)\n",
    "\n",
    "    def perimeter(self):\n",
    "        perimeter = 0\n",
    "        # add \"first\" point to the list of points defining polygon\n",
    "        points = self.vertices + [self.vertices[0]]    \n",
    "        for i in range(len(self.vertices)):\n",
    "            perimeter += points[i].distance(points[i+1])\n",
    "        return perimeter"
   ]
  },
  {
   "cell_type": "code",
   "execution_count": 70,
   "metadata": {},
   "outputs": [
    {
     "data": {
      "text/plain": [
       "'Return whether an object is an instance of a class or of a subclass thereof.\\n\\nA tuple, as in ``isinstance(x, (A, B, ...))``, may be given as the target to\\ncheck against. This is equivalent to ``isinstance(x, A) or isinstance(x, B)\\nor ...`` etc.'"
      ]
     },
     "execution_count": 70,
     "metadata": {},
     "output_type": "execute_result"
    }
   ],
   "source": [
    "isinstance.__doc__"
   ]
  },
  {
   "cell_type": "code",
   "execution_count": 71,
   "metadata": {},
   "outputs": [],
   "source": [
    "pol1 = Polygon()\n"
   ]
  },
  {
   "cell_type": "code",
   "execution_count": 72,
   "metadata": {},
   "outputs": [
    {
     "ename": "AssertionError",
     "evalue": "You need to add object of class Point",
     "output_type": "error",
     "traceback": [
      "\u001b[1;31m---------------------------------------------------------------------------\u001b[0m",
      "\u001b[1;31mAssertionError\u001b[0m                            Traceback (most recent call last)",
      "\u001b[1;32m~\\AppData\\Local\\Temp\\ipykernel_24496\\1821737945.py\u001b[0m in \u001b[0;36m<module>\u001b[1;34m\u001b[0m\n\u001b[0;32m      1\u001b[0m \u001b[1;31m#great advantage - easily sanitizie complex inputs\u001b[0m\u001b[1;33m\u001b[0m\u001b[1;33m\u001b[0m\u001b[0m\n\u001b[1;32m----> 2\u001b[1;33m \u001b[0mpol1\u001b[0m\u001b[1;33m.\u001b[0m\u001b[0madd_point\u001b[0m\u001b[1;33m(\u001b[0m\u001b[1;36m1\u001b[0m\u001b[1;33m)\u001b[0m\u001b[1;33m\u001b[0m\u001b[1;33m\u001b[0m\u001b[0m\n\u001b[0m",
      "\u001b[1;32m~\\AppData\\Local\\Temp\\ipykernel_24496\\1536934067.py\u001b[0m in \u001b[0;36madd_point\u001b[1;34m(self, point)\u001b[0m\n\u001b[0;32m     15\u001b[0m \u001b[1;33m\u001b[0m\u001b[0m\n\u001b[0;32m     16\u001b[0m     \u001b[1;32mdef\u001b[0m \u001b[0madd_point\u001b[0m\u001b[1;33m(\u001b[0m\u001b[0mself\u001b[0m\u001b[1;33m,\u001b[0m \u001b[0mpoint\u001b[0m\u001b[1;33m)\u001b[0m\u001b[1;33m:\u001b[0m\u001b[1;33m\u001b[0m\u001b[1;33m\u001b[0m\u001b[0m\n\u001b[1;32m---> 17\u001b[1;33m         \u001b[1;32massert\u001b[0m \u001b[0misinstance\u001b[0m\u001b[1;33m(\u001b[0m\u001b[0mpoint\u001b[0m\u001b[1;33m,\u001b[0m \u001b[0mPoint\u001b[0m\u001b[1;33m)\u001b[0m\u001b[1;33m,\u001b[0m \u001b[1;34m\"You need to add object of class Point\"\u001b[0m\u001b[1;33m\u001b[0m\u001b[1;33m\u001b[0m\u001b[0m\n\u001b[0m\u001b[0;32m     18\u001b[0m         \u001b[0mself\u001b[0m\u001b[1;33m.\u001b[0m\u001b[0mvertices\u001b[0m\u001b[1;33m.\u001b[0m\u001b[0mappend\u001b[0m\u001b[1;33m(\u001b[0m\u001b[0mpoint\u001b[0m\u001b[1;33m)\u001b[0m\u001b[1;33m\u001b[0m\u001b[1;33m\u001b[0m\u001b[0m\n\u001b[0;32m     19\u001b[0m \u001b[1;33m\u001b[0m\u001b[0m\n",
      "\u001b[1;31mAssertionError\u001b[0m: You need to add object of class Point"
     ]
    }
   ],
   "source": [
    "#great advantage - easily sanitizie complex inputs\n",
    "pol1.add_point(1)"
   ]
  },
  {
   "cell_type": "code",
   "execution_count": 73,
   "metadata": {},
   "outputs": [
    {
     "ename": "TypeError",
     "evalue": "'Polygon' object is not iterable",
     "output_type": "error",
     "traceback": [
      "\u001b[1;31m---------------------------------------------------------------------------\u001b[0m",
      "\u001b[1;31mTypeError\u001b[0m                                 Traceback (most recent call last)",
      "\u001b[1;32m~\\AppData\\Local\\Temp\\ipykernel_24496\\1257571142.py\u001b[0m in \u001b[0;36m<module>\u001b[1;34m\u001b[0m\n\u001b[0;32m      2\u001b[0m \u001b[0mpol1\u001b[0m \u001b[1;33m=\u001b[0m \u001b[0mPolygon\u001b[0m\u001b[1;33m(\u001b[0m\u001b[1;33m)\u001b[0m\u001b[1;33m\u001b[0m\u001b[1;33m\u001b[0m\u001b[0m\n\u001b[0;32m      3\u001b[0m \u001b[1;31m#list comprehension\u001b[0m\u001b[1;33m\u001b[0m\u001b[1;33m\u001b[0m\u001b[0m\n\u001b[1;32m----> 4\u001b[1;33m \u001b[0m_\u001b[0m \u001b[1;33m=\u001b[0m \u001b[1;33m[\u001b[0m\u001b[0mpol1\u001b[0m\u001b[1;33m.\u001b[0m\u001b[0madd_point\u001b[0m\u001b[1;33m(\u001b[0m\u001b[0mPoint\u001b[0m\u001b[1;33m(\u001b[0m\u001b[0mx\u001b[0m\u001b[1;33m[\u001b[0m\u001b[1;36m0\u001b[0m\u001b[1;33m]\u001b[0m\u001b[1;33m,\u001b[0m \u001b[0mx\u001b[0m\u001b[1;33m[\u001b[0m\u001b[1;36m1\u001b[0m\u001b[1;33m]\u001b[0m\u001b[1;33m)\u001b[0m\u001b[1;33m)\u001b[0m \u001b[1;32mfor\u001b[0m \u001b[0mx\u001b[0m \u001b[1;32min\u001b[0m \u001b[0msquare\u001b[0m\u001b[1;33m]\u001b[0m \u001b[1;31m#iterate and create new points\u001b[0m\u001b[1;33m\u001b[0m\u001b[1;33m\u001b[0m\u001b[0m\n\u001b[0m\u001b[0;32m      5\u001b[0m \u001b[1;33m\u001b[0m\u001b[0m\n\u001b[0;32m      6\u001b[0m \u001b[0mpol1\u001b[0m\u001b[1;33m.\u001b[0m\u001b[0mperimeter\u001b[0m\u001b[1;33m(\u001b[0m\u001b[1;33m)\u001b[0m\u001b[1;33m\u001b[0m\u001b[1;33m\u001b[0m\u001b[0m\n",
      "\u001b[1;31mTypeError\u001b[0m: 'Polygon' object is not iterable"
     ]
    }
   ],
   "source": [
    "# example of usage\n",
    "pol1 = Polygon()\n",
    "#list comprehension\n",
    "_ = [pol1.add_point(Point(x[0], x[1])) for x in square] #iterate and create new points\n",
    "\n",
    "pol1.perimeter()"
   ]
  },
  {
   "cell_type": "code",
   "execution_count": 74,
   "metadata": {},
   "outputs": [
    {
     "data": {
      "text/plain": [
       "4.0"
      ]
     },
     "execution_count": 74,
     "metadata": {},
     "output_type": "execute_result"
    }
   ],
   "source": [
    "# compare with the previous case\n",
    "sq = [(1,1), (1,2), (2,2), (2,1)]\n",
    "perimeter(sq)"
   ]
  },
  {
   "cell_type": "markdown",
   "metadata": {},
   "source": [
    "* 2 lines of code vs. 6 ... what is this OOP nonsense?\n",
    "    * code length is really not a good indicator of code complexity\n",
    "    \n",
    "* OOP is easier to read compared to the procedural code above\n",
    "    * how do we know what the list of tuples is supposed to represent\n",
    "    * what should we pass into the perimeter function? list of tuples?\n",
    "    * possible, but plenty of documentation necessary (might be much longer than the code itself)\n",
    "    * OOP is much clearer when working in **teams**\n",
    "    \n",
    "* OOP pretty self-documenting\n",
    "    * list of methods and parameters to see what the object does\n",
    "* if you are still not convinced, since our OOP case is too long, let's add some functionality to this class"
   ]
  },
  {
   "cell_type": "code",
   "execution_count": 65,
   "metadata": {},
   "outputs": [],
   "source": [
    "class Point:\n",
    "    \n",
    "    def __init__(self, x, y):\n",
    "        self.x = x\n",
    "        self.y = y\n",
    "\n",
    "    def distance(self, p2):\n",
    "        return math.sqrt((self.x-p2.x)**2 + (self.y-p2.y)**2)\n",
    "\n",
    "class Polygon:\n",
    "    \n",
    "    def __init__(self, points = []):\n",
    "        self.vertices = []\n",
    "        for point in points:\n",
    "            if isinstance(point, tuple):\n",
    "                point = Point(x = point[0], y = point[1])\n",
    "                self.add_point(point)\n",
    "        \n",
    "    def add_point(self, point):\n",
    "        self.vertices.append((point))\n",
    "\n",
    "    def perimeter(self):\n",
    "        perimeter = 0\n",
    "        \n",
    "        # add \"first\" point to the list of points defining polygon\n",
    "        points = self.vertices + [self.vertices[0]]    \n",
    "        for i in range(len(self.vertices)):\n",
    "            perimeter += points[i].distance(points[i+1])\n",
    "        return perimeter"
   ]
  },
  {
   "cell_type": "code",
   "execution_count": 66,
   "metadata": {},
   "outputs": [
    {
     "data": {
      "text/plain": [
       "4.0"
      ]
     },
     "execution_count": 66,
     "metadata": {},
     "output_type": "execute_result"
    }
   ],
   "source": [
    "square = Polygon(points = [(1,1), (1,2), (2,2), (2,1)])\n",
    "square.perimeter()"
   ]
  },
  {
   "cell_type": "markdown",
   "metadata": {},
   "source": [
    "Let's move to something little bit more interesting ... \n",
    "\n",
    "## OOP and OLS model\n",
    "\n",
    "* we'll build a class called LinearRegression\n",
    "    "
   ]
  },
  {
   "cell_type": "code",
   "execution_count": null,
   "metadata": {},
   "outputs": [],
   "source": [
    "class   LinearRegression:\n",
    "    def __init__(self, fit_intercept = True):\n",
    "        self.coef_ = None+\n",
    "        "
   ]
  },
  {
   "cell_type": "code",
   "execution_count": 78,
   "metadata": {},
   "outputs": [],
   "source": [
    "class LinearRegression:    \n",
    "    def __init__(self, fit_intercept = True):\n",
    "        # define instance data coef, intercept and _fit_intercept\n",
    "        self.coef_ = None # placeholder \n",
    "        self.intercept_ = None # placeholder  \n",
    "        self._fit_intercept = fit_intercept"
   ]
  },
  {
   "cell_type": "code",
   "execution_count": 80,
   "metadata": {},
   "outputs": [
    {
     "name": "stdout",
     "output_type": "stream",
     "text": [
      "Slope: 2.000000000000001\n",
      "Intercept: 0.9999999999999987\n",
      "Predicted values: [ 9. 11. 13.]\n"
     ]
    }
   ],
   "source": [
    "# Chat GPT : Import the LinearRegression class\n",
    "from sklearn.linear_model import LinearRegression\n",
    "\n",
    "# Create an instance of the LinearRegression class\n",
    "model = LinearRegression(fit_intercept=True)\n",
    "\n",
    "# Fit the model to some data\n",
    "X = [[0], [1], [2], [3]]\n",
    "y = [1, 3, 5, 7]\n",
    "model.fit(X, y)\n",
    "\n",
    "# Get the slope and intercept of the fitted line\n",
    "slope = model.coef_[0]\n",
    "intercept = model.intercept_\n",
    "\n",
    "# Predict new values using the fitted model\n",
    "X_new = [[4], [5], [6]]\n",
    "y_pred = model.predict(X_new)\n",
    "\n",
    "print(f\"Slope: {slope}\")\n",
    "print(f\"Intercept: {intercept}\")\n",
    "print(f\"Predicted values: {y_pred}\")"
   ]
  },
  {
   "cell_type": "code",
   "execution_count": 79,
   "metadata": {},
   "outputs": [
    {
     "name": "stdout",
     "output_type": "stream",
     "text": [
      "\u001b[1;31mInit signature:\u001b[0m \u001b[0mLinearRegression\u001b[0m\u001b[1;33m(\u001b[0m\u001b[0mfit_intercept\u001b[0m\u001b[1;33m=\u001b[0m\u001b[1;32mTrue\u001b[0m\u001b[1;33m)\u001b[0m\u001b[1;33m\u001b[0m\u001b[1;33m\u001b[0m\u001b[0m\n",
      "\u001b[1;31mDocstring:\u001b[0m      <no docstring>\n",
      "\u001b[1;31mType:\u001b[0m           type\n",
      "\u001b[1;31mSubclasses:\u001b[0m     \n"
     ]
    }
   ],
   "source": [
    "?LinearRegression"
   ]
  },
  {
   "cell_type": "code",
   "execution_count": 81,
   "metadata": {},
   "outputs": [],
   "source": [
    "# lr and alr are (or will be) unique models\n",
    "lr = LinearRegression()\n",
    "alr = LinearRegression()"
   ]
  },
  {
   "cell_type": "code",
   "execution_count": 82,
   "metadata": {},
   "outputs": [],
   "source": [
    "import numpy as np\n",
    "\n",
    "class LinearRegression:\n",
    "    \n",
    "    def __init__(self, fit_intercept = True):\n",
    "        self.coef_ = None # placeholder \n",
    "        self.intercept_ = None # placeholder  \n",
    "        self._fit_intercept = fit_intercept\n",
    "        self.predictions = None\n",
    "    \n",
    "    def fit(self, X, y):\n",
    "        \"\"\"\n",
    "        Obtain coefficients using closed form solution.\n",
    "\n",
    "        Arguments:\n",
    "        X: 1D or 2D numpy array (cols are independent variables)\n",
    "        y: 1D numpy array (dependent variable)\n",
    "        \"\"\"\n",
    "        \n",
    "        # check if X is 1D or 2D array\n",
    "        if len(X.shape) == 1:\n",
    "            X = X.reshape(-1,1)\n",
    "            \n",
    "        # add bias if fit_intercept is True\n",
    "        if self._fit_intercept:\n",
    "            X = np.c_[np.ones(X.shape[0]), X]\n",
    "        \n",
    "        # closed form solution\n",
    "        xTx = np.dot(X.T, X)\n",
    "        inverse_xTx = np.linalg.inv(xTx)\n",
    "        xTy = np.dot(X.T, y)\n",
    "        coef = np.dot(inverse_xTx, xTy)\n",
    "        \n",
    "        # set attributes\n",
    "        if self._fit_intercept:\n",
    "            self.intercept_ = coef[0]\n",
    "            self.coef_ = coef[1:]\n",
    "        else:\n",
    "            self.intercept_ = 0\n",
    "            self.coef_ = coef\n",
    "    \n",
    "    def predict(self, X):\n",
    "            \n",
    "        \"\"\"\n",
    "        Model prediction given the data matrix.\n",
    "\n",
    "        Arguments:\n",
    "        X: 1D or 2D numpy array \n",
    "        \"\"\"\n",
    "\n",
    "        # check if X is 1D or 2D array\n",
    "        if len(X.shape) == 1:\n",
    "            X = X.reshape(-1,1) \n",
    "        self.predictions =  self.intercept_ + np.dot(X, self.coef_)\n",
    "        return self.predictions"
   ]
  },
  {
   "cell_type": "code",
   "execution_count": 83,
   "metadata": {},
   "outputs": [],
   "source": [
    "%matplotlib inline\n",
    "import matplotlib.pyplot as plt\n",
    "import numpy as np"
   ]
  },
  {
   "cell_type": "code",
   "execution_count": null,
   "metadata": {},
   "outputs": [],
   "source": [
    "n = 100\n",
    "X = np.linspace(1,10,n)\n",
    "y = 0.35 * X + np.random.normal(0,1,n)\n",
    "\n",
    "#Q: how can I ensure we all get the same values?"
   ]
  },
  {
   "cell_type": "code",
   "execution_count": 88,
   "metadata": {},
   "outputs": [
    {
     "data": {
      "image/png": "[encoded data removed]",
      "text/plain": [
       "<Figure size 640x480 with 1 Axes>"
      ]
     },
     "metadata": {},
     "output_type": "display_data"
    }
   ],
   "source": [
    "plt.scatter(X,y)\n",
    "plt.grid()\n",
    "plt.xlabel('X')\n",
    "plt.ylabel('y');"
   ]
  },
  {
   "cell_type": "code",
   "execution_count": 90,
   "metadata": {},
   "outputs": [],
   "source": [
    "# see how it works\n",
    "lr = LinearRegression()\n",
    "lr.fit(X, y)"
   ]
  },
  {
   "cell_type": "code",
   "execution_count": 94,
   "metadata": {},
   "outputs": [
    {
     "data": {
      "image/png": "[encoded data removed]",
      "text/plain": [
       "<Figure size 640x480 with 1 Axes>"
      ]
     },
     "metadata": {},
     "output_type": "display_data"
    }
   ],
   "source": [
    "plt.scatter(X,y)\n",
    "plt.plot(X,lr.predict(X))\n",
    "plt.grid()\n",
    "plt.xlabel('X')\n",
    "plt.ylabel('y');"
   ]
  },
  {
   "cell_type": "code",
   "execution_count": 92,
   "metadata": {},
   "outputs": [
    {
     "data": {
      "text/plain": [
       "{'coef_': array([0.37324308]),\n",
       " 'intercept_': -0.020845785954557883,\n",
       " '_fit_intercept': True,\n",
       " 'predictions': array([0.3523973 , 0.38632849, 0.42025968, 0.45419087, 0.48812205,\n",
       "        0.52205324, 0.55598443, 0.58991562, 0.62384681, 0.657778  ,\n",
       "        0.69170919, 0.72564038, 0.75957157, 0.79350276, 0.82743395,\n",
       "        0.86136514, 0.89529633, 0.92922752, 0.96315871, 0.9970899 ,\n",
       "        1.03102108, 1.06495227, 1.09888346, 1.13281465, 1.16674584,\n",
       "        1.20067703, 1.23460822, 1.26853941, 1.3024706 , 1.33640179,\n",
       "        1.37033298, 1.40426417, 1.43819536, 1.47212655, 1.50605774,\n",
       "        1.53998893, 1.57392011, 1.6078513 , 1.64178249, 1.67571368,\n",
       "        1.70964487, 1.74357606, 1.77750725, 1.81143844, 1.84536963,\n",
       "        1.87930082, 1.91323201, 1.9471632 , 1.98109439, 2.01502558,\n",
       "        2.04895677, 2.08288796, 2.11681914, 2.15075033, 2.18468152,\n",
       "        2.21861271, 2.2525439 , 2.28647509, 2.32040628, 2.35433747,\n",
       "        2.38826866, 2.42219985, 2.45613104, 2.49006223, 2.52399342,\n",
       "        2.55792461, 2.5918558 , 2.62578699, 2.65971817, 2.69364936,\n",
       "        2.72758055, 2.76151174, 2.79544293, 2.82937412, 2.86330531,\n",
       "        2.8972365 , 2.93116769, 2.96509888, 2.99903007, 3.03296126,\n",
       "        3.06689245, 3.10082364, 3.13475483, 3.16868602, 3.2026172 ,\n",
       "        3.23654839, 3.27047958, 3.30441077, 3.33834196, 3.37227315,\n",
       "        3.40620434, 3.44013553, 3.47406672, 3.50799791, 3.5419291 ,\n",
       "        3.57586029, 3.60979148, 3.64372267, 3.67765386, 3.71158505])}"
      ]
     },
     "execution_count": 92,
     "metadata": {},
     "output_type": "execute_result"
    }
   ],
   "source": [
    "lr.__dict__"
   ]
  },
  {
   "cell_type": "markdown",
   "metadata": {},
   "source": [
    "### Inheritance\n",
    "* defining a new class (*derived* or *child* class) from another class (*base* or *parent* class)\n",
    "    * reuse what you can instead of repeating yourself\n",
    "* derived class inherits features of the base class\n",
    "    * we can ofc add to it\n",
    "* let's define another class from which we will inherit"
   ]
  },
  {
   "cell_type": "code",
   "execution_count": 95,
   "metadata": {},
   "outputs": [],
   "source": [
    "class Metrics:\n",
    "    #Martin Hronec does not declaring variables\n",
    "    \n",
    "    def sse(self):\n",
    "        '''sum of squared errors'''\n",
    "        squared_errors = (self.target - self.predict(self.data)) ** 2 #although there is not self.data intialized, in Python, we can override it later\n",
    "        # is it a good thing? are there any cons?\n",
    "        \n",
    "        self.sq_error_ = np.sum(squared_errors)\n",
    "        return self.sq_error_\n",
    "        \n",
    "    def sst(self):\n",
    "        '''total sum of squared errors'''\n",
    "        avg_y = np.mean(self.target)\n",
    "        squared_errors = (self.target - avg_y) ** 2\n",
    "        self.sst_ = np.sum(squared_errors)\n",
    "        return self.sst_\n",
    "    \n",
    "    def r_squared(self):\n",
    "        '''r^2: coefficient of determination'''\n",
    "        self.r_sq_ = 1 - self.sse()/self.sst()\n",
    "        return self.r_sq_\n",
    "    \n",
    "    def adj_r_squared(self):\n",
    "        '''adjusted r^2'''\n",
    "        self.adj_r_sq_ = 1 - (self.sse()/self._dfe) / (self.sst()/self._dft)\n",
    "        return self.adj_r_sq_\n",
    "    \n",
    "    def mse(self):\n",
    "        '''mean squared error'''\n",
    "        self.mse_ = np.mean( (self.predict(self.data) - self.target) ** 2 )\n",
    "        return self.mse_"
   ]
  },
  {
   "cell_type": "markdown",
   "metadata": {},
   "source": [
    "* let's actually inherit something"
   ]
  },
  {
   "cell_type": "code",
   "execution_count": 100,
   "metadata": {},
   "outputs": [],
   "source": [
    "class LinearRegressionWithInheritance(Metrics):\n",
    "    \n",
    "    def __init__(self, fit_intercept=True):\n",
    "        self.coef_ = None\n",
    "        self.intercept_ = None\n",
    "        self._fit_intercept = fit_intercept\n",
    "        self.predictions = None\n",
    "        \n",
    "    def fit(self, X, y):\n",
    "        \"\"\"\n",
    "        Fit model coefficients.\n",
    "\n",
    "        Arguments:\n",
    "        X: 1D or 2D numpy array \n",
    "        y: 1D numpy array\n",
    "        \"\"\"\n",
    "        \n",
    "        self.data = X\n",
    "        self.target = y \n",
    "        \n",
    "        # check if X is 1D or 2D array\n",
    "        if len(X.shape) == 1:\n",
    "            X = X.reshape(-1,1)\n",
    "        \n",
    "        # add bias if fit_intercept is True\n",
    "        if self._fit_intercept:\n",
    "            X = np.c_[np.ones(X.shape[0]), X]\n",
    "        \n",
    "        # closed form solution\n",
    "        xTx = np.dot(X.T, X)\n",
    "        inverse_xTx = np.linalg.inv(xTx)\n",
    "        xTy = np.dot(X.T, y)\n",
    "        coef = np.dot(inverse_xTx, xTy)\n",
    "        \n",
    "        # set attributes\n",
    "        if self._fit_intercept:\n",
    "            self.intercept_ = coef[0]\n",
    "            self.coef_ = coef[1:]\n",
    "        else:\n",
    "            self.intercept_ = 0\n",
    "            self.coef_ = coef\n",
    "            \n",
    "    def predict(self, X):\n",
    "            \n",
    "        \"\"\"\n",
    "        Output model prediction.\n",
    "\n",
    "        Arguments:\n",
    "        X: 1D or 2D numpy array \n",
    "        \"\"\"\n",
    "\n",
    "        # check if X is 1D or 2D array\n",
    "        if len(X.shape) == 1:\n",
    "            X = X.reshape(-1,1) \n",
    "        self.predictions =  self.intercept_ + np.dot(X, self.coef_)\n",
    "        return self.predictions"
   ]
  },
  {
   "cell_type": "code",
   "execution_count": 101,
   "metadata": {},
   "outputs": [],
   "source": [
    "# see how it works\n",
    "lri = LinearRegressionWithInheritance()\n",
    "lri.fit(X, y)"
   ]
  },
  {
   "cell_type": "code",
   "execution_count": 102,
   "metadata": {},
   "outputs": [
    {
     "data": {
      "text/plain": [
       "{'coef_': array([0.37324308]),\n",
       " 'intercept_': -0.020845785954557883,\n",
       " '_fit_intercept': True,\n",
       " 'predictions': None,\n",
       " 'data': array([ 1.        ,  1.09090909,  1.18181818,  1.27272727,  1.36363636,\n",
       "         1.45454545,  1.54545455,  1.63636364,  1.72727273,  1.81818182,\n",
       "         1.90909091,  2.        ,  2.09090909,  2.18181818,  2.27272727,\n",
       "         2.36363636,  2.45454545,  2.54545455,  2.63636364,  2.72727273,\n",
       "         2.81818182,  2.90909091,  3.        ,  3.09090909,  3.18181818,\n",
       "         3.27272727,  3.36363636,  3.45454545,  3.54545455,  3.63636364,\n",
       "         3.72727273,  3.81818182,  3.90909091,  4.        ,  4.09090909,\n",
       "         4.18181818,  4.27272727,  4.36363636,  4.45454545,  4.54545455,\n",
       "         4.63636364,  4.72727273,  4.81818182,  4.90909091,  5.        ,\n",
       "         5.09090909,  5.18181818,  5.27272727,  5.36363636,  5.45454545,\n",
       "         5.54545455,  5.63636364,  5.72727273,  5.81818182,  5.90909091,\n",
       "         6.        ,  6.09090909,  6.18181818,  6.27272727,  6.36363636,\n",
       "         6.45454545,  6.54545455,  6.63636364,  6.72727273,  6.81818182,\n",
       "         6.90909091,  7.        ,  7.09090909,  7.18181818,  7.27272727,\n",
       "         7.36363636,  7.45454545,  7.54545455,  7.63636364,  7.72727273,\n",
       "         7.81818182,  7.90909091,  8.        ,  8.09090909,  8.18181818,\n",
       "         8.27272727,  8.36363636,  8.45454545,  8.54545455,  8.63636364,\n",
       "         8.72727273,  8.81818182,  8.90909091,  9.        ,  9.09090909,\n",
       "         9.18181818,  9.27272727,  9.36363636,  9.45454545,  9.54545455,\n",
       "         9.63636364,  9.72727273,  9.81818182,  9.90909091, 10.        ]),\n",
       " 'target': array([-4.79636389e-01, -1.26033531e+00, -5.46455463e-01,  1.30352307e-01,\n",
       "        -3.81786745e-01, -9.46063732e-01,  1.58724731e+00, -1.24283541e+00,\n",
       "         6.90722844e-01,  2.34564495e+00,  1.94480170e+00,  2.94255081e-01,\n",
       "         1.09359026e+00, -4.23356662e-01,  3.42851410e+00, -1.50957288e-01,\n",
       "         1.27344831e+00,  3.68672640e+00, -4.96690774e-01,  3.33424106e+00,\n",
       "         2.18452034e+00,  1.31744600e+00,  2.36559909e+00,  1.87555339e+00,\n",
       "         4.07708204e-01,  8.91450624e-01,  8.98672434e-01, -5.19969163e-01,\n",
       "         4.41893794e-01, -4.36227613e-03,  2.22494998e+00,  1.43127959e+00,\n",
       "         1.73713750e+00,  2.21420744e+00,  8.46008693e-01,  2.63838878e+00,\n",
       "         3.01140722e+00,  2.12518980e+00,  2.52329388e+00,  1.48313860e+00,\n",
       "         2.25459293e+00,  3.21395411e+00,  9.52607392e-01,  1.46834139e+00,\n",
       "         1.63953538e+00,  9.42843726e-01,  2.09261872e+00,  1.73553428e-01,\n",
       "         2.57727574e+00,  2.68145752e+00,  6.91487525e-02,  1.44964943e+00,\n",
       "         2.59235423e+00,  1.48040814e+00, -2.23981428e-01,  2.62505177e+00,\n",
       "         1.87616070e+00,  2.58282608e+00,  4.01773164e+00,  7.65592702e-02,\n",
       "         2.57520831e+00,  3.55803494e+00,  2.03126742e+00,  3.35041461e+00,\n",
       "         2.41995324e+00,  3.48051298e+00,  3.91964427e+00,  2.13564972e+00,\n",
       "         1.69562032e+00,  1.64481939e+00,  3.32200371e+00,  2.06486863e+00,\n",
       "         3.78061026e+00,  2.57451950e+00,  3.23301643e+00,  3.14980265e+00,\n",
       "         3.01749322e+00,  4.22697218e+00,  3.24840239e+00,  2.27450623e+00,\n",
       "         3.43331182e+00,  1.61728165e+00,  3.51188692e+00,  3.30658982e+00,\n",
       "         4.48948753e+00,  3.98984729e+00,  2.72744878e+00,  2.44610637e+00,\n",
       "         3.60714066e+00,  3.52698171e+00,  4.13568409e+00,  2.84653450e+00,\n",
       "         4.39960569e+00,  4.66950633e+00,  4.01801528e+00,  2.76192070e+00,\n",
       "         3.12971512e+00,  1.17862394e+00,  2.98962290e+00,  4.19285618e+00])}"
      ]
     },
     "execution_count": 102,
     "metadata": {},
     "output_type": "execute_result"
    }
   ],
   "source": [
    "lri.__dict__"
   ]
  },
  {
   "cell_type": "code",
   "execution_count": 103,
   "metadata": {},
   "outputs": [
    {
     "ename": "AttributeError",
     "evalue": "'LinearRegressionWithInheritance' object has no attribute 'r_squared'",
     "output_type": "error",
     "traceback": [
      "\u001b[1;31m---------------------------------------------------------------------------\u001b[0m",
      "\u001b[1;31mAttributeError\u001b[0m                            Traceback (most recent call last)",
      "\u001b[1;32m~\\AppData\\Local\\Temp\\ipykernel_24496\\1656188019.py\u001b[0m in \u001b[0;36m<module>\u001b[1;34m\u001b[0m\n\u001b[1;32m----> 1\u001b[1;33m \u001b[0mlri\u001b[0m\u001b[1;33m.\u001b[0m\u001b[0mr_squared\u001b[0m\u001b[1;33m(\u001b[0m\u001b[1;33m)\u001b[0m\u001b[1;33m\u001b[0m\u001b[1;33m\u001b[0m\u001b[0m\n\u001b[0m",
      "\u001b[1;31mAttributeError\u001b[0m: 'LinearRegressionWithInheritance' object has no attribute 'r_squared'"
     ]
    }
   ],
   "source": [
    "lri.r_squared()"
   ]
  },
  {
   "cell_type": "markdown",
   "metadata": {},
   "source": [
    "* class can be derived from more than one base class in Python, so called multiple inheritance\n",
    "    * features of all the base classes are inherited into the derived class"
   ]
  },
  {
   "cell_type": "code",
   "execution_count": 104,
   "metadata": {},
   "outputs": [],
   "source": [
    "class Base1:\n",
    "    pass\n",
    "\n",
    "class Base2:\n",
    "    pass\n",
    "\n",
    "class MultiDerived(Base1, Base2):\n",
    "    pass"
   ]
  },
  {
   "cell_type": "markdown",
   "metadata": {},
   "source": [
    "* class can also inherit from an already derived class, so called *multilevel inheritance*"
   ]
  },
  {
   "cell_type": "code",
   "execution_count": 105,
   "metadata": {},
   "outputs": [],
   "source": [
    "class Base:\n",
    "    pass\n",
    "\n",
    "class Derived1(Base):\n",
    "    pass\n",
    "\n",
    "class Derived2(Derived1):\n",
    "    pass"
   ]
  },
  {
   "cell_type": "markdown",
   "metadata": {},
   "source": [
    "* every class in Python is derived from the class `object`"
   ]
  },
  {
   "cell_type": "code",
   "execution_count": 106,
   "metadata": {},
   "outputs": [
    {
     "name": "stdout",
     "output_type": "stream",
     "text": [
      "\u001b[1;31mInit signature:\u001b[0m \u001b[0mobject\u001b[0m\u001b[1;33m(\u001b[0m\u001b[1;33m)\u001b[0m\u001b[1;33m\u001b[0m\u001b[1;33m\u001b[0m\u001b[0m\n",
      "\u001b[1;31mDocstring:\u001b[0m     \n",
      "The base class of the class hierarchy.\n",
      "\n",
      "When called, it accepts no arguments and returns a new featureless\n",
      "instance that has no instance attributes and cannot be given any.\n",
      "\u001b[1;31mType:\u001b[0m           type\n",
      "\u001b[1;31mSubclasses:\u001b[0m     type, weakref, weakcallableproxy, weakproxy, int, bytearray, bytes, list, NoneType, NotImplementedType, ...\n"
     ]
    }
   ],
   "source": [
    "?object"
   ]
  },
  {
   "cell_type": "code",
   "execution_count": 112,
   "metadata": {},
   "outputs": [],
   "source": [
    "class Car:\n",
    "    \n",
    "    def __init__(self,make,model,year,color):\n",
    "        self.make=make\n",
    "        self.model=model\n",
    "        self.year=year\n",
    "        self.color=color\n",
    "\n",
    "    def drive(self):\n",
    "        print(\"This\" + self.model + self.color + \"is driving\")\n",
    "\n",
    "    def stop(self):\n",
    "        print(\"The car stopped\")"
   ]
  },
  {
   "cell_type": "code",
   "execution_count": 113,
   "metadata": {},
   "outputs": [
    {
     "name": "stdout",
     "output_type": "stream",
     "text": [
      "Škoda\n",
      "ThisSuperbpinkis driving\n"
     ]
    }
   ],
   "source": [
    "car_1 = Car(\"Škoda\",\"Superb\",\"1969\",\"pink\")\n",
    "\n",
    "print(car_1.make)\n",
    "car_1.drive()"
   ]
  },
  {
   "cell_type": "markdown",
   "metadata": {},
   "source": [
    "## Notes\n",
    "\n",
    "* in the multiple inheritance scenario, any specified attribute is searched first in the current class\n",
    "    * if not found, the search continues into parent classes based on the depth, i.e. [MultiDerived, Base1, Base2, object]\n",
    "    * like \n",
    "* if we define the same method in base as well as derived class (but differently), i.e. **overriding methods**\n",
    "    * instances of the new class will have the new behavior and the instances of the existing class will have the old behavior\n",
    "           "
   ]
  },
  {
   "cell_type": "markdown",
   "metadata": {},
   "source": [
    "### Composition\n",
    "* imagine a class that needs to accumulate an arbitrary number of objects\n",
    "    * a list can do that, so we should subclass (inherit) list, right?\n",
    "        * list also support a number of other operations (iterate over the objects, sort, reverse, etc.)\n",
    "* do we need all those features?\n",
    "    * if no, our class should only contain a list (rather than fully inheriting from it)\n",
    "* **composition** is used when we want to use some aspect of another class without promising all of the features of that other class"
   ]
  },
  {
   "cell_type": "markdown",
   "metadata": {},
   "source": [
    "### Example of OOP in the real world\n",
    "* [statsmodels](https://www.statsmodels.org/dev/index.html) is a Python module for the estimation of statistical models, conducting statistical tests, etc.\n",
    "* let's look at its codebase"
   ]
  },
  {
   "cell_type": "markdown",
   "metadata": {},
   "source": [
    "## Docstrings in Python\n",
    "* **Python Docstring** is the documentation string (written as a first statement), part of the:\n",
    "    * class, module, function, method, etc.\n",
    "* a descriptive text written by a programmer mainly for themselves to know what the line of code or expression does\n",
    "* docstrings are accesible as the `doc` attribute in the Python objects (as well as the built-in `help()`\n",
    "* \"rules\" are only conventions really, based on the [PEP standard](https://www.python.org/dev/peps/pep-0008/), specifically [PEP 257](https://www.python.org/dev/peps/pep-0257/) dealing with *docstring* conventions\n",
    "    * PEP means Python Enhancement Proposals \n",
    "* *one-line* vs *multi-line* Docstring\n"
   ]
  },
  {
   "cell_type": "markdown",
   "metadata": {},
   "source": [
    "### One-liner"
   ]
  },
  {
   "cell_type": "code",
   "execution_count": 115,
   "metadata": {},
   "outputs": [
    {
     "name": "stdout",
     "output_type": "stream",
     "text": [
      "8\n"
     ]
    }
   ],
   "source": [
    "def cube(a):\n",
    "    '''Returns the third power of number a.'''\n",
    "    return a**3\n",
    "\n",
    "print(cube(2))"
   ]
  },
  {
   "cell_type": "code",
   "execution_count": 116,
   "metadata": {},
   "outputs": [
    {
     "data": {
      "text/plain": [
       "'Returns the third power of number a.'"
      ]
     },
     "execution_count": 116,
     "metadata": {},
     "output_type": "execute_result"
    }
   ],
   "source": [
    "cube.__doc__"
   ]
  },
  {
   "cell_type": "code",
   "execution_count": 117,
   "metadata": {},
   "outputs": [
    {
     "name": "stdout",
     "output_type": "stream",
     "text": [
      "Help on function cube in module __main__:\n",
      "\n",
      "cube(a)\n",
      "    Returns the third power of number a.\n",
      "\n"
     ]
    }
   ],
   "source": [
    "help(cube)"
   ]
  },
  {
   "cell_type": "markdown",
   "metadata": {},
   "source": [
    "* Some rules\n",
    "    * The line begins with a capital letter and end with a period.\n",
    "    * The closing quotes are on the same line as the opening quotes.\n",
    "    * There's no blank line either before or after the Docstring."
   ]
  },
  {
   "cell_type": "markdown",
   "metadata": {},
   "source": [
    "### Multi-liner"
   ]
  },
  {
   "cell_type": "code",
   "execution_count": 118,
   "metadata": {},
   "outputs": [],
   "source": [
    "def some_function(arg):\n",
    "    \"\"\"Summary or Description of the Function\n",
    "\n",
    "    Parameters:\n",
    "    arg (int): Description of arg\n",
    "\n",
    "    Returns:\n",
    "    int:Returning value\n",
    "\n",
    "   \"\"\"\n",
    "\n",
    "    return argument1"
   ]
  },
  {
   "cell_type": "code",
   "execution_count": 119,
   "metadata": {},
   "outputs": [
    {
     "name": "stdout",
     "output_type": "stream",
     "text": [
      "Summary or Description of the Function\n",
      "\n",
      "    Parameters:\n",
      "    arg (int): Description of arg\n",
      "\n",
      "    Returns:\n",
      "    int:Returning value\n",
      "\n",
      "   \n"
     ]
    }
   ],
   "source": [
    "print(some_function.__doc__)"
   ]
  },
  {
   "cell_type": "markdown",
   "metadata": {},
   "source": [
    "## Common Docstring Formats\n",
    "* many Docstrings format available\n",
    "    * good idea to use those easily recognized by the other programmers as well as Docstring parsers\n",
    "* use formatting type supported by [Sphinx](http://www.sphinx-doc.org/en/master/), Python documentation generator\n",
    "* the most common formats:\n",
    "\n",
    "| Type                    | Description                                                              |\n",
    "|-------------------------|--------------------------------------------------------------------------|\n",
    "| Numpy/Scipy Docstring   | Combination of reStructured and GoogleDocstrings and supported by Sphinx |\n",
    "| Pydoc                   | Standard documentation module for Python and supported by Sphinx         |\n",
    "| Google Docstring        | Easy and intuitive to use (used for the shorter docs)                    |"
   ]
  },
  {
   "cell_type": "code",
   "execution_count": 120,
   "metadata": {},
   "outputs": [
    {
     "name": "stdout",
     "output_type": "stream",
     "text": [
      "Help on function dot in module numpy:\n",
      "\n",
      "dot(...)\n",
      "    dot(a, b, out=None)\n",
      "    \n",
      "    Dot product of two arrays. Specifically,\n",
      "    \n",
      "    - If both `a` and `b` are 1-D arrays, it is inner product of vectors\n",
      "      (without complex conjugation).\n",
      "    \n",
      "    - If both `a` and `b` are 2-D arrays, it is matrix multiplication,\n",
      "      but using :func:`matmul` or ``a @ b`` is preferred.\n",
      "    \n",
      "    - If either `a` or `b` is 0-D (scalar), it is equivalent to :func:`multiply`\n",
      "      and using ``numpy.multiply(a, b)`` or ``a * b`` is preferred.\n",
      "    \n",
      "    - If `a` is an N-D array and `b` is a 1-D array, it is a sum product over\n",
      "      the last axis of `a` and `b`.\n",
      "    \n",
      "    - If `a` is an N-D array and `b` is an M-D array (where ``M>=2``), it is a\n",
      "      sum product over the last axis of `a` and the second-to-last axis of `b`::\n",
      "    \n",
      "        dot(a, b)[i,j,k,m] = sum(a[i,j,:] * b[k,:,m])\n",
      "    \n",
      "    Parameters\n",
      "    ----------\n",
      "    a : array_like\n",
      "        First argument.\n",
      "    b : array_like\n",
      "        Second argument.\n",
      "    out : ndarray, optional\n",
      "        Output argument. This must have the exact kind that would be returned\n",
      "        if it was not used. In particular, it must have the right type, must be\n",
      "        C-contiguous, and its dtype must be the dtype that would be returned\n",
      "        for `dot(a,b)`. This is a performance feature. Therefore, if these\n",
      "        conditions are not met, an exception is raised, instead of attempting\n",
      "        to be flexible.\n",
      "    \n",
      "    Returns\n",
      "    -------\n",
      "    output : ndarray\n",
      "        Returns the dot product of `a` and `b`.  If `a` and `b` are both\n",
      "        scalars or both 1-D arrays then a scalar is returned; otherwise\n",
      "        an array is returned.\n",
      "        If `out` is given, then it is returned.\n",
      "    \n",
      "    Raises\n",
      "    ------\n",
      "    ValueError\n",
      "        If the last dimension of `a` is not the same size as\n",
      "        the second-to-last dimension of `b`.\n",
      "    \n",
      "    See Also\n",
      "    --------\n",
      "    vdot : Complex-conjugating dot product.\n",
      "    tensordot : Sum products over arbitrary axes.\n",
      "    einsum : Einstein summation convention.\n",
      "    matmul : '@' operator as method with out parameter.\n",
      "    linalg.multi_dot : Chained dot product.\n",
      "    \n",
      "    Examples\n",
      "    --------\n",
      "    >>> np.dot(3, 4)\n",
      "    12\n",
      "    \n",
      "    Neither argument is complex-conjugated:\n",
      "    \n",
      "    >>> np.dot([2j, 3j], [2j, 3j])\n",
      "    (-13+0j)\n",
      "    \n",
      "    For 2-D arrays it is the matrix product:\n",
      "    \n",
      "    >>> a = [[1, 0], [0, 1]]\n",
      "    >>> b = [[4, 1], [2, 2]]\n",
      "    >>> np.dot(a, b)\n",
      "    array([[4, 1],\n",
      "           [2, 2]])\n",
      "    \n",
      "    >>> a = np.arange(3*4*5*6).reshape((3,4,5,6))\n",
      "    >>> b = np.arange(3*4*5*6)[::-1].reshape((5,4,6,3))\n",
      "    >>> np.dot(a, b)[2,3,2,1,2,2]\n",
      "    499128\n",
      "    >>> sum(a[2,3,2,:] * b[1,2,:,2])\n",
      "    499128\n",
      "\n"
     ]
    }
   ],
   "source": [
    "help(np.dot)"
   ]
  },
  {
   "cell_type": "code",
   "execution_count": null,
   "metadata": {},
   "outputs": [],
   "source": []
  }
 ],
 "metadata": {
  "kernelspec": {
   "display_name": "Python 3 (ipykernel)",
   "language": "python",
   "name": "python3"
  },
  "language_info": {
   "codemirror_mode": {
    "name": "ipython",
    "version": 3
   },
   "file_extension": ".py",
   "mimetype": "text/x-python",
   "name": "python",
   "nbconvert_exporter": "python",
   "pygments_lexer": "ipython3",
   "version": "3.8.5"
  },
  "vscode": {
   "interpreter": {
    "hash": "1f0e6d99f3103fd78365fe1cf7b2d51239fa0878786db9cbdfe89bc88a3151d3"
   }
  }
 },
 "nbformat": 4,
 "nbformat_minor": 4
}
